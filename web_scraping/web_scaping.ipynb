{
 "cells": [
  {
   "attachments": {},
   "cell_type": "markdown",
   "metadata": {},
   "source": [
    "### 1. read JSON file and select the reviews from one hotel and convert it to a dataframe\n"
   ]
  },
  {
   "cell_type": "code",
   "execution_count": null,
   "metadata": {},
   "outputs": [],
   "source": [
    "import pandas as pd\n",
    "\n",
    "# Read JSON file into a DataFrame\n",
    "with open('scraped_data_5.json', 'r') as f:\n",
    "    df = pd.read_json(f)\n",
    "\n",
    "# get all the business names to a list\n",
    "business_names = df['business_name'].tolist()\n",
    "\"\"\"\n",
    "business_names =\n",
    "['Holiday Inn Express Singapore Katong, an IHG Hotel',\n",
    " 'Ibis Budget Singapore Pearl',\n",
    " 'ibis Styles Singapore Albert',\n",
    " 'Village Hotel Albert Court by Far East Hospitality',\n",
    " 'lyf Farrer Park Singapore']\n",
    " \n",
    " \"\"\"\n",
    "# a function to pick one hotel and its reviews\n",
    "def get_hotel_reviews(df, hotel_name):\n",
    "    # Get the row of the DataFrame where the 'business_name' column is equal to the hotel_name\n",
    "    hotel_df = df[df['business_name'] == hotel_name]\n",
    "\n",
    "    # Get the review list from that hotel: reviews column first row\n",
    "    reviews = hotel_df['reviews'].iloc[0]\n",
    "\n",
    "    # Merge all rows of the 'reviews' column into one list\n",
    "    reviews_list = [review for review in reviews]\n",
    "\n",
    "    # Create a DataFrame from the list of dictionaries\n",
    "    review_df = pd.DataFrame(reviews_list)\n",
    "\n",
    "    #only keep 3 columns we needed, and rename the columns 'Negative_Review', 'Positive_Review', 'Review_Date',\n",
    "    reviews_df_clean = review_df[['review_date', 'review_liked', 'review_disliked']]\n",
    "    reviews_df_clean = reviews_df_clean.rename(columns={'review_date': 'Review_Date', 'review_liked': 'Positive_Review', 'review_disliked': 'Negative_Review'})\n",
    "\n",
    "    reviews_df_clean['Hotel_Name'] = 'lyf Farrer Park Singapore'\n",
    "\n",
    "    print(f\"Created DataFrame with {len(reviews_df_clean)} rows.\")\n",
    "    # Return the DataFrame of reviews\n",
    "    return reviews_df_clean\n",
    "\n",
    "# Get the reviews for the 'lyf Farrer Park Singapore' hotel\n",
    "review_df = get_hotel_reviews(df, 'lyf Farrer Park Singapore')\n",
    "review_df.head()"
   ]
  }
 ],
 "metadata": {
  "kernelspec": {
   "display_name": "Python 3",
   "language": "python",
   "name": "python3"
  },
  "language_info": {
   "codemirror_mode": {
    "name": "ipython",
    "version": 3
   },
   "file_extension": ".py",
   "mimetype": "text/x-python",
   "name": "python",
   "nbconvert_exporter": "python",
   "pygments_lexer": "ipython3",
   "version": "3.10.6"
  },
  "orig_nbformat": 4
 },
 "nbformat": 4,
 "nbformat_minor": 2
}
