{
 "cells": [
  {
   "attachments": {},
   "cell_type": "markdown",
   "metadata": {},
   "source": [
    "### 1. read JSON file(test data) and select the reviews from one hotel and convert it to a dataframe\n"
   ]
  },
  {
   "cell_type": "code",
   "execution_count": 32,
   "metadata": {},
   "outputs": [],
   "source": [
    "import pandas as pd\n",
    "\n",
    "test_data_path = 'scraped_data_5.json' # test data json file path\n",
    "\n",
    "# String to make the review text invalid\n",
    "# Positive_Review: invalid reviews are with the following strings:\n",
    "test_pos_invalid_content = 'there are no comments available for this review|everything'\n",
    "# Negative_Review: invalid reviews are with the following strings:\n",
    "test_neg_invalid_content = 'nothing|n/a|none'\n",
    "\n",
    "# Read JSON file into a DataFrame\n",
    "with open(test_data_path, 'r') as f:\n",
    "    df = pd.read_json(f)\n"
   ]
  },
  {
   "cell_type": "code",
   "execution_count": 33,
   "metadata": {},
   "outputs": [],
   "source": [
    "\n",
    "# a function to get all reviews from one hotel\n",
    "def get_hotel_reviews(df, hotel_name):\n",
    "    # Get the row of the DataFrame where the 'business_name' column is equal to the hotel_name\n",
    "    hotel_df = df[df['business_name'] == hotel_name]\n",
    "\n",
    "    # Get the review list from that hotel: reviews column first row\n",
    "    reviews = hotel_df['reviews'].iloc[0]\n",
    "\n",
    "    # Merge all rows of the 'reviews' column into one list\n",
    "    reviews_list = [review for review in reviews]\n",
    "\n",
    "    # Create a DataFrame from the list of dictionaries\n",
    "    review_df = pd.DataFrame(reviews_list)\n",
    "\n",
    "    #only keep 3 columns we needed, and rename the columns 'Negative_Review', 'Positive_Review', 'Review_Date',\n",
    "    reviews_df_clean = review_df[['review_date', 'review_liked', 'review_disliked']]\n",
    "    reviews_df_clean = reviews_df_clean.rename(columns={'review_date': 'Review_Date', 'review_liked': 'Positive_Review', 'review_disliked': 'Negative_Review'})\n",
    "\n",
    "    # Add the 'Hotel_Name' column to the DataFrame\n",
    "    reviews_df_clean['Hotel_Name'] = hotel_name\n",
    "\n",
    "    # Move the 'Hotel_Name' column to the front of the DataFrame\n",
    "    hotel_name_col = reviews_df_clean.pop('Hotel_Name')\n",
    "    reviews_df_clean.insert(0, 'Hotel_Name', hotel_name_col)\n",
    "\n",
    "    print(f\"Created DataFrame with {len(reviews_df_clean)} rows.\")\n",
    "    # Return the DataFrame of reviews\n",
    "    return reviews_df_clean\n"
   ]
  },
  {
   "cell_type": "code",
   "execution_count": 34,
   "metadata": {},
   "outputs": [
    {
     "name": "stdout",
     "output_type": "stream",
     "text": [
      "Created DataFrame with 1623 rows.\n"
     ]
    },
    {
     "data": {
      "text/html": [
       "<div>\n",
       "<style scoped>\n",
       "    .dataframe tbody tr th:only-of-type {\n",
       "        vertical-align: middle;\n",
       "    }\n",
       "\n",
       "    .dataframe tbody tr th {\n",
       "        vertical-align: top;\n",
       "    }\n",
       "\n",
       "    .dataframe thead th {\n",
       "        text-align: right;\n",
       "    }\n",
       "</style>\n",
       "<table border=\"1\" class=\"dataframe\">\n",
       "  <thead>\n",
       "    <tr style=\"text-align: right;\">\n",
       "      <th></th>\n",
       "      <th>Hotel_Name</th>\n",
       "      <th>Review_Date</th>\n",
       "      <th>Positive_Review</th>\n",
       "      <th>Negative_Review</th>\n",
       "    </tr>\n",
       "  </thead>\n",
       "  <tbody>\n",
       "    <tr>\n",
       "      <th>0</th>\n",
       "      <td>lyf Farrer Park Singapore</td>\n",
       "      <td>May 26, 2023</td>\n",
       "      <td>The ease of the stay, from check in to check o...</td>\n",
       "      <td>Having to leave 😭</td>\n",
       "    </tr>\n",
       "    <tr>\n",
       "      <th>1</th>\n",
       "      <td>lyf Farrer Park Singapore</td>\n",
       "      <td>June 24, 2023</td>\n",
       "      <td>Great location, supermarket in front and a lot...</td>\n",
       "      <td>The neighbors were to noisy at midnight, screa...</td>\n",
       "    </tr>\n",
       "    <tr>\n",
       "      <th>2</th>\n",
       "      <td>lyf Farrer Park Singapore</td>\n",
       "      <td>June 22, 2023</td>\n",
       "      <td>Location and gym.</td>\n",
       "      <td>Noisy at night. Some students stayed over, but...</td>\n",
       "    </tr>\n",
       "    <tr>\n",
       "      <th>3</th>\n",
       "      <td>lyf Farrer Park Singapore</td>\n",
       "      <td>June 22, 2023</td>\n",
       "      <td>Room is big, great view.</td>\n",
       "      <td>The bathroom layout gives no privacy at all. N...</td>\n",
       "    </tr>\n",
       "    <tr>\n",
       "      <th>4</th>\n",
       "      <td>lyf Farrer Park Singapore</td>\n",
       "      <td>June 22, 2023</td>\n",
       "      <td>Location is excellent. Well withing the reach ...</td>\n",
       "      <td>I think the frequency and quality of cleaning ...</td>\n",
       "    </tr>\n",
       "  </tbody>\n",
       "</table>\n",
       "</div>"
      ],
      "text/plain": [
       "                  Hotel_Name    Review_Date  \\\n",
       "0  lyf Farrer Park Singapore   May 26, 2023   \n",
       "1  lyf Farrer Park Singapore  June 24, 2023   \n",
       "2  lyf Farrer Park Singapore  June 22, 2023   \n",
       "3  lyf Farrer Park Singapore  June 22, 2023   \n",
       "4  lyf Farrer Park Singapore  June 22, 2023   \n",
       "\n",
       "                                     Positive_Review  \\\n",
       "0  The ease of the stay, from check in to check o...   \n",
       "1  Great location, supermarket in front and a lot...   \n",
       "2                                  Location and gym.   \n",
       "3                           Room is big, great view.   \n",
       "4  Location is excellent. Well withing the reach ...   \n",
       "\n",
       "                                     Negative_Review  \n",
       "0                                  Having to leave 😭  \n",
       "1  The neighbors were to noisy at midnight, screa...  \n",
       "2  Noisy at night. Some students stayed over, but...  \n",
       "3  The bathroom layout gives no privacy at all. N...  \n",
       "4  I think the frequency and quality of cleaning ...  "
      ]
     },
     "execution_count": 34,
     "metadata": {},
     "output_type": "execute_result"
    }
   ],
   "source": [
    "### Test the function ###\n",
    "# Get the reviews for the 'lyf Farrer Park Singapore' hotel\n",
    "review_df = get_hotel_reviews(df, 'lyf Farrer Park Singapore')\n",
    "review_df.head()"
   ]
  },
  {
   "cell_type": "code",
   "execution_count": 53,
   "metadata": {},
   "outputs": [
    {
     "data": {
      "text/plain": [
       "'The bathroom layout gives no privacy at all. No place to hang clothes when showering. Not a good room if you are sharing with another but I am staying alone not a problem.'"
      ]
     },
     "execution_count": 53,
     "metadata": {},
     "output_type": "execute_result"
    }
   ],
   "source": [
    "review_df['Negative_Review'].iloc[3]"
   ]
  },
  {
   "cell_type": "code",
   "execution_count": 35,
   "metadata": {},
   "outputs": [],
   "source": [
    "# define a function to loop through the hotel to get the reviews for a df from hotel json file \n",
    "def get_all_hotel_reviews(df):\n",
    "    # get all the business names(hotel name) to a list\n",
    "    business_names = df['business_name'].tolist()\n",
    "\n",
    "    result_df= pd.DataFrame()\n",
    "    for hotel_name in business_names:\n",
    "\n",
    "        #get the reviews for the hotel\n",
    "        review_df = get_hotel_reviews(df, hotel_name)\n",
    "\n",
    "        # concatenate the two dataframes along the rows\n",
    "        result_df = pd.concat([result_df, review_df])\n",
    "        print(result_df.tail(2))\n",
    "    \n",
    "    return result_df\n",
    "\n",
    "  \n"
   ]
  },
  {
   "cell_type": "code",
   "execution_count": null,
   "metadata": {},
   "outputs": [],
   "source": [
    "### test the function ###\n",
    "result_df = get_all_hotel_reviews(df)  \n",
    "result_df\n"
   ]
  },
  {
   "attachments": {},
   "cell_type": "markdown",
   "metadata": {},
   "source": [
    "### 2. clean the review text for testing data"
   ]
  },
  {
   "cell_type": "code",
   "execution_count": 60,
   "metadata": {},
   "outputs": [],
   "source": [
    "from langdetect import detect\n",
    "\n",
    "def detect_english(text):\n",
    "    try:\n",
    "        return detect(text) == 'en'\n",
    "    except:\n",
    "        return False\n"
   ]
  },
  {
   "cell_type": "code",
   "execution_count": 74,
   "metadata": {},
   "outputs": [
    {
     "data": {
      "text/plain": [
       "False"
      ]
     },
     "execution_count": 74,
     "metadata": {},
     "output_type": "execute_result"
    }
   ],
   "source": [
    "detect_english('Room is big, great view.')"
   ]
  },
  {
   "cell_type": "code",
   "execution_count": 58,
   "metadata": {},
   "outputs": [
    {
     "name": "stdout",
     "output_type": "stream",
     "text": [
      "Collecting textblob\n",
      "  Downloading textblob-0.17.1-py2.py3-none-any.whl (636 kB)\n",
      "\u001b[2K     \u001b[90m━━━━━━━━━━━━━━━━━━━━━━━━━━━━━━━━━━━━━━━\u001b[0m \u001b[32m636.8/636.8 kB\u001b[0m \u001b[31m8.0 MB/s\u001b[0m eta \u001b[36m0:00:00\u001b[0m00:01\u001b[0m00:01\u001b[0m\n",
      "\u001b[?25hRequirement already satisfied: nltk>=3.1 in /Users/zengsheng/.pyenv/versions/3.10.6/envs/lewagon/lib/python3.10/site-packages (from textblob) (3.7)\n",
      "Requirement already satisfied: click in /Users/zengsheng/.pyenv/versions/3.10.6/envs/lewagon/lib/python3.10/site-packages (from nltk>=3.1->textblob) (8.1.3)\n",
      "Requirement already satisfied: joblib in /Users/zengsheng/.pyenv/versions/3.10.6/envs/lewagon/lib/python3.10/site-packages (from nltk>=3.1->textblob) (1.1.1)\n",
      "Requirement already satisfied: regex>=2021.8.3 in /Users/zengsheng/.pyenv/versions/3.10.6/envs/lewagon/lib/python3.10/site-packages (from nltk>=3.1->textblob) (2022.9.13)\n",
      "Requirement already satisfied: tqdm in /Users/zengsheng/.pyenv/versions/3.10.6/envs/lewagon/lib/python3.10/site-packages (from nltk>=3.1->textblob) (4.64.1)\n",
      "Installing collected packages: textblob\n",
      "Successfully installed textblob-0.17.1\n"
     ]
    }
   ],
   "source": [
    "!pip install -U textblob"
   ]
  },
  {
   "cell_type": "code",
   "execution_count": 59,
   "metadata": {},
   "outputs": [
    {
     "ename": "HTTPError",
     "evalue": "HTTP Error 400: Bad Request",
     "output_type": "error",
     "traceback": [
      "\u001b[0;31m---------------------------------------------------------------------------\u001b[0m",
      "\u001b[0;31mHTTPError\u001b[0m                                 Traceback (most recent call last)",
      "\u001b[1;32m/Users/zengsheng/code/TechLah/RevuSum/web_scraping/test_data_read_clean.ipynb Cell 10\u001b[0m in \u001b[0;36m1\n\u001b[1;32m      <a href='vscode-notebook-cell:/Users/zengsheng/code/TechLah/RevuSum/web_scraping/test_data_read_clean.ipynb#X23sZmlsZQ%3D%3D?line=7'>8</a>\u001b[0m lang \u001b[39m=\u001b[39m TextBlob(text)\n\u001b[1;32m     <a href='vscode-notebook-cell:/Users/zengsheng/code/TechLah/RevuSum/web_scraping/test_data_read_clean.ipynb#X23sZmlsZQ%3D%3D?line=9'>10</a>\u001b[0m \u001b[39m# Detect the language of the text using the detect_language method\u001b[39;00m\n\u001b[0;32m---> <a href='vscode-notebook-cell:/Users/zengsheng/code/TechLah/RevuSum/web_scraping/test_data_read_clean.ipynb#X23sZmlsZQ%3D%3D?line=10'>11</a>\u001b[0m language \u001b[39m=\u001b[39m lang\u001b[39m.\u001b[39;49mdetect_language()\n\u001b[1;32m     <a href='vscode-notebook-cell:/Users/zengsheng/code/TechLah/RevuSum/web_scraping/test_data_read_clean.ipynb#X23sZmlsZQ%3D%3D?line=12'>13</a>\u001b[0m \u001b[39m# Print the detected language\u001b[39;00m\n\u001b[1;32m     <a href='vscode-notebook-cell:/Users/zengsheng/code/TechLah/RevuSum/web_scraping/test_data_read_clean.ipynb#X23sZmlsZQ%3D%3D?line=13'>14</a>\u001b[0m \u001b[39mprint\u001b[39m(language)\n",
      "File \u001b[0;32m~/.pyenv/versions/lewagon/lib/python3.10/site-packages/textblob/blob.py:597\u001b[0m, in \u001b[0;36mBaseBlob.detect_language\u001b[0;34m(self)\u001b[0m\n\u001b[1;32m    572\u001b[0m \u001b[39m\"\"\"Detect the blob's language using the Google Translate API.\u001b[39;00m\n\u001b[1;32m    573\u001b[0m \n\u001b[1;32m    574\u001b[0m \u001b[39mRequires an internet connection.\u001b[39;00m\n\u001b[0;32m   (...)\u001b[0m\n\u001b[1;32m    590\u001b[0m \u001b[39m:rtype: str\u001b[39;00m\n\u001b[1;32m    591\u001b[0m \u001b[39m\"\"\"\u001b[39;00m\n\u001b[1;32m    592\u001b[0m warnings\u001b[39m.\u001b[39mwarn(\n\u001b[1;32m    593\u001b[0m     \u001b[39m'\u001b[39m\u001b[39mTextBlob.detext_translate is deprecated and will be removed in a future release. \u001b[39m\u001b[39m'\u001b[39m\n\u001b[1;32m    594\u001b[0m     \u001b[39m'\u001b[39m\u001b[39mUse the official Google Translate API instead.\u001b[39m\u001b[39m'\u001b[39m,\n\u001b[1;32m    595\u001b[0m     \u001b[39mDeprecationWarning\u001b[39;00m\n\u001b[1;32m    596\u001b[0m )\n\u001b[0;32m--> 597\u001b[0m \u001b[39mreturn\u001b[39;00m \u001b[39mself\u001b[39;49m\u001b[39m.\u001b[39;49mtranslator\u001b[39m.\u001b[39;49mdetect(\u001b[39mself\u001b[39;49m\u001b[39m.\u001b[39;49mraw)\n",
      "File \u001b[0;32m~/.pyenv/versions/lewagon/lib/python3.10/site-packages/textblob/translate.py:76\u001b[0m, in \u001b[0;36mTranslator.detect\u001b[0;34m(self, source, host, type_)\u001b[0m\n\u001b[1;32m     70\u001b[0m data \u001b[39m=\u001b[39m {\u001b[39m\"\u001b[39m\u001b[39mq\u001b[39m\u001b[39m\"\u001b[39m: source}\n\u001b[1;32m     71\u001b[0m url \u001b[39m=\u001b[39m \u001b[39mu\u001b[39m\u001b[39m'\u001b[39m\u001b[39m{url}\u001b[39;00m\u001b[39m&sl=auto&tk=\u001b[39m\u001b[39m{tk}\u001b[39;00m\u001b[39m&client=\u001b[39m\u001b[39m{client}\u001b[39;00m\u001b[39m'\u001b[39m\u001b[39m.\u001b[39mformat(\n\u001b[1;32m     72\u001b[0m     url\u001b[39m=\u001b[39m\u001b[39mself\u001b[39m\u001b[39m.\u001b[39murl,\n\u001b[1;32m     73\u001b[0m     tk\u001b[39m=\u001b[39m_calculate_tk(source),\n\u001b[1;32m     74\u001b[0m     client\u001b[39m=\u001b[39m\u001b[39m\"\u001b[39m\u001b[39mte\u001b[39m\u001b[39m\"\u001b[39m,\n\u001b[1;32m     75\u001b[0m )\n\u001b[0;32m---> 76\u001b[0m response \u001b[39m=\u001b[39m \u001b[39mself\u001b[39;49m\u001b[39m.\u001b[39;49m_request(url, host\u001b[39m=\u001b[39;49mhost, type_\u001b[39m=\u001b[39;49mtype_, data\u001b[39m=\u001b[39;49mdata)\n\u001b[1;32m     77\u001b[0m result, language \u001b[39m=\u001b[39m json\u001b[39m.\u001b[39mloads(response)\n\u001b[1;32m     78\u001b[0m \u001b[39mreturn\u001b[39;00m language\n",
      "File \u001b[0;32m~/.pyenv/versions/lewagon/lib/python3.10/site-packages/textblob/translate.py:96\u001b[0m, in \u001b[0;36mTranslator._request\u001b[0;34m(self, url, host, type_, data)\u001b[0m\n\u001b[1;32m     94\u001b[0m \u001b[39mif\u001b[39;00m host \u001b[39mor\u001b[39;00m type_:\n\u001b[1;32m     95\u001b[0m     req\u001b[39m.\u001b[39mset_proxy(host\u001b[39m=\u001b[39mhost, \u001b[39mtype\u001b[39m\u001b[39m=\u001b[39mtype_)\n\u001b[0;32m---> 96\u001b[0m resp \u001b[39m=\u001b[39m request\u001b[39m.\u001b[39;49murlopen(req)\n\u001b[1;32m     97\u001b[0m content \u001b[39m=\u001b[39m resp\u001b[39m.\u001b[39mread()\n\u001b[1;32m     98\u001b[0m \u001b[39mreturn\u001b[39;00m content\u001b[39m.\u001b[39mdecode(\u001b[39m'\u001b[39m\u001b[39mutf-8\u001b[39m\u001b[39m'\u001b[39m)\n",
      "File \u001b[0;32m~/.pyenv/versions/3.10.6/lib/python3.10/urllib/request.py:216\u001b[0m, in \u001b[0;36murlopen\u001b[0;34m(url, data, timeout, cafile, capath, cadefault, context)\u001b[0m\n\u001b[1;32m    214\u001b[0m \u001b[39melse\u001b[39;00m:\n\u001b[1;32m    215\u001b[0m     opener \u001b[39m=\u001b[39m _opener\n\u001b[0;32m--> 216\u001b[0m \u001b[39mreturn\u001b[39;00m opener\u001b[39m.\u001b[39;49mopen(url, data, timeout)\n",
      "File \u001b[0;32m~/.pyenv/versions/3.10.6/lib/python3.10/urllib/request.py:525\u001b[0m, in \u001b[0;36mOpenerDirector.open\u001b[0;34m(self, fullurl, data, timeout)\u001b[0m\n\u001b[1;32m    523\u001b[0m \u001b[39mfor\u001b[39;00m processor \u001b[39min\u001b[39;00m \u001b[39mself\u001b[39m\u001b[39m.\u001b[39mprocess_response\u001b[39m.\u001b[39mget(protocol, []):\n\u001b[1;32m    524\u001b[0m     meth \u001b[39m=\u001b[39m \u001b[39mgetattr\u001b[39m(processor, meth_name)\n\u001b[0;32m--> 525\u001b[0m     response \u001b[39m=\u001b[39m meth(req, response)\n\u001b[1;32m    527\u001b[0m \u001b[39mreturn\u001b[39;00m response\n",
      "File \u001b[0;32m~/.pyenv/versions/3.10.6/lib/python3.10/urllib/request.py:634\u001b[0m, in \u001b[0;36mHTTPErrorProcessor.http_response\u001b[0;34m(self, request, response)\u001b[0m\n\u001b[1;32m    631\u001b[0m \u001b[39m# According to RFC 2616, \"2xx\" code indicates that the client's\u001b[39;00m\n\u001b[1;32m    632\u001b[0m \u001b[39m# request was successfully received, understood, and accepted.\u001b[39;00m\n\u001b[1;32m    633\u001b[0m \u001b[39mif\u001b[39;00m \u001b[39mnot\u001b[39;00m (\u001b[39m200\u001b[39m \u001b[39m<\u001b[39m\u001b[39m=\u001b[39m code \u001b[39m<\u001b[39m \u001b[39m300\u001b[39m):\n\u001b[0;32m--> 634\u001b[0m     response \u001b[39m=\u001b[39m \u001b[39mself\u001b[39;49m\u001b[39m.\u001b[39;49mparent\u001b[39m.\u001b[39;49merror(\n\u001b[1;32m    635\u001b[0m         \u001b[39m'\u001b[39;49m\u001b[39mhttp\u001b[39;49m\u001b[39m'\u001b[39;49m, request, response, code, msg, hdrs)\n\u001b[1;32m    637\u001b[0m \u001b[39mreturn\u001b[39;00m response\n",
      "File \u001b[0;32m~/.pyenv/versions/3.10.6/lib/python3.10/urllib/request.py:563\u001b[0m, in \u001b[0;36mOpenerDirector.error\u001b[0;34m(self, proto, *args)\u001b[0m\n\u001b[1;32m    561\u001b[0m \u001b[39mif\u001b[39;00m http_err:\n\u001b[1;32m    562\u001b[0m     args \u001b[39m=\u001b[39m (\u001b[39mdict\u001b[39m, \u001b[39m'\u001b[39m\u001b[39mdefault\u001b[39m\u001b[39m'\u001b[39m, \u001b[39m'\u001b[39m\u001b[39mhttp_error_default\u001b[39m\u001b[39m'\u001b[39m) \u001b[39m+\u001b[39m orig_args\n\u001b[0;32m--> 563\u001b[0m     \u001b[39mreturn\u001b[39;00m \u001b[39mself\u001b[39;49m\u001b[39m.\u001b[39;49m_call_chain(\u001b[39m*\u001b[39;49margs)\n",
      "File \u001b[0;32m~/.pyenv/versions/3.10.6/lib/python3.10/urllib/request.py:496\u001b[0m, in \u001b[0;36mOpenerDirector._call_chain\u001b[0;34m(self, chain, kind, meth_name, *args)\u001b[0m\n\u001b[1;32m    494\u001b[0m \u001b[39mfor\u001b[39;00m handler \u001b[39min\u001b[39;00m handlers:\n\u001b[1;32m    495\u001b[0m     func \u001b[39m=\u001b[39m \u001b[39mgetattr\u001b[39m(handler, meth_name)\n\u001b[0;32m--> 496\u001b[0m     result \u001b[39m=\u001b[39m func(\u001b[39m*\u001b[39;49margs)\n\u001b[1;32m    497\u001b[0m     \u001b[39mif\u001b[39;00m result \u001b[39mis\u001b[39;00m \u001b[39mnot\u001b[39;00m \u001b[39mNone\u001b[39;00m:\n\u001b[1;32m    498\u001b[0m         \u001b[39mreturn\u001b[39;00m result\n",
      "File \u001b[0;32m~/.pyenv/versions/3.10.6/lib/python3.10/urllib/request.py:643\u001b[0m, in \u001b[0;36mHTTPDefaultErrorHandler.http_error_default\u001b[0;34m(self, req, fp, code, msg, hdrs)\u001b[0m\n\u001b[1;32m    642\u001b[0m \u001b[39mdef\u001b[39;00m \u001b[39mhttp_error_default\u001b[39m(\u001b[39mself\u001b[39m, req, fp, code, msg, hdrs):\n\u001b[0;32m--> 643\u001b[0m     \u001b[39mraise\u001b[39;00m HTTPError(req\u001b[39m.\u001b[39mfull_url, code, msg, hdrs, fp)\n",
      "\u001b[0;31mHTTPError\u001b[0m: HTTP Error 400: Bad Request"
     ]
    }
   ],
   "source": [
    "# Import the TextBlob class from the textblob library\n",
    "from textblob import TextBlob\n",
    "\n",
    "# Define the input text\n",
    "text = \"это компьютерный портал для гиков. It was a beautiful day .\"\n",
    "\n",
    "# Create a TextBlob object from the input text\n",
    "lang = TextBlob(text)\n",
    "\n",
    "# Detect the language of the text using the detect_language method\n",
    "language = lang.detect_language()\n",
    "\n",
    "# Print the detected language\n",
    "print(language)"
   ]
  },
  {
   "cell_type": "code",
   "execution_count": 70,
   "metadata": {},
   "outputs": [],
   "source": [
    "import numpy as np\n",
    "from langdetect import detect\n",
    "\n",
    "\n",
    "# define a function to check if a string is in English\n",
    "def is_english(text):\n",
    "    if not text: return True # an empty string is considered English\n",
    "    try:\n",
    "        lang = detect(text)\n",
    "        return lang == 'en'\n",
    "    except:\n",
    "        return False\n",
    "\n",
    "# define a function to do basic clean of the review text\n",
    "def clean_text(review_df, column_name, invalid_content_str):\n",
    "    # create the docstring for this function\n",
    "    \"\"\"\n",
    "    # Input:\n",
    "    # the review_df with 4 columns: 'Negative_Review', 'Positive_Review', 'Review_Date', 'Hotel_Name'\n",
    "    # column_name: 'Negative_Review' or 'Positive_Review'\n",
    "    # \n",
    "    # Output: \n",
    "    # a DataFrame with the same columns as review_df, but with invalid reviews removed\n",
    "    # \"\"\"\n",
    "\n",
    "    # filter out non-English reviews from the column\n",
    "    english_reviews = review_df[review_df[column_name].apply(is_english)]\n",
    "    english_reviews\n",
    "\n",
    "    # convert to lowercase\n",
    "    english_reviews[column_name] = english_reviews[column_name].str.lower()\n",
    "\n",
    "    # apply strip() to remove leading and trailing whitespaces\n",
    "    english_reviews[column_name] = english_reviews[column_name].apply(lambda x: x.strip())\n",
    "\n",
    "    # if the text contain invalid_content_str, replace the text with NAN\n",
    "    english_reviews.loc[english_reviews[column_name].str.contains(invalid_content_str, case=False), column_name] = np.nan\n",
    "\n",
    "    # if the text is empty, replace the text with NAN\n",
    "    english_reviews.loc[english_reviews[column_name] == '', column_name] = np.nan  \n",
    "\n",
    "    return english_reviews\n",
    "\n",
    "# define a function to clean the review text from one hotel dateframe(testing data)\n",
    "def clean_hotel_reviews(review_df, test_pos_invalid_content, test_neg_invalid_content):\n",
    "    # clean the positive reviews\n",
    "    print(review_df['Negative_Review'].iloc[3])\n",
    "    cleaned_pos_df = clean_text(review_df, 'Positive_Review', test_pos_invalid_content)\n",
    "    print(cleaned_pos_df['Negative_Review'].iloc[3])\n",
    "    # clean the negative reviews\n",
    "    cleaned_neg_df = clean_text(cleaned_pos_df, 'Negative_Review', test_neg_invalid_content)\n",
    "    print(cleaned_neg_df['Negative_Review'].iloc[3])\n",
    "    return cleaned_neg_df\n",
    "\n",
    "    \n",
    "\n"
   ]
  },
  {
   "cell_type": "code",
   "execution_count": 71,
   "metadata": {},
   "outputs": [
    {
     "name": "stdout",
     "output_type": "stream",
     "text": [
      "The bathroom layout gives no privacy at all. No place to hang clothes when showering. Not a good room if you are sharing with another but I am staying alone not a problem.\n",
      "I think the frequency and quality of cleaning could be better.\n",
      "i think the frequency and quality of cleaning could be better.\n"
     ]
    },
    {
     "name": "stderr",
     "output_type": "stream",
     "text": [
      "/var/folders/w2/5y09ynfn1dn9nzmzn5n1b4740000gp/T/ipykernel_19133/44109016.py:31: SettingWithCopyWarning: \n",
      "A value is trying to be set on a copy of a slice from a DataFrame.\n",
      "Try using .loc[row_indexer,col_indexer] = value instead\n",
      "\n",
      "See the caveats in the documentation: https://pandas.pydata.org/pandas-docs/stable/user_guide/indexing.html#returning-a-view-versus-a-copy\n",
      "  english_reviews[column_name] = english_reviews[column_name].str.lower()\n",
      "/var/folders/w2/5y09ynfn1dn9nzmzn5n1b4740000gp/T/ipykernel_19133/44109016.py:34: SettingWithCopyWarning: \n",
      "A value is trying to be set on a copy of a slice from a DataFrame.\n",
      "Try using .loc[row_indexer,col_indexer] = value instead\n",
      "\n",
      "See the caveats in the documentation: https://pandas.pydata.org/pandas-docs/stable/user_guide/indexing.html#returning-a-view-versus-a-copy\n",
      "  english_reviews[column_name] = english_reviews[column_name].apply(lambda x: x.strip())\n"
     ]
    },
    {
     "data": {
      "text/html": [
       "<div>\n",
       "<style scoped>\n",
       "    .dataframe tbody tr th:only-of-type {\n",
       "        vertical-align: middle;\n",
       "    }\n",
       "\n",
       "    .dataframe tbody tr th {\n",
       "        vertical-align: top;\n",
       "    }\n",
       "\n",
       "    .dataframe thead th {\n",
       "        text-align: right;\n",
       "    }\n",
       "</style>\n",
       "<table border=\"1\" class=\"dataframe\">\n",
       "  <thead>\n",
       "    <tr style=\"text-align: right;\">\n",
       "      <th></th>\n",
       "      <th>Hotel_Name</th>\n",
       "      <th>Review_Date</th>\n",
       "      <th>Positive_Review</th>\n",
       "      <th>Negative_Review</th>\n",
       "    </tr>\n",
       "  </thead>\n",
       "  <tbody>\n",
       "    <tr>\n",
       "      <th>0</th>\n",
       "      <td>lyf Farrer Park Singapore</td>\n",
       "      <td>May 26, 2023</td>\n",
       "      <td>the ease of the stay, from check in to check o...</td>\n",
       "      <td>having to leave 😭</td>\n",
       "    </tr>\n",
       "    <tr>\n",
       "      <th>1</th>\n",
       "      <td>lyf Farrer Park Singapore</td>\n",
       "      <td>June 24, 2023</td>\n",
       "      <td>great location, supermarket in front and a lot...</td>\n",
       "      <td>the neighbors were to noisy at midnight, screa...</td>\n",
       "    </tr>\n",
       "    <tr>\n",
       "      <th>2</th>\n",
       "      <td>lyf Farrer Park Singapore</td>\n",
       "      <td>June 22, 2023</td>\n",
       "      <td>location and gym.</td>\n",
       "      <td>noisy at night. some students stayed over, but...</td>\n",
       "    </tr>\n",
       "    <tr>\n",
       "      <th>4</th>\n",
       "      <td>lyf Farrer Park Singapore</td>\n",
       "      <td>June 22, 2023</td>\n",
       "      <td>location is excellent. well withing the reach ...</td>\n",
       "      <td>i think the frequency and quality of cleaning ...</td>\n",
       "    </tr>\n",
       "  </tbody>\n",
       "</table>\n",
       "</div>"
      ],
      "text/plain": [
       "                  Hotel_Name    Review_Date  \\\n",
       "0  lyf Farrer Park Singapore   May 26, 2023   \n",
       "1  lyf Farrer Park Singapore  June 24, 2023   \n",
       "2  lyf Farrer Park Singapore  June 22, 2023   \n",
       "4  lyf Farrer Park Singapore  June 22, 2023   \n",
       "\n",
       "                                     Positive_Review  \\\n",
       "0  the ease of the stay, from check in to check o...   \n",
       "1  great location, supermarket in front and a lot...   \n",
       "2                                  location and gym.   \n",
       "4  location is excellent. well withing the reach ...   \n",
       "\n",
       "                                     Negative_Review  \n",
       "0                                  having to leave 😭  \n",
       "1  the neighbors were to noisy at midnight, screa...  \n",
       "2  noisy at night. some students stayed over, but...  \n",
       "4  i think the frequency and quality of cleaning ...  "
      ]
     },
     "execution_count": 71,
     "metadata": {},
     "output_type": "execute_result"
    }
   ],
   "source": [
    "### test the function ###\n",
    "cleaned_review_df = clean_hotel_reviews(review_df.head(6), test_pos_invalid_content, test_neg_invalid_content)\n",
    "cleaned_review_df"
   ]
  },
  {
   "cell_type": "code",
   "execution_count": 72,
   "metadata": {},
   "outputs": [
    {
     "data": {
      "text/plain": [
       "'Room is big, great view.'"
      ]
     },
     "execution_count": 72,
     "metadata": {},
     "output_type": "execute_result"
    }
   ],
   "source": [
    "review_df['Positive_Review'].iloc[3]\n"
   ]
  },
  {
   "cell_type": "code",
   "execution_count": 40,
   "metadata": {},
   "outputs": [
    {
     "name": "stdout",
     "output_type": "stream",
     "text": [
      "<class 'pandas.core.frame.DataFrame'>\n",
      "Int64Index: 3014 entries, 1 to 1622\n",
      "Data columns (total 4 columns):\n",
      " #   Column           Non-Null Count  Dtype \n",
      "---  ------           --------------  ----- \n",
      " 0   Hotel_Name       3014 non-null   object\n",
      " 1   Review_Date      3014 non-null   object\n",
      " 2   Positive_Review  1063 non-null   object\n",
      " 3   Negative_Review  750 non-null    object\n",
      "dtypes: object(4)\n",
      "memory usage: 117.7+ KB\n"
     ]
    }
   ],
   "source": [
    "cleaned_review_df.info()"
   ]
  },
  {
   "attachments": {},
   "cell_type": "markdown",
   "metadata": {},
   "source": [
    "### 4. Save the df to pickle file"
   ]
  },
  {
   "cell_type": "code",
   "execution_count": 41,
   "metadata": {},
   "outputs": [],
   "source": [
    "import pickle\n",
    "# define a function to save the cleaned dataframe to a pickle file\n",
    "def save_to_pickle(df, file_name):    \n",
    "    with open(f'{file_name}.pkl', 'wb') as file:\n",
    "        pickle.dump(df, file)\n",
    "\n",
    "\n",
    "    "
   ]
  },
  {
   "cell_type": "code",
   "execution_count": 42,
   "metadata": {},
   "outputs": [],
   "source": [
    "#save the cleaned reviews to a pickle file -'cleaned_test_data_5.pkl'\n",
    "save_to_pickle(result_df, 'cleaned_test_data_5')"
   ]
  },
  {
   "cell_type": "code",
   "execution_count": 43,
   "metadata": {},
   "outputs": [
    {
     "data": {
      "text/html": [
       "<div>\n",
       "<style scoped>\n",
       "    .dataframe tbody tr th:only-of-type {\n",
       "        vertical-align: middle;\n",
       "    }\n",
       "\n",
       "    .dataframe tbody tr th {\n",
       "        vertical-align: top;\n",
       "    }\n",
       "\n",
       "    .dataframe thead th {\n",
       "        text-align: right;\n",
       "    }\n",
       "</style>\n",
       "<table border=\"1\" class=\"dataframe\">\n",
       "  <thead>\n",
       "    <tr style=\"text-align: right;\">\n",
       "      <th></th>\n",
       "      <th>Hotel_Name</th>\n",
       "      <th>Review_Date</th>\n",
       "      <th>Positive_Review</th>\n",
       "      <th>Negative_Review</th>\n",
       "    </tr>\n",
       "  </thead>\n",
       "  <tbody>\n",
       "    <tr>\n",
       "      <th>0</th>\n",
       "      <td>Holiday Inn Express Singapore Katong, an IHG H...</td>\n",
       "      <td>June 17, 2023</td>\n",
       "      <td>Customer Service,  Accommodation,  facilities ...</td>\n",
       "      <td>Nil</td>\n",
       "    </tr>\n",
       "    <tr>\n",
       "      <th>1</th>\n",
       "      <td>Holiday Inn Express Singapore Katong, an IHG H...</td>\n",
       "      <td>June 24, 2023</td>\n",
       "      <td>The room was cozy, the staff were friendly and...</td>\n",
       "      <td>The day curtain could not close completely, me...</td>\n",
       "    </tr>\n",
       "    <tr>\n",
       "      <th>2</th>\n",
       "      <td>Holiday Inn Express Singapore Katong, an IHG H...</td>\n",
       "      <td>June 24, 2023</td>\n",
       "      <td>The hotel was comfortable with quality beds an...</td>\n",
       "      <td>Nothing</td>\n",
       "    </tr>\n",
       "    <tr>\n",
       "      <th>3</th>\n",
       "      <td>Holiday Inn Express Singapore Katong, an IHG H...</td>\n",
       "      <td>June 24, 2023</td>\n",
       "      <td>Just awesome. \\nI was in trouble to printed ou...</td>\n",
       "      <td></td>\n",
       "    </tr>\n",
       "    <tr>\n",
       "      <th>4</th>\n",
       "      <td>Holiday Inn Express Singapore Katong, an IHG H...</td>\n",
       "      <td>June 24, 2023</td>\n",
       "      <td>The breakfast was OK. However, it was botherso...</td>\n",
       "      <td></td>\n",
       "    </tr>\n",
       "    <tr>\n",
       "      <th>...</th>\n",
       "      <td>...</td>\n",
       "      <td>...</td>\n",
       "      <td>...</td>\n",
       "      <td>...</td>\n",
       "    </tr>\n",
       "    <tr>\n",
       "      <th>1618</th>\n",
       "      <td>lyf Farrer Park Singapore</td>\n",
       "      <td>March 22, 2023</td>\n",
       "      <td>There are no comments available for this review</td>\n",
       "      <td></td>\n",
       "    </tr>\n",
       "    <tr>\n",
       "      <th>1619</th>\n",
       "      <td>lyf Farrer Park Singapore</td>\n",
       "      <td>March 6, 2023</td>\n",
       "      <td>There are no comments available for this review</td>\n",
       "      <td></td>\n",
       "    </tr>\n",
       "    <tr>\n",
       "      <th>1620</th>\n",
       "      <td>lyf Farrer Park Singapore</td>\n",
       "      <td>January 26, 2023</td>\n",
       "      <td>There are no comments available for this review</td>\n",
       "      <td></td>\n",
       "    </tr>\n",
       "    <tr>\n",
       "      <th>1621</th>\n",
       "      <td>lyf Farrer Park Singapore</td>\n",
       "      <td>December 20, 2022</td>\n",
       "      <td>There are no comments available for this review</td>\n",
       "      <td></td>\n",
       "    </tr>\n",
       "    <tr>\n",
       "      <th>1622</th>\n",
       "      <td>lyf Farrer Park Singapore</td>\n",
       "      <td>November 26, 2022</td>\n",
       "      <td>There are no comments available for this review</td>\n",
       "      <td></td>\n",
       "    </tr>\n",
       "  </tbody>\n",
       "</table>\n",
       "<p>3591 rows × 4 columns</p>\n",
       "</div>"
      ],
      "text/plain": [
       "                                             Hotel_Name        Review_Date  \\\n",
       "0     Holiday Inn Express Singapore Katong, an IHG H...      June 17, 2023   \n",
       "1     Holiday Inn Express Singapore Katong, an IHG H...      June 24, 2023   \n",
       "2     Holiday Inn Express Singapore Katong, an IHG H...      June 24, 2023   \n",
       "3     Holiday Inn Express Singapore Katong, an IHG H...      June 24, 2023   \n",
       "4     Holiday Inn Express Singapore Katong, an IHG H...      June 24, 2023   \n",
       "...                                                 ...                ...   \n",
       "1618                          lyf Farrer Park Singapore     March 22, 2023   \n",
       "1619                          lyf Farrer Park Singapore      March 6, 2023   \n",
       "1620                          lyf Farrer Park Singapore   January 26, 2023   \n",
       "1621                          lyf Farrer Park Singapore  December 20, 2022   \n",
       "1622                          lyf Farrer Park Singapore  November 26, 2022   \n",
       "\n",
       "                                        Positive_Review  \\\n",
       "0     Customer Service,  Accommodation,  facilities ...   \n",
       "1     The room was cozy, the staff were friendly and...   \n",
       "2     The hotel was comfortable with quality beds an...   \n",
       "3     Just awesome. \\nI was in trouble to printed ou...   \n",
       "4     The breakfast was OK. However, it was botherso...   \n",
       "...                                                 ...   \n",
       "1618    There are no comments available for this review   \n",
       "1619    There are no comments available for this review   \n",
       "1620    There are no comments available for this review   \n",
       "1621    There are no comments available for this review   \n",
       "1622    There are no comments available for this review   \n",
       "\n",
       "                                        Negative_Review  \n",
       "0                                                   Nil  \n",
       "1     The day curtain could not close completely, me...  \n",
       "2                                               Nothing  \n",
       "3                                                        \n",
       "4                                                        \n",
       "...                                                 ...  \n",
       "1618                                                     \n",
       "1619                                                     \n",
       "1620                                                     \n",
       "1621                                                     \n",
       "1622                                                     \n",
       "\n",
       "[3591 rows x 4 columns]"
      ]
     },
     "execution_count": 43,
     "metadata": {},
     "output_type": "execute_result"
    }
   ],
   "source": [
    "# open the pickle file for reading\n",
    "with open('cleaned_test_data_5.pkl', 'rb') as file:\n",
    "    # load the data from the file\n",
    "    cleaned_test_data = pickle.load(file)\n",
    "\n",
    "# print the loaded data\n",
    "cleaned_test_data"
   ]
  }
 ],
 "metadata": {
  "kernelspec": {
   "display_name": "Python 3",
   "language": "python",
   "name": "python3"
  },
  "language_info": {
   "codemirror_mode": {
    "name": "ipython",
    "version": 3
   },
   "file_extension": ".py",
   "mimetype": "text/x-python",
   "name": "python",
   "nbconvert_exporter": "python",
   "pygments_lexer": "ipython3",
   "version": "3.10.6"
  },
  "orig_nbformat": 4
 },
 "nbformat": 4,
 "nbformat_minor": 2
}
