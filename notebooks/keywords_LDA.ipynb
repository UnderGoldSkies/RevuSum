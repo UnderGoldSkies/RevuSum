{
 "cells": [
  {
   "cell_type": "code",
   "execution_count": 1,
   "metadata": {},
   "outputs": [],
   "source": [
    "#import data from a csv file and store in a dataframe\n",
    "import pandas as pd\n",
    "df = pd.read_csv('../raw_data/Hotel_Reviews.csv')\n",
    "\n",
    "# merger two 'Negative_Review', 'Positive_Review' columns and save to a new column 'Reviews'\n",
    "df['Reviews'] = df['Negative_Review'] + df['Positive_Review']\n",
    "\n",
    "# get the X_train data, only one column 'Reviews'\n",
    "X_train = df['Reviews']\n"
   ]
  },
  {
   "cell_type": "code",
   "execution_count": null,
   "metadata": {},
   "outputs": [],
   "source": []
  },
  {
   "cell_type": "code",
   "execution_count": 3,
   "metadata": {},
   "outputs": [
    {
     "data": {
      "text/plain": [
       "((515738,), (515738, 18))"
      ]
     },
     "execution_count": 3,
     "metadata": {},
     "output_type": "execute_result"
    }
   ],
   "source": [
    "X_train.shape, df.shape"
   ]
  },
  {
   "cell_type": "code",
   "execution_count": 4,
   "metadata": {},
   "outputs": [],
   "source": [
    "from nltk.tokenize import word_tokenize\n",
    "from nltk.corpus import stopwords\n",
    "from nltk.stem import WordNetLemmatizer\n",
    "from collections import defaultdict\n",
    "\n",
    "stop_words = set(stopwords.words(\"english\"))\n",
    "# Convert set to list, remove 'again', and convert back to set\n",
    "word_list = list(stop_words)\n",
    "word_list.append('negative')\n",
    "stop_words = set(word_list)\n",
    "\n",
    "# Function to preprocess sentences\n",
    "def preprocess(sentences):\n",
    "    lemmatizer = WordNetLemmatizer()\n",
    "    word_frequencies = defaultdict(int)\n",
    "    for sentence in sentences:\n",
    "        words = word_tokenize(sentence.lower())\n",
    "        words = [lemmatizer.lemmatize(word) for word in words if word.isalnum()]\n",
    "        for word in words:\n",
    "            if word not in stop_words:\n",
    "                word_frequencies[word] += 1\n",
    "    return word_frequencies"
   ]
  },
  {
   "cell_type": "code",
   "execution_count": 5,
   "metadata": {},
   "outputs": [],
   "source": [
    "X_preprocessed = preprocess(X_train)"
   ]
  },
  {
   "cell_type": "code",
   "execution_count": 6,
   "metadata": {},
   "outputs": [],
   "source": [
    "# Latent Dirichlet Allocation(LDA) model\n",
    "\n",
    "from sklearn.decomposition import LatentDirichletAllocation\n",
    "from sklearn.feature_extraction.text import CountVectorizer\n",
    "\n",
    "vectorizer = CountVectorizer()\n",
    "\n",
    "data_vectorized = vectorizer.fit_transform(X_preprocessed)\n",
    "\n",
    "lda_model = LatentDirichletAllocation(n_components=2)\n",
    "\n",
    "lda_vectors = lda_model.fit_transform(data_vectorized)"
   ]
  },
  {
   "cell_type": "code",
   "execution_count": 7,
   "metadata": {},
   "outputs": [],
   "source": [
    "#Visualize potential topics\n",
    "#a function that prints the words associated with the potential topics.\n",
    "def print_topics(model, vectorizer):\n",
    "    for idx, topic in enumerate(model.components_):\n",
    "        print(\"Topic %d:\" % (idx))\n",
    "        print([(vectorizer.get_feature_names_out()[i], topic[i])\n",
    "                        for i in topic.argsort()[:-10 - 1:-1]])"
   ]
  },
  {
   "cell_type": "code",
   "execution_count": 8,
   "metadata": {},
   "outputs": [
    {
     "name": "stdout",
     "output_type": "stream",
     "text": [
      "Topic 0:\n",
      "[('fraudulent', 1.4767379919740853), ('canid', 1.4767379889367038), ('locatioin', 1.4767379804035135), ('beingva', 1.4767379758721062), ('touristed', 1.4767379700347414), ('nettet', 1.476737948201854), ('intence', 1.4767379387176947), ('otber', 1.476737936793093), ('908', 1.4767379353385723), ('botany', 1.4767379321897975)]\n",
      "Topic 1:\n",
      "[('extrememly', 1.4765976829346326), ('arriv', 1.4765976602245097), ('452', 1.4765976482030905), ('retuning', 1.4765976435568486), ('fnloor', 1.476597643510929), ('transpires', 1.4765976390709634), ('asterisk', 1.4765976353816783), ('2913', 1.4765976349007235), ('conevenient', 1.4765976248050152), ('gbp40', 1.4765976213280811)]\n"
     ]
    }
   ],
   "source": [
    "print_topics(lda_model, vectorizer)"
   ]
  },
  {
   "cell_type": "code",
   "execution_count": null,
   "metadata": {},
   "outputs": [],
   "source": [
    "# "
   ]
  }
 ],
 "metadata": {
  "kernelspec": {
   "display_name": "Python 3",
   "language": "python",
   "name": "python3"
  },
  "language_info": {
   "codemirror_mode": {
    "name": "ipython",
    "version": 3
   },
   "file_extension": ".py",
   "mimetype": "text/x-python",
   "name": "python",
   "nbconvert_exporter": "python",
   "pygments_lexer": "ipython3",
   "version": "3.10.6"
  },
  "orig_nbformat": 4
 },
 "nbformat": 4,
 "nbformat_minor": 2
}
