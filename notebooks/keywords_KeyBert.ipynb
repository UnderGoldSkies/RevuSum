{
 "cells": [
  {
   "cell_type": "code",
   "execution_count": null,
   "metadata": {},
   "outputs": [],
   "source": [
    "#import data from a csv file and store in a dataframe\n",
    "import pandas as pd\n",
    "df = pd.read_csv('../data/Hotel_Reviews.csv')\n",
    "\n",
    "\n",
    "\n",
    "df['Negative_Review'].isnull().sum(), df['Positive_Review'].isnull().sum()\n",
    "# Clean the reviews from the dataset\n",
    "#removing invalid ones, e.g. empty reviews, everything is good/bad and reviews with less than 10 characters\n",
    "# output the df with two new columns: 'Negative_clean' and 'Positive_clean'\n",
    "\n",
    "# process the Negative_Review column\n",
    "# strip() to remove leading and trailing whitespaces for one column of df\n",
    "import numpy as np\n",
    "\n",
    "#change data type to string for the column NegativeReview\n",
    "df['NegativeReview'] = df['Negative_Review'].astype(str)\n",
    "\n",
    "#show data type for the column NegativeReview\n",
    "print(type(df['NegativeReview'][0]))\n",
    "\n",
    "df['Negative_clean'] = df['NegativeReview'].apply(lambda x: x.strip())\n",
    "\n",
    "# if the text has less than 10 characters, replace the text with 'nothing' for the above column\n",
    "df.loc[df['Negative_clean'].str.len() < 10, 'Negative_clean'] = ' '\n",
    "\n",
    "# if the text has 'nothing' or 'everything' or 'anything' str in it regardless lower case, replace the text with 'nothing' for the above column\n",
    "df.loc[df['Negative_clean'].str.contains('nothing|everything|anything|No Negative', case=False), 'Negative_clean'] = ' '\n",
    "\n",
    "\n",
    "\n",
    "# if the text has 'nothing' or 'everything' or 'No Positive' str in it regardless lower case, replace the text with 'nothing' for the above column\n",
    "df.loc[df['Positive_clean'].str.contains('nothing|everything|No Positive', case=False), 'Positive_clean'] = ' '\n",
    "df['Positive_clean'].value_counts().head(30)\n"
   ]
  },
  {
   "cell_type": "code",
   "execution_count": null,
   "metadata": {},
   "outputs": [],
   "source": [
    "# check ' ' value for the new columns\n",
    "neg_invalid_count = df['Negative_clean'][df['Negative_clean']==\" \"].shape[0]\n",
    "pos_invalid_count = df['Positive_clean'][df['Positive_clean']==\" \"].shape[0]\n",
    "pos_invalid_count/len(df), neg_invalid_count/len(df)"
   ]
  },
  {
   "cell_type": "code",
   "execution_count": null,
   "metadata": {},
   "outputs": [],
   "source": [
    "# merger two 'Negative_clean', 'Positive_clean' columns and save to a new column 'Reviews', and save to a new column 'Reviews_clean'\n",
    "df['Reviews_clean'] = df['Negative_clean'] + df['Positive_clean']\n",
    "df['Reviews_clean']"
   ]
  },
  {
   "cell_type": "code",
   "execution_count": null,
   "metadata": {},
   "outputs": [],
   "source": [
    "df['Reviews_clean'].value_counts().head(10)\n",
    "\n"
   ]
  },
  {
   "cell_type": "code",
   "execution_count": null,
   "metadata": {},
   "outputs": [],
   "source": [
    "# if the value is ' ', drop the row\n",
    "df_new = df[df['Reviews_clean'] != '  '][['Reviews_clean']]\n",
    "df_new.shape"
   ]
  },
  {
   "cell_type": "code",
   "execution_count": null,
   "metadata": {},
   "outputs": [],
   "source": [
    "df_new.value_counts().head(30)"
   ]
  },
  {
   "cell_type": "code",
   "execution_count": null,
   "metadata": {},
   "outputs": [],
   "source": [
    "type(df_new)\n",
    "# the data is cleaned and ready for further analysis"
   ]
  },
  {
   "cell_type": "code",
   "execution_count": null,
   "metadata": {},
   "outputs": [],
   "source": [
    "# get the length of each string in column 'Reviews_clean'\n",
    "df_new['length'] = df_new['Reviews_clean'].str.len()\n",
    "\n",
    "df_new"
   ]
  },
  {
   "cell_type": "code",
   "execution_count": null,
   "metadata": {},
   "outputs": [],
   "source": [
    "#get the mean of the length, but should check the word count instead, can do it \n",
    "#by using nltk library\n",
    "df_new['length'].mean(), df_new['length'].median(), df_new['length'].max(), df_new['length'].min()"
   ]
  },
  {
   "cell_type": "code",
   "execution_count": null,
   "metadata": {},
   "outputs": [],
   "source": [
    "from keybert import KeyBERT\n",
    "from sentence_transformers import SentenceTransformer\n",
    "\n",
    "# function to get the keywords from the text using KeyBERT\n",
    "def keywords_extract(text):\n",
    "    sentence_model = SentenceTransformer(\"all-MiniLM-L6-v2\")\n",
    "    kw_model = KeyBERT(model=sentence_model)\n",
    "    keywords = kw_model.extract_keywords(text, keyphrase_ngram_range=(1, 1), stop_words='english', top_n=100)\n",
    "    return keywords\n",
    "\n",
    "doc = df_new['Reviews_clean'][1]\n",
    "\n",
    "\n",
    "keywords = keywords_extract(doc)\n",
    "keywords"
   ]
  },
  {
   "cell_type": "code",
   "execution_count": null,
   "metadata": {},
   "outputs": [],
   "source": [
    "test_df = df_new.head(2) "
   ]
  },
  {
   "cell_type": "code",
   "execution_count": null,
   "metadata": {},
   "outputs": [],
   "source": [
    "# get the list of keywords for each the review in the dataframe, append to a big list\n",
    "\n",
    "test_df['keywords'] = test_df.apply(lambda x: keywords_extract(x))\n"
   ]
  },
  {
   "cell_type": "code",
   "execution_count": null,
   "metadata": {},
   "outputs": [],
   "source": [
    "test_df"
   ]
  },
  {
   "cell_type": "code",
   "execution_count": null,
   "metadata": {},
   "outputs": [],
   "source": [
    "# flatten column 'keywords' to get a list of keywords\n",
    "list_list = test_df['keywords'].tolist()"
   ]
  },
  {
   "cell_type": "code",
   "execution_count": null,
   "metadata": {},
   "outputs": [],
   "source": [
    "# flatten the list of list\n",
    "one_list = [item for sublist in list_list for item in sublist]\n",
    "one_list\n"
   ]
  },
  {
   "cell_type": "code",
   "execution_count": null,
   "metadata": {},
   "outputs": [],
   "source": [
    "# convert the list to a DataFrame\n",
    "keyword_df = pd.DataFrame(one_list, columns=['keyword', 'score'])\n",
    "keyword_df"
   ]
  },
  {
   "cell_type": "code",
   "execution_count": null,
   "metadata": {},
   "outputs": [],
   "source": [
    "# get the top 10 keywords by groupby keyword and get the sum of the score\n",
    "keyword_df.groupby('keyword').sum().sort_values(by='score', ascending=False).head(10)\n",
    "\n",
    "\n"
   ]
  }
 ],
 "metadata": {
  "kernelspec": {
   "display_name": "Python 3",
   "language": "python",
   "name": "python3"
  },
  "language_info": {
   "codemirror_mode": {
    "name": "ipython",
    "version": 3
   },
   "file_extension": ".py",
   "mimetype": "text/x-python",
   "name": "python",
   "nbconvert_exporter": "python",
   "pygments_lexer": "ipython3",
   "version": "3.10.6"
  },
  "orig_nbformat": 4
 },
 "nbformat": 4,
 "nbformat_minor": 2
}
