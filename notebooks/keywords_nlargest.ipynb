{
 "cells": [
  {
   "cell_type": "code",
   "execution_count": 9,
   "metadata": {},
   "outputs": [],
   "source": [
    "#import data from a csv file and store in a dataframe\n",
    "import pandas as pd\n",
    "df = pd.read_csv('../raw_data/Hotel_Reviews.csv')\n",
    "\n",
    "# merger two 'Negative_Review', 'Positive_Review' columns and save to a new column 'Reviews'\n",
    "df['Reviews'] = df['Negative_Review'] + df['Positive_Review']\n",
    "\n",
    "# get the X_train data, only one column 'Reviews'\n",
    "X_train = df['Reviews']\n"
   ]
  },
  {
   "cell_type": "code",
   "execution_count": 11,
   "id": "f2724d13",
   "metadata": {},
   "outputs": [
    {
     "data": {
      "text/plain": [
       "((515738,), (515738, 18))"
      ]
     },
     "execution_count": 11,
     "metadata": {},
     "output_type": "execute_result"
    }
   ],
   "source": [
    "X_train.shape, df.shape"
   ]
  },
  {
   "cell_type": "code",
   "execution_count": 12,
   "id": "722af0ea",
   "metadata": {},
   "outputs": [],
   "source": [
    "from nltk.tokenize import word_tokenize\n",
    "from nltk.corpus import stopwords\n",
    "from nltk.stem import WordNetLemmatizer\n",
    "from collections import defaultdict\n",
    "from heapq import nlargest\n",
    "stop_words = set(stopwords.words(\"english\"))\n",
    "# Convert set to list, remove 'again', and convert back to set\n",
    "word_list = list(stop_words)\n",
    "word_list.append('negative')\n",
    "stop_words = set(word_list)\n",
    "\n",
    "# Function to preprocess sentences\n",
    "def preprocess(sentences):\n",
    "    lemmatizer = WordNetLemmatizer()\n",
    "    word_frequencies = defaultdict(int)\n",
    "    for sentence in sentences:\n",
    "        words = word_tokenize(sentence.lower())\n",
    "        words = [lemmatizer.lemmatize(word) for word in words if word.isalnum()]\n",
    "        for word in words:\n",
    "            if word not in stop_words:\n",
    "                word_frequencies[word] += 1\n",
    "    return word_frequencies\n",
    "\n",
    "# Function to extract keywords using TextRank\n",
    "def extract_keywords(sentences, num_keywords=100):\n",
    "    word_frequencies = preprocess(sentences)\n",
    "    # Calculate weighted word frequencies\n",
    "    max_frequency = max(word_frequencies.values())\n",
    "    for word in word_frequencies.keys():\n",
    "        word_frequencies[word] = word_frequencies[word] / max_frequency\n",
    "    # Get top N keywords with highest scores\n",
    "    top_keywords = nlargest(num_keywords, word_frequencies, key=word_frequencies.get)\n",
    "    return top_keywords"
   ]
  },
  {
   "cell_type": "code",
   "execution_count": null,
   "id": "9422d430",
   "metadata": {},
   "outputs": [],
   "source": [
    "# Extract keywords from the list of sentences\n",
    "keywords = extract_keywords(X_train)\n",
    "\n"
   ]
  },
  {
   "cell_type": "code",
   "execution_count": 14,
   "id": "5df2a954",
   "metadata": {},
   "outputs": [
    {
     "data": {
      "text/plain": [
       "['wa',\n",
       " 'room',\n",
       " 'staff',\n",
       " 'hotel',\n",
       " 'location',\n",
       " 'breakfast',\n",
       " 'good',\n",
       " 'great',\n",
       " 'bed',\n",
       " 'friendly',\n",
       " 'helpful',\n",
       " 'nice',\n",
       " 'clean',\n",
       " 'comfortable',\n",
       " 'excellent',\n",
       " 'small',\n",
       " 'would',\n",
       " 'stay',\n",
       " 'service',\n",
       " 'bathroom',\n",
       " 'nothing',\n",
       " 'really',\n",
       " 'bar',\n",
       " 'could',\n",
       " 'one',\n",
       " 'u',\n",
       " 'night',\n",
       " 'restaurant',\n",
       " 'lovely',\n",
       " 'station',\n",
       " 'positive',\n",
       " 'everything',\n",
       " 'close',\n",
       " 'time',\n",
       " 'shower',\n",
       " 'also',\n",
       " 'like',\n",
       " 'view',\n",
       " 'reception',\n",
       " 'bit',\n",
       " 'well',\n",
       " 'day',\n",
       " 'area',\n",
       " 'get',\n",
       " 'little',\n",
       " 'perfect',\n",
       " 'food',\n",
       " 'price',\n",
       " 'facility',\n",
       " 'walk',\n",
       " 'check',\n",
       " 'quiet',\n",
       " 'free',\n",
       " 'floor',\n",
       " 'even',\n",
       " 'coffee',\n",
       " 'amazing',\n",
       " 'london',\n",
       " 'comfy',\n",
       " 'place',\n",
       " 'need',\n",
       " 'city',\n",
       " '2',\n",
       " 'minute',\n",
       " 'next',\n",
       " 'door',\n",
       " 'wifi',\n",
       " 'water',\n",
       " 'much',\n",
       " 'quite',\n",
       " 'window',\n",
       " 'metro',\n",
       " 'expensive',\n",
       " 'back',\n",
       " 'modern',\n",
       " 'size',\n",
       " 'made',\n",
       " 'work',\n",
       " 'big',\n",
       " 'lot',\n",
       " 'poor',\n",
       " 'air',\n",
       " 'fantastic',\n",
       " 'easy',\n",
       " 'pool',\n",
       " 'around',\n",
       " 'better',\n",
       " 'near',\n",
       " 'spacious',\n",
       " 'money',\n",
       " 'central',\n",
       " 'extremely',\n",
       " 'two',\n",
       " 'stayed',\n",
       " 'got',\n",
       " 'hot',\n",
       " '5',\n",
       " 'street',\n",
       " 'noise',\n",
       " 'tea']"
      ]
     },
     "execution_count": 14,
     "metadata": {},
     "output_type": "execute_result"
    }
   ],
   "source": [
    "keywords"
   ]
  }
 ],
 "metadata": {
  "kernelspec": {
   "display_name": "Python 3",
   "language": "python",
   "name": "python3"
  },
  "language_info": {
   "codemirror_mode": {
    "name": "ipython",
    "version": 3
   },
   "file_extension": ".py",
   "mimetype": "text/x-python",
   "name": "python",
   "nbconvert_exporter": "python",
   "pygments_lexer": "ipython3",
   "version": "3.10.6"
  }
 },
 "nbformat": 4,
 "nbformat_minor": 5
}
