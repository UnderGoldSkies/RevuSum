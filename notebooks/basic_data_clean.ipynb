{
 "cells": [
  {
   "cell_type": "code",
   "execution_count": 1,
   "metadata": {},
   "outputs": [],
   "source": [
    "#import data from a csv file and store in a dataframe\n",
    "import pandas as pd\n",
    "df = pd.read_csv('../data/Hotel_Reviews.csv')\n",
    "\n",
    "\n"
   ]
  },
  {
   "cell_type": "code",
   "execution_count": 2,
   "metadata": {},
   "outputs": [
    {
     "data": {
      "text/plain": [
       "Index(['Hotel_Address', 'Additional_Number_of_Scoring', 'Review_Date',\n",
       "       'Average_Score', 'Hotel_Name', 'Reviewer_Nationality',\n",
       "       'Negative_Review', 'Review_Total_Negative_Word_Counts',\n",
       "       'Total_Number_of_Reviews', 'Positive_Review',\n",
       "       'Review_Total_Positive_Word_Counts',\n",
       "       'Total_Number_of_Reviews_Reviewer_Has_Given', 'Reviewer_Score', 'Tags',\n",
       "       'days_since_review', 'lat', 'lng'],\n",
       "      dtype='object')"
      ]
     },
     "execution_count": 2,
     "metadata": {},
     "output_type": "execute_result"
    }
   ],
   "source": [
    "df.columns\n"
   ]
  },
  {
   "cell_type": "code",
   "execution_count": 3,
   "metadata": {},
   "outputs": [
    {
     "name": "stdout",
     "output_type": "stream",
     "text": [
      "<class 'pandas.core.frame.DataFrame'>\n",
      "RangeIndex: 515738 entries, 0 to 515737\n",
      "Data columns (total 17 columns):\n",
      " #   Column                                      Non-Null Count   Dtype  \n",
      "---  ------                                      --------------   -----  \n",
      " 0   Hotel_Address                               515738 non-null  object \n",
      " 1   Additional_Number_of_Scoring                515738 non-null  int64  \n",
      " 2   Review_Date                                 515738 non-null  object \n",
      " 3   Average_Score                               515738 non-null  float64\n",
      " 4   Hotel_Name                                  515738 non-null  object \n",
      " 5   Reviewer_Nationality                        515738 non-null  object \n",
      " 6   Negative_Review                             515738 non-null  object \n",
      " 7   Review_Total_Negative_Word_Counts           515738 non-null  int64  \n",
      " 8   Total_Number_of_Reviews                     515738 non-null  int64  \n",
      " 9   Positive_Review                             515738 non-null  object \n",
      " 10  Review_Total_Positive_Word_Counts           515738 non-null  int64  \n",
      " 11  Total_Number_of_Reviews_Reviewer_Has_Given  515738 non-null  int64  \n",
      " 12  Reviewer_Score                              515738 non-null  float64\n",
      " 13  Tags                                        515738 non-null  object \n",
      " 14  days_since_review                           515738 non-null  object \n",
      " 15  lat                                         512470 non-null  float64\n",
      " 16  lng                                         512470 non-null  float64\n",
      "dtypes: float64(4), int64(5), object(8)\n",
      "memory usage: 66.9+ MB\n"
     ]
    },
    {
     "data": {
      "text/plain": [
       "((515738, 17),\n",
       " Index(['Hotel_Address', 'Additional_Number_of_Scoring', 'Review_Date',\n",
       "        'Average_Score', 'Hotel_Name', 'Reviewer_Nationality',\n",
       "        'Negative_Review', 'Review_Total_Negative_Word_Counts',\n",
       "        'Total_Number_of_Reviews', 'Positive_Review',\n",
       "        'Review_Total_Positive_Word_Counts',\n",
       "        'Total_Number_of_Reviews_Reviewer_Has_Given', 'Reviewer_Score', 'Tags',\n",
       "        'days_since_review', 'lat', 'lng'],\n",
       "       dtype='object'),\n",
       " None)"
      ]
     },
     "execution_count": 3,
     "metadata": {},
     "output_type": "execute_result"
    }
   ],
   "source": [
    "df.shape, df.columns, df.info()"
   ]
  },
  {
   "cell_type": "code",
   "execution_count": 4,
   "metadata": {},
   "outputs": [
    {
     "data": {
      "text/plain": [
       "No Negative                                                                                                                                                                                                                127890\n",
       " Nothing                                                                                                                                                                                                                    14295\n",
       " Nothing                                                                                                                                                                                                                     4236\n",
       " nothing                                                                                                                                                                                                                     2225\n",
       " N A                                                                                                                                                                                                                         1037\n",
       "                                                                                                                                                                                                                            ...  \n",
       " Quite a large hold per night was taken I have been back from the hotel for 3 nights now and still haven t received the hold money back This is has unfortunately left a negative image in my head after a lovely trip          1\n",
       " One of the two elevators were broken It was still ok                                                                                                                                                                           1\n",
       " Information regarding the charge of 100 per night for room service and wifi etc Didn t know until check in that this was a thing                                                                                               1\n",
       " the room maintenance especially the shower and toilet are not 5 star hotel maybe 3 also breakfast can be much better for this price                                                                                            1\n",
       " I was in 3rd floor It didn t work Free Wife                                                                                                                                                                                    1\n",
       "Name: Negative_Review, Length: 330011, dtype: int64"
      ]
     },
     "execution_count": 4,
     "metadata": {},
     "output_type": "execute_result"
    }
   ],
   "source": [
    "df['Negative_Review'].value_counts()"
   ]
  },
  {
   "cell_type": "code",
   "execution_count": 5,
   "metadata": {},
   "outputs": [
    {
     "data": {
      "text/plain": [
       "(0, 0)"
      ]
     },
     "execution_count": 5,
     "metadata": {},
     "output_type": "execute_result"
    }
   ],
   "source": [
    "df['Negative_Review'].isnull().sum(), df['Positive_Review'].isnull().sum()"
   ]
  },
  {
   "cell_type": "code",
   "execution_count": 6,
   "metadata": {},
   "outputs": [
    {
     "name": "stdout",
     "output_type": "stream",
     "text": [
      "<class 'str'>\n"
     ]
    }
   ],
   "source": [
    "# Clean the reviews from the dataset\n",
    "#removing invalid ones, e.g. empty reviews, everything is good/bad and reviews with less than 10 characters\n",
    "# output the df with two new columns: 'Negative_clean' and 'Positive_clean'\n",
    "\n",
    "# process the Negative_Review column\n",
    "# strip() to remove leading and trailing whitespaces for one column of df\n",
    "import numpy as np\n",
    "\n",
    "#change data type to string for the column NegativeReview\n",
    "df['NegativeReview'] = df['Negative_Review'].astype(str)\n",
    "\n",
    "#show data type for the column NegativeReview\n",
    "print(type(df['NegativeReview'][0]))\n",
    "\n",
    "df['Negative_clean'] = df['NegativeReview'].apply(lambda x: x.strip())\n",
    "\n",
    "# if the text has less than 10 characters, replace the text with 'nothing' for the above column\n",
    "df.loc[df['Negative_clean'].str.len() < 10, 'Negative_clean'] = ' '\n",
    "\n",
    "# if the text has 'nothing' or 'everything' or 'anything' str in it regardless lower case, replace the text with 'nothing' for the above column\n",
    "df.loc[df['Negative_clean'].str.contains('nothing|everything|anything|No Negative', case=False), 'Negative_clean'] = ' '\n",
    "\n",
    "\n"
   ]
  },
  {
   "cell_type": "code",
   "execution_count": 7,
   "metadata": {},
   "outputs": [
    {
     "data": {
      "text/plain": [
       "                                                                                193281\n",
       "Small room                                                                         455\n",
       "No complaints                                                                      450\n",
       "Small rooms                                                                        245\n",
       "Having to leave                                                                    154\n",
       "                                                                                 ...  \n",
       "Hotel not very close to the public transport 10 mins walk                            1\n",
       "Reception staff not helpful Shower had cold spurts of water                          1\n",
       "Bed is way too small for 2 people price was too high for the amount of space         1\n",
       "Small room for 3 on the 5th floor with no elevator access                            1\n",
       "I was in 3rd floor It didn t work Free Wife                                          1\n",
       "Name: Negative_clean, Length: 303549, dtype: int64"
      ]
     },
     "execution_count": 7,
     "metadata": {},
     "output_type": "execute_result"
    }
   ],
   "source": [
    "df['Negative_clean'].value_counts()"
   ]
  },
  {
   "cell_type": "code",
   "execution_count": 8,
   "metadata": {},
   "outputs": [
    {
     "data": {
      "text/plain": [
       "No Positive                   35946\n",
       "                              22761\n",
       "Everything                     2897\n",
       "Great location                 1419\n",
       "The location                   1341\n",
       "Good location                  1203\n",
       "Friendly staff                  603\n",
       "Excellent location              547\n",
       "everything                      371\n",
       "Location and staff              371\n",
       "Location was great              294\n",
       "Location was good               277\n",
       "Everything was perfect          276\n",
       "Good breakfast                  248\n",
       "Location is great               236\n",
       "Perfect location                227\n",
       "good location                   225\n",
       "Location location location      218\n",
       "Location staff                  215\n",
       "Location is good                214\n",
       "Breakfast was good              198\n",
       "the location                    195\n",
       "Very friendly staff             194\n",
       "Every thing                     187\n",
       "Location was excellent          187\n",
       "Excellent breakfast             182\n",
       "Great breakfast                 178\n",
       "Comfortable bed                 173\n",
       "Cleanliness                     164\n",
       "great location                  160\n",
       "Name: Positive_clean, dtype: int64"
      ]
     },
     "execution_count": 8,
     "metadata": {},
     "output_type": "execute_result"
    }
   ],
   "source": [
    "# do the same process for Positive_Review column\n",
    "df['Positive_clean'] = df['Positive_Review'].apply(lambda x: x.strip())\n",
    "\n",
    "# if the text has less than 10 characters, replace the text with 'nothing' for the above column\n",
    "df.loc[df['Positive_clean'].str.len() < 10, 'Positive_clean'] = ' '\n",
    "\n",
    "df['Positive_clean'].value_counts().head(30)"
   ]
  },
  {
   "cell_type": "code",
   "execution_count": 9,
   "metadata": {},
   "outputs": [
    {
     "data": {
      "text/plain": [
       "                              89417\n",
       "Great location                 1419\n",
       "The location                   1341\n",
       "Good location                  1203\n",
       "Friendly staff                  603\n",
       "Excellent location              547\n",
       "Location and staff              371\n",
       "Location was great              294\n",
       "Location was good               277\n",
       "Good breakfast                  248\n",
       "Location is great               236\n",
       "Perfect location                227\n",
       "good location                   225\n",
       "Location location location      218\n",
       "Location staff                  215\n",
       "Location is good                214\n",
       "Breakfast was good              198\n",
       "the location                    195\n",
       "Very friendly staff             194\n",
       "Every thing                     187\n",
       "Location was excellent          187\n",
       "Excellent breakfast             182\n",
       "Great breakfast                 178\n",
       "Comfortable bed                 173\n",
       "Cleanliness                     164\n",
       "great location                  160\n",
       "Location is perfect             154\n",
       "Location is excellent           149\n",
       "Very good location              147\n",
       "Helpful staff                   147\n",
       "Name: Positive_clean, dtype: int64"
      ]
     },
     "execution_count": 9,
     "metadata": {},
     "output_type": "execute_result"
    }
   ],
   "source": [
    "# if the text has 'nothing' or 'everything' or 'No Positive' str in it regardless lower case, replace the text with 'nothing' for the above column\n",
    "df.loc[df['Positive_clean'].str.contains('nothing|everything|No Positive', case=False), 'Positive_clean'] = ' '\n",
    "df['Positive_clean'].value_counts().head(30)\n"
   ]
  },
  {
   "cell_type": "code",
   "execution_count": 10,
   "metadata": {},
   "outputs": [
    {
     "data": {
      "text/plain": [
       "(0.1733767920921088, 0.3747658694918738)"
      ]
     },
     "execution_count": 10,
     "metadata": {},
     "output_type": "execute_result"
    }
   ],
   "source": [
    "# check ' ' value for the new columns\n",
    "neg_invalid_count = df['Negative_clean'][df['Negative_clean']==\" \"].shape[0]\n",
    "pos_invalid_count = df['Positive_clean'][df['Positive_clean']==\" \"].shape[0]\n",
    "pos_invalid_count/len(df), neg_invalid_count/len(df)"
   ]
  }
 ],
 "metadata": {
  "kernelspec": {
   "display_name": "Python 3",
   "language": "python",
   "name": "python3"
  },
  "language_info": {
   "codemirror_mode": {
    "name": "ipython",
    "version": 3
   },
   "file_extension": ".py",
   "mimetype": "text/x-python",
   "name": "python",
   "nbconvert_exporter": "python",
   "pygments_lexer": "ipython3",
   "version": "3.10.6"
  },
  "orig_nbformat": 4
 },
 "nbformat": 4,
 "nbformat_minor": 2
}
