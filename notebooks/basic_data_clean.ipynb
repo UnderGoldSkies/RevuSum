{
 "cells": [
  {
   "cell_type": "code",
   "execution_count": null,
   "metadata": {},
   "outputs": [],
   "source": [
    "#import data from a csv file and store in a dataframe with only 4 columns we need\n",
    "import pandas as pd\n",
    "df = pd.read_csv('../data/Hotel_Reviews.csv')\n",
    "\n",
    "review_df = df[['Hotel_Name', 'Review_Date', 'Positive_Review', 'Negative_Review']]\n",
    "review_df"
   ]
  },
  {
   "cell_type": "code",
   "execution_count": null,
   "metadata": {},
   "outputs": [],
   "source": [
    "# Positive_Review: invalid reviews are with the following strings:'There are no comments available for this review', 'everything'\n",
    "train_pos_invalid_content = 'nothing|everything|No Positive'\n",
    "# Negative_Review: invalid reviews are with the following strings:\n",
    "train_neg_invalid_content = 'nothing|everything|anything|No Negative'"
   ]
  },
  {
   "cell_type": "code",
   "execution_count": null,
   "metadata": {},
   "outputs": [],
   "source": [
    "import sys\n",
    "\n",
    "# Add the directory containing the module to the Python path\n",
    "sys.path.append('/Users/zengsheng/code/TechLah/RevuSum')\n",
    "\n",
    "# Import the module that contains the function\n",
    "import web_scraping.basic_review_clean as brc\n",
    "\n",
    "#test 10 reviews:\n",
    "review_df_now = review_df.head(10)\n",
    "print('\\n\\n---TRAINING DATA---\\n\\n')\n",
    "cleaned_review_df = brc.clean_hotel_reviews(review_df_now, train_pos_invalid_content, train_neg_invalid_content)\n",
    "print(cleaned_review_df.info())"
   ]
  },
  {
   "cell_type": "code",
   "execution_count": null,
   "metadata": {},
   "outputs": [],
   "source": [
    "cleaned_review_df\n",
    "\n"
   ]
  },
  {
   "cell_type": "code",
   "execution_count": null,
   "metadata": {},
   "outputs": [],
   "source": [
    "review_df.head(10)"
   ]
  },
  {
   "attachments": {},
   "cell_type": "markdown",
   "metadata": {},
   "source": [
    "# NOT in use"
   ]
  },
  {
   "cell_type": "code",
   "execution_count": null,
   "metadata": {},
   "outputs": [],
   "source": [
    "# Clean the reviews from the dataset\n",
    "#removing invalid ones, e.g. empty reviews, everything is good/bad and reviews with less than 10 characters\n",
    "# output the df with two new columns: 'Negative_clean' and 'Positive_clean'\n",
    "\n",
    "# process the Negative_Review column\n",
    "# strip() to remove leading and trailing whitespaces for one column of df\n",
    "import numpy as np\n",
    "\n",
    "#change data type to string for the column NegativeReview\n",
    "df['NegativeReview'] = df['Negative_Review'].astype(str)\n",
    "\n",
    "#show data type for the column NegativeReview\n",
    "print(type(df['NegativeReview'][0]))\n",
    "\n",
    "df['Negative_clean'] = df['NegativeReview'].apply(lambda x: x.strip())\n",
    "\n",
    "# if the text has less than 10 characters, replace the text with 'nothing' for the above column\n",
    "df.loc[df['Negative_clean'].str.len() < 10, 'Negative_clean'] = ' '\n",
    "\n",
    "# if the text has 'nothing' or 'everything' or 'anything' str in it regardless lower case, replace the text with 'nothing' for the above column\n",
    "df.loc[df['Negative_clean'].str.contains('nothing|everything|anything|No Negative', case=False), 'Negative_clean'] = ' '\n",
    "\n",
    "\n"
   ]
  },
  {
   "cell_type": "code",
   "execution_count": null,
   "metadata": {},
   "outputs": [],
   "source": [
    "df['Negative_clean'].value_counts()"
   ]
  },
  {
   "cell_type": "code",
   "execution_count": null,
   "metadata": {},
   "outputs": [],
   "source": [
    "# do the same process for Positive_Review column\n",
    "df['Positive_clean'] = df['Positive_Review'].apply(lambda x: x.strip())\n",
    "\n",
    "# if the text has less than 10 characters, replace the text with 'nothing' for the above column\n",
    "df.loc[df['Positive_clean'].str.len() < 10, 'Positive_clean'] = ' '\n",
    "\n",
    "df['Positive_clean'].value_counts().head(30)"
   ]
  },
  {
   "cell_type": "code",
   "execution_count": null,
   "metadata": {},
   "outputs": [],
   "source": [
    "# if the text has 'nothing' or 'everything' or 'No Positive' str in it regardless lower case, replace the text with 'nothing' for the above column\n",
    "df.loc[df['Positive_clean'].str.contains('nothing|everything|No Positive', case=False), 'Positive_clean'] = ' '\n",
    "df['Positive_clean'].value_counts().head(30)\n"
   ]
  },
  {
   "cell_type": "code",
   "execution_count": null,
   "metadata": {},
   "outputs": [],
   "source": [
    "# check ' ' value for the new columns\n",
    "neg_invalid_count = df['Negative_clean'][df['Negative_clean']==\" \"].shape[0]\n",
    "pos_invalid_count = df['Positive_clean'][df['Positive_clean']==\" \"].shape[0]\n",
    "pos_invalid_count/len(df), neg_invalid_count/len(df)"
   ]
  },
  {
   "cell_type": "code",
   "execution_count": null,
   "metadata": {},
   "outputs": [],
   "source": [
    "df.info()"
   ]
  }
 ],
 "metadata": {
  "kernelspec": {
   "display_name": "Python 3",
   "language": "python",
   "name": "python3"
  },
  "language_info": {
   "codemirror_mode": {
    "name": "ipython",
    "version": 3
   },
   "file_extension": ".py",
   "mimetype": "text/x-python",
   "name": "python",
   "nbconvert_exporter": "python",
   "pygments_lexer": "ipython3",
   "version": "3.10.6"
  },
  "orig_nbformat": 4
 },
 "nbformat": 4,
 "nbformat_minor": 2
}
