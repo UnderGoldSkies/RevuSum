{
 "cells": [
  {
   "cell_type": "code",
   "execution_count": 58,
   "metadata": {},
   "outputs": [
    {
     "name": "stdout",
     "output_type": "stream",
     "text": [
      "The autoreload extension is already loaded. To reload it, use:\n",
      "  %reload_ext autoreload\n"
     ]
    }
   ],
   "source": [
    "%load_ext autoreload\n",
    "%autoreload 2\n",
    "%reload_ext autoreload"
   ]
  },
  {
   "cell_type": "code",
   "execution_count": 59,
   "metadata": {},
   "outputs": [],
   "source": [
    "import os\n",
    "import pandas as pd\n",
    "import pickle\n",
    "import sys\n",
    "sys.path.append('/home/jack/code/TechLah/RevuSum/data/')\n",
    "from interface.Testing import preprocess_of_test_data, prediction_of_test_data"
   ]
  },
  {
   "cell_type": "code",
   "execution_count": 64,
   "metadata": {},
   "outputs": [],
   "source": [
    "url = os.getcwd() + \"/../data/cleaned_test_data_5.pkl\""
   ]
  },
  {
   "cell_type": "code",
   "execution_count": 96,
   "metadata": {},
   "outputs": [],
   "source": [
    "df = pd.read_pickle(url)"
   ]
  },
  {
   "cell_type": "code",
   "execution_count": 44,
   "metadata": {},
   "outputs": [
    {
     "data": {
      "text/plain": [
       "array(['Holiday Inn Express Singapore Katong, an IHG Hotel',\n",
       "       'Ibis Budget Singapore Pearl', 'ibis Styles Singapore Albert',\n",
       "       'Village Hotel Albert Court by Far East Hospitality',\n",
       "       'lyf Farrer Park Singapore'], dtype=object)"
      ]
     },
     "execution_count": 44,
     "metadata": {},
     "output_type": "execute_result"
    }
   ],
   "source": [
    "df.Hotel_Name.unique()"
   ]
  },
  {
   "cell_type": "code",
   "execution_count": 98,
   "metadata": {},
   "outputs": [
    {
     "name": "stdout",
     "output_type": "stream",
     "text": [
      "222\n",
      "33\n",
      "444\n",
      "55\n",
      "66\n",
      "preprocess dataframe = 0.089secs\n"
     ]
    },
    {
     "name": "stderr",
     "output_type": "stream",
     "text": [
      "/home/jack/code/TechLah/RevuSum/interface/Testing.py:225: SettingWithCopyWarning: \n",
      "A value is trying to be set on a copy of a slice from a DataFrame.\n",
      "Try using .loc[row_indexer,col_indexer] = value instead\n",
      "\n",
      "See the caveats in the documentation: https://pandas.pydata.org/pandas-docs/stable/user_guide/indexing.html#returning-a-view-versus-a-copy\n",
      "  dataframe[columns_to_replace] = dataframe[columns_to_replace].fillna('nothing')\n"
     ]
    }
   ],
   "source": [
    "preprocessed_df = preprocess_of_test_data(filtered_df)"
   ]
  },
  {
   "cell_type": "code",
   "execution_count": 99,
   "metadata": {},
   "outputs": [
    {
     "name": "stdout",
     "output_type": "stream",
     "text": [
      "importing model = 0.0secs\n",
      "predicting outcome = 0.003secs\n"
     ]
    }
   ],
   "source": [
    "pred_y, test_y = prediction_of_test_data(preprocessed_df)"
   ]
  },
  {
   "cell_type": "code",
   "execution_count": 100,
   "metadata": {},
   "outputs": [
    {
     "data": {
      "text/plain": [
       "0.7993827160493827"
      ]
     },
     "execution_count": 100,
     "metadata": {},
     "output_type": "execute_result"
    }
   ],
   "source": [
    "from sklearn.metrics import accuracy_score\n",
    "\n",
    "accuracy_score(pred_y,test_y)"
   ]
  },
  {
   "cell_type": "code",
   "execution_count": 97,
   "metadata": {},
   "outputs": [],
   "source": [
    "filtered_df = df[df.Hotel_Name == \"Ibis Budget Singapore Pearl\"]"
   ]
  },
  {
   "cell_type": "code",
   "execution_count": null,
   "metadata": {},
   "outputs": [],
   "source": [
    "ibis_budget_df = df[df.Hotel_Name == \"Ibis Budget Singapore Pearl\"]\n",
    "holiday_df = df[df.Hotel_Name == \"Holiday Inn Express Singapore Katong, an IHG Hotel\"]\n",
    "albert_df = df[df.Hotel_Name == \"Village Hotel Albert Court by Far East Hospitality\"]\n",
    "ibis_style_df = df[df.Hotel_Name == \"ibis Styles Singapore Albert\"]\n",
    "farrer_df = df[df.Hotel_Name == \"lyf Farrer Park Singapore\"]"
   ]
  },
  {
   "cell_type": "code",
   "execution_count": null,
   "metadata": {},
   "outputs": [],
   "source": [
    "accuracy_hotel= []"
   ]
  },
  {
   "cell_type": "code",
   "execution_count": 109,
   "metadata": {},
   "outputs": [
    {
     "name": "stdout",
     "output_type": "stream",
     "text": [
      "preprocess dataframe = 0.092secs\n",
      "importing model = 0.0secs\n",
      "predicting outcome = 0.003secs\n"
     ]
    }
   ],
   "source": [
    "preprocessed_df = preprocess_of_test_data(ibis_budget_df)\n",
    "pred_y, test_y = prediction_of_test_data(preprocessed_df)\n",
    "accuracy_hotel.append(accuracy_score(pred_y,test_y))"
   ]
  },
  {
   "cell_type": "code",
   "execution_count": 110,
   "metadata": {},
   "outputs": [
    {
     "name": "stdout",
     "output_type": "stream",
     "text": [
      "preprocess dataframe = 0.039secs\n",
      "importing model = 0.001secs\n",
      "predicting outcome = 0.002secs\n"
     ]
    }
   ],
   "source": [
    "preprocessed_df = preprocess_of_test_data(holiday_df)\n",
    "pred_y, test_y = prediction_of_test_data(preprocessed_df)\n",
    "accuracy_hotel.append(accuracy_score(pred_y,test_y))"
   ]
  },
  {
   "cell_type": "code",
   "execution_count": 111,
   "metadata": {},
   "outputs": [
    {
     "name": "stdout",
     "output_type": "stream",
     "text": [
      "preprocess dataframe = 0.064secs\n",
      "importing model = 0.0secs\n",
      "predicting outcome = 0.002secs\n"
     ]
    }
   ],
   "source": [
    "preprocessed_df = preprocess_of_test_data(albert_df)\n",
    "pred_y, test_y = prediction_of_test_data(preprocessed_df)\n",
    "accuracy_hotel.append(accuracy_score(pred_y,test_y))"
   ]
  },
  {
   "cell_type": "code",
   "execution_count": 112,
   "metadata": {},
   "outputs": [
    {
     "name": "stdout",
     "output_type": "stream",
     "text": [
      "preprocess dataframe = 0.04secs\n",
      "importing model = 0.0secs\n",
      "predicting outcome = 0.001secs\n"
     ]
    }
   ],
   "source": [
    "preprocessed_df = preprocess_of_test_data(ibis_style_df)\n",
    "pred_y, test_y = prediction_of_test_data(preprocessed_df)\n",
    "accuracy_hotel.append(accuracy_score(pred_y,test_y))"
   ]
  },
  {
   "cell_type": "code",
   "execution_count": 113,
   "metadata": {},
   "outputs": [
    {
     "name": "stdout",
     "output_type": "stream",
     "text": [
      "preprocess dataframe = 0.202secs\n",
      "importing model = 0.0secs\n",
      "predicting outcome = 0.007secs\n"
     ]
    }
   ],
   "source": [
    "preprocessed_df = preprocess_of_test_data(farrer_df)\n",
    "pred_y, test_y = prediction_of_test_data(preprocessed_df)\n",
    "accuracy_hotel.append(accuracy_score(pred_y,test_y))"
   ]
  },
  {
   "cell_type": "code",
   "execution_count": 116,
   "metadata": {},
   "outputs": [
    {
     "data": {
      "text/plain": [
       "[0.7993827160493827,\n",
       " 0.8562091503267973,\n",
       " 0.8509803921568627,\n",
       " 0.8269230769230769,\n",
       " 0.9287671232876712]"
      ]
     },
     "execution_count": 116,
     "metadata": {},
     "output_type": "execute_result"
    }
   ],
   "source": [
    "accuracy_hotel"
   ]
  },
  {
   "cell_type": "code",
   "execution_count": 117,
   "metadata": {},
   "outputs": [
    {
     "data": {
      "text/plain": [
       "(727, 4)"
      ]
     },
     "execution_count": 117,
     "metadata": {},
     "output_type": "execute_result"
    }
   ],
   "source": [
    "ibis_budget_df.shape"
   ]
  }
 ],
 "metadata": {
  "kernelspec": {
   "display_name": "RevuSum",
   "language": "python",
   "name": "python3"
  },
  "language_info": {
   "codemirror_mode": {
    "name": "ipython",
    "version": 3
   },
   "file_extension": ".py",
   "mimetype": "text/x-python",
   "name": "python",
   "nbconvert_exporter": "python",
   "pygments_lexer": "ipython3",
   "version": "3.10.6"
  },
  "orig_nbformat": 4
 },
 "nbformat": 4,
 "nbformat_minor": 2
}
