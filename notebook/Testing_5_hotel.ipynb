{
 "cells": [
  {
   "cell_type": "code",
   "execution_count": 1,
   "metadata": {},
   "outputs": [],
   "source": [
    "%load_ext autoreload\n",
    "%autoreload 2\n",
    "%reload_ext autoreload"
   ]
  },
  {
   "cell_type": "code",
   "execution_count": 1,
   "metadata": {},
   "outputs": [
    {
     "name": "stderr",
     "output_type": "stream",
     "text": [
      "/home/jack/.pyenv/versions/3.10.6/envs/RevuSum/lib/python3.10/site-packages/tqdm/auto.py:21: TqdmWarning: IProgress not found. Please update jupyter and ipywidgets. See https://ipywidgets.readthedocs.io/en/stable/user_install.html\n",
      "  from .autonotebook import tqdm as notebook_tqdm\n",
      "2023-06-27 20:53:48.265471: I tensorflow/core/util/port.cc:110] oneDNN custom operations are on. You may see slightly different numerical results due to floating-point round-off errors from different computation orders. To turn them off, set the environment variable `TF_ENABLE_ONEDNN_OPTS=0`.\n",
      "2023-06-27 20:53:48.413503: I tensorflow/core/platform/cpu_feature_guard.cc:182] This TensorFlow binary is optimized to use available CPU instructions in performance-critical operations.\n",
      "To enable the following instructions: AVX2 AVX_VNNI FMA, in other operations, rebuild TensorFlow with the appropriate compiler flags.\n",
      "2023-06-27 20:53:49.140741: W tensorflow/compiler/tf2tensorrt/utils/py_utils.cc:38] TF-TRT Warning: Could not find TensorRT\n"
     ]
    }
   ],
   "source": [
    "import os\n",
    "import pandas as pd\n",
    "import pickle\n",
    "import sys\n",
    "sys.path.append('/home/jack/code/TechLah/RevuSum')\n",
    "from ml_logic.params import *\n",
    "from interface.testing import preprocess_of_test_data, prediction_of_test_data\n",
    "from ml_logic.review_pegasus import main, generate_punctuation, load_model\n"
   ]
  },
  {
   "cell_type": "code",
   "execution_count": 5,
   "metadata": {},
   "outputs": [],
   "source": [
    "url = os.getcwd() + \"/../data/cleaned_test_data_5.pkl\""
   ]
  },
  {
   "cell_type": "code",
   "execution_count": 19,
   "metadata": {},
   "outputs": [
    {
     "data": {
      "text/plain": [
       "'/home/jack/code/TechLah/RevuSum/notebook/../data/cleaned_test_data_5.pkl'"
      ]
     },
     "execution_count": 19,
     "metadata": {},
     "output_type": "execute_result"
    }
   ],
   "source": [
    "url"
   ]
  },
  {
   "cell_type": "code",
   "execution_count": 9,
   "metadata": {},
   "outputs": [],
   "source": [
    "url1 = os.path.join(os.getcwd(), \"..\", \"data\", LOCAL_TEST_DATA_PATH)"
   ]
  },
  {
   "cell_type": "code",
   "execution_count": 6,
   "metadata": {},
   "outputs": [],
   "source": [
    "df = pd.read_pickle(url)"
   ]
  },
  {
   "cell_type": "code",
   "execution_count": 5,
   "metadata": {},
   "outputs": [
    {
     "data": {
      "text/plain": [
       "array(['Holiday Inn Express Singapore Katong, an IHG Hotel',\n",
       "       'Ibis Budget Singapore Pearl', 'ibis Styles Singapore Albert',\n",
       "       'Village Hotel Albert Court by Far East Hospitality',\n",
       "       'lyf Farrer Park Singapore'], dtype=object)"
      ]
     },
     "execution_count": 5,
     "metadata": {},
     "output_type": "execute_result"
    }
   ],
   "source": [
    "df.Hotel_Name.unique()"
   ]
  },
  {
   "cell_type": "code",
   "execution_count": 7,
   "metadata": {},
   "outputs": [],
   "source": [
    "filtered_df = df[df.Hotel_Name == \"Ibis Budget Singapore Pearl\"]"
   ]
  },
  {
   "cell_type": "code",
   "execution_count": 8,
   "metadata": {},
   "outputs": [
    {
     "name": "stderr",
     "output_type": "stream",
     "text": [
      "/home/jack/code/TechLah/RevuSum/interface/testing.py:219: SettingWithCopyWarning: \n",
      "A value is trying to be set on a copy of a slice from a DataFrame.\n",
      "Try using .loc[row_indexer,col_indexer] = value instead\n",
      "\n",
      "See the caveats in the documentation: https://pandas.pydata.org/pandas-docs/stable/user_guide/indexing.html#returning-a-view-versus-a-copy\n",
      "  dataframe[columns_to_replace] = dataframe[columns_to_replace].fillna('nothing')\n"
     ]
    },
    {
     "name": "stdout",
     "output_type": "stream",
     "text": [
      "preprocess dataframe = 1.406secs\n"
     ]
    }
   ],
   "source": [
    "preprocessed_df = preprocess_of_test_data(filtered_df)"
   ]
  },
  {
   "cell_type": "code",
   "execution_count": 9,
   "metadata": {},
   "outputs": [],
   "source": [
    "test_X, pred_y, test_y = prediction_of_test_data(preprocessed_df)"
   ]
  },
  {
   "cell_type": "code",
   "execution_count": 12,
   "metadata": {},
   "outputs": [],
   "source": [
    "new_pred_y=pd.Series(pred_y)\n",
    "\n",
    "new_pred_y.index = test_X.index\n",
    "results = pd.concat([test_X,new_pred_y, test_y],axis=1)\n",
    "results.columns = ['Review', 'Pred', 'Label']"
   ]
  },
  {
   "cell_type": "code",
   "execution_count": 12,
   "metadata": {},
   "outputs": [
    {
     "data": {
      "text/plain": [
       "((324,), (324,), (324,))"
      ]
     },
     "execution_count": 12,
     "metadata": {},
     "output_type": "execute_result"
    }
   ],
   "source": [
    "test_X.shape, new_pred_y.shape, test_y.shape"
   ]
  },
  {
   "cell_type": "code",
   "execution_count": 13,
   "metadata": {},
   "outputs": [
    {
     "data": {
      "text/plain": [
       "(324, 3)"
      ]
     },
     "execution_count": 13,
     "metadata": {},
     "output_type": "execute_result"
    }
   ],
   "source": [
    "results.shape"
   ]
  },
  {
   "cell_type": "code",
   "execution_count": 14,
   "metadata": {},
   "outputs": [
    {
     "data": {
      "text/html": [
       "<div>\n",
       "<style scoped>\n",
       "    .dataframe tbody tr th:only-of-type {\n",
       "        vertical-align: middle;\n",
       "    }\n",
       "\n",
       "    .dataframe tbody tr th {\n",
       "        vertical-align: top;\n",
       "    }\n",
       "\n",
       "    .dataframe thead th {\n",
       "        text-align: right;\n",
       "    }\n",
       "</style>\n",
       "<table border=\"1\" class=\"dataframe\">\n",
       "  <thead>\n",
       "    <tr style=\"text-align: right;\">\n",
       "      <th></th>\n",
       "      <th>Review</th>\n",
       "      <th>Pred</th>\n",
       "      <th>Label</th>\n",
       "    </tr>\n",
       "  </thead>\n",
       "  <tbody>\n",
       "    <tr>\n",
       "      <th>792</th>\n",
       "      <td>nice and tip top</td>\n",
       "      <td>1</td>\n",
       "      <td>1</td>\n",
       "    </tr>\n",
       "    <tr>\n",
       "      <th>919</th>\n",
       "      <td>the proximity of the location literally take m...</td>\n",
       "      <td>1</td>\n",
       "      <td>1</td>\n",
       "    </tr>\n",
       "    <tr>\n",
       "      <th>902</th>\n",
       "      <td>check in and the bedsheet be dirty have stain ...</td>\n",
       "      <td>0</td>\n",
       "      <td>1</td>\n",
       "    </tr>\n",
       "    <tr>\n",
       "      <th>129</th>\n",
       "      <td>room be very small for a family of once we kee...</td>\n",
       "      <td>0</td>\n",
       "      <td>0</td>\n",
       "    </tr>\n",
       "    <tr>\n",
       "      <th>196</th>\n",
       "      <td>no fridge and smell at the toilet</td>\n",
       "      <td>0</td>\n",
       "      <td>0</td>\n",
       "    </tr>\n",
       "    <tr>\n",
       "      <th>...</th>\n",
       "      <td>...</td>\n",
       "      <td>...</td>\n",
       "      <td>...</td>\n",
       "    </tr>\n",
       "    <tr>\n",
       "      <th>12</th>\n",
       "      <td>upon check in the bedsheets and towel be a lit...</td>\n",
       "      <td>0</td>\n",
       "      <td>0</td>\n",
       "    </tr>\n",
       "    <tr>\n",
       "      <th>68</th>\n",
       "      <td>room be a little bite small it ’ s close to so...</td>\n",
       "      <td>1</td>\n",
       "      <td>0</td>\n",
       "    </tr>\n",
       "    <tr>\n",
       "      <th>894</th>\n",
       "      <td>the cleaner staff who clean level room be very...</td>\n",
       "      <td>1</td>\n",
       "      <td>1</td>\n",
       "    </tr>\n",
       "    <tr>\n",
       "      <th>123</th>\n",
       "      <td>the toilet smell awful</td>\n",
       "      <td>0</td>\n",
       "      <td>0</td>\n",
       "    </tr>\n",
       "    <tr>\n",
       "      <th>134</th>\n",
       "      <td>the toilet have an unpleasant smell pls improve</td>\n",
       "      <td>0</td>\n",
       "      <td>0</td>\n",
       "    </tr>\n",
       "  </tbody>\n",
       "</table>\n",
       "<p>324 rows × 3 columns</p>\n",
       "</div>"
      ],
      "text/plain": [
       "                                                Review  Pred  Label\n",
       "792                                   nice and tip top     1      1\n",
       "919  the proximity of the location literally take m...     1      1\n",
       "902  check in and the bedsheet be dirty have stain ...     0      1\n",
       "129  room be very small for a family of once we kee...     0      0\n",
       "196                  no fridge and smell at the toilet     0      0\n",
       "..                                                 ...   ...    ...\n",
       "12   upon check in the bedsheets and towel be a lit...     0      0\n",
       "68   room be a little bite small it ’ s close to so...     1      0\n",
       "894  the cleaner staff who clean level room be very...     1      1\n",
       "123                             the toilet smell awful     0      0\n",
       "134    the toilet have an unpleasant smell pls improve     0      0\n",
       "\n",
       "[324 rows x 3 columns]"
      ]
     },
     "execution_count": 14,
     "metadata": {},
     "output_type": "execute_result"
    }
   ],
   "source": [
    "results"
   ]
  },
  {
   "cell_type": "code",
   "execution_count": 34,
   "metadata": {},
   "outputs": [
    {
     "ename": "KeyError",
     "evalue": "1",
     "output_type": "error",
     "traceback": [
      "\u001b[0;31m---------------------------------------------------------------------------\u001b[0m",
      "\u001b[0;31mKeyError\u001b[0m                                  Traceback (most recent call last)",
      "File \u001b[0;32m~/.pyenv/versions/3.10.6/envs/RevuSum/lib/python3.10/site-packages/pandas/core/indexes/base.py:3652\u001b[0m, in \u001b[0;36mIndex.get_loc\u001b[0;34m(self, key)\u001b[0m\n\u001b[1;32m   3651\u001b[0m \u001b[39mtry\u001b[39;00m:\n\u001b[0;32m-> 3652\u001b[0m     \u001b[39mreturn\u001b[39;00m \u001b[39mself\u001b[39;49m\u001b[39m.\u001b[39;49m_engine\u001b[39m.\u001b[39;49mget_loc(casted_key)\n\u001b[1;32m   3653\u001b[0m \u001b[39mexcept\u001b[39;00m \u001b[39mKeyError\u001b[39;00m \u001b[39mas\u001b[39;00m err:\n",
      "File \u001b[0;32m~/.pyenv/versions/3.10.6/envs/RevuSum/lib/python3.10/site-packages/pandas/_libs/index.pyx:147\u001b[0m, in \u001b[0;36mpandas._libs.index.IndexEngine.get_loc\u001b[0;34m()\u001b[0m\n",
      "File \u001b[0;32m~/.pyenv/versions/3.10.6/envs/RevuSum/lib/python3.10/site-packages/pandas/_libs/index.pyx:176\u001b[0m, in \u001b[0;36mpandas._libs.index.IndexEngine.get_loc\u001b[0;34m()\u001b[0m\n",
      "File \u001b[0;32mpandas/_libs/hashtable_class_helper.pxi:7080\u001b[0m, in \u001b[0;36mpandas._libs.hashtable.PyObjectHashTable.get_item\u001b[0;34m()\u001b[0m\n",
      "File \u001b[0;32mpandas/_libs/hashtable_class_helper.pxi:7088\u001b[0m, in \u001b[0;36mpandas._libs.hashtable.PyObjectHashTable.get_item\u001b[0;34m()\u001b[0m\n",
      "\u001b[0;31mKeyError\u001b[0m: 1",
      "\nThe above exception was the direct cause of the following exception:\n",
      "\u001b[0;31mKeyError\u001b[0m                                  Traceback (most recent call last)",
      "Cell \u001b[0;32mIn[34], line 1\u001b[0m\n\u001b[0;32m----> 1\u001b[0m results[\u001b[39m1\u001b[39;49m]\n",
      "File \u001b[0;32m~/.pyenv/versions/3.10.6/envs/RevuSum/lib/python3.10/site-packages/pandas/core/frame.py:3761\u001b[0m, in \u001b[0;36mDataFrame.__getitem__\u001b[0;34m(self, key)\u001b[0m\n\u001b[1;32m   3759\u001b[0m \u001b[39mif\u001b[39;00m \u001b[39mself\u001b[39m\u001b[39m.\u001b[39mcolumns\u001b[39m.\u001b[39mnlevels \u001b[39m>\u001b[39m \u001b[39m1\u001b[39m:\n\u001b[1;32m   3760\u001b[0m     \u001b[39mreturn\u001b[39;00m \u001b[39mself\u001b[39m\u001b[39m.\u001b[39m_getitem_multilevel(key)\n\u001b[0;32m-> 3761\u001b[0m indexer \u001b[39m=\u001b[39m \u001b[39mself\u001b[39;49m\u001b[39m.\u001b[39;49mcolumns\u001b[39m.\u001b[39;49mget_loc(key)\n\u001b[1;32m   3762\u001b[0m \u001b[39mif\u001b[39;00m is_integer(indexer):\n\u001b[1;32m   3763\u001b[0m     indexer \u001b[39m=\u001b[39m [indexer]\n",
      "File \u001b[0;32m~/.pyenv/versions/3.10.6/envs/RevuSum/lib/python3.10/site-packages/pandas/core/indexes/base.py:3654\u001b[0m, in \u001b[0;36mIndex.get_loc\u001b[0;34m(self, key)\u001b[0m\n\u001b[1;32m   3652\u001b[0m     \u001b[39mreturn\u001b[39;00m \u001b[39mself\u001b[39m\u001b[39m.\u001b[39m_engine\u001b[39m.\u001b[39mget_loc(casted_key)\n\u001b[1;32m   3653\u001b[0m \u001b[39mexcept\u001b[39;00m \u001b[39mKeyError\u001b[39;00m \u001b[39mas\u001b[39;00m err:\n\u001b[0;32m-> 3654\u001b[0m     \u001b[39mraise\u001b[39;00m \u001b[39mKeyError\u001b[39;00m(key) \u001b[39mfrom\u001b[39;00m \u001b[39merr\u001b[39;00m\n\u001b[1;32m   3655\u001b[0m \u001b[39mexcept\u001b[39;00m \u001b[39mTypeError\u001b[39;00m:\n\u001b[1;32m   3656\u001b[0m     \u001b[39m# If we have a listlike key, _check_indexing_error will raise\u001b[39;00m\n\u001b[1;32m   3657\u001b[0m     \u001b[39m#  InvalidIndexError. Otherwise we fall through and re-raise\u001b[39;00m\n\u001b[1;32m   3658\u001b[0m     \u001b[39m#  the TypeError.\u001b[39;00m\n\u001b[1;32m   3659\u001b[0m     \u001b[39mself\u001b[39m\u001b[39m.\u001b[39m_check_indexing_error(key)\n",
      "\u001b[0;31mKeyError\u001b[0m: 1"
     ]
    }
   ],
   "source": [
    "results[1]"
   ]
  },
  {
   "cell_type": "code",
   "execution_count": 100,
   "metadata": {},
   "outputs": [
    {
     "data": {
      "text/plain": [
       "0.7993827160493827"
      ]
     },
     "execution_count": 100,
     "metadata": {},
     "output_type": "execute_result"
    }
   ],
   "source": [
    "from sklearn.metrics import accuracy_score\n",
    "\n",
    "accuracy_score(pred_y,test_y)"
   ]
  },
  {
   "cell_type": "code",
   "execution_count": 28,
   "metadata": {},
   "outputs": [],
   "source": [
    "filtered_df = df[df.Hotel_Name == \"Ibis Budget Singapore Pearl\"]"
   ]
  },
  {
   "cell_type": "code",
   "execution_count": 15,
   "metadata": {},
   "outputs": [],
   "source": [
    "ibis_budget_df = df[df.Hotel_Name == \"Ibis Budget Singapore Pearl\"]\n",
    "holiday_df = df[df.Hotel_Name == \"Holiday Inn Express Singapore Katong, an IHG Hotel\"]\n",
    "albert_df = df[df.Hotel_Name == \"Village Hotel Albert Court by Far East Hospitality\"]\n",
    "ibis_style_df = df[df.Hotel_Name == \"ibis Styles Singapore Albert\"]\n",
    "farrer_df = df[df.Hotel_Name == \"lyf Farrer Park Singapore\"]"
   ]
  },
  {
   "cell_type": "code",
   "execution_count": 16,
   "metadata": {},
   "outputs": [],
   "source": [
    "accuracy_hotel= []"
   ]
  },
  {
   "cell_type": "code",
   "execution_count": 16,
   "metadata": {},
   "outputs": [
    {
     "name": "stdout",
     "output_type": "stream",
     "text": [
      "preprocess dataframe = 0.095secs\n"
     ]
    },
    {
     "name": "stderr",
     "output_type": "stream",
     "text": [
      "/home/jack/code/TechLah/RevuSum/interface/testing.py:219: SettingWithCopyWarning: \n",
      "A value is trying to be set on a copy of a slice from a DataFrame.\n",
      "Try using .loc[row_indexer,col_indexer] = value instead\n",
      "\n",
      "See the caveats in the documentation: https://pandas.pydata.org/pandas-docs/stable/user_guide/indexing.html#returning-a-view-versus-a-copy\n",
      "  dataframe[columns_to_replace] = dataframe[columns_to_replace].fillna('nothing')\n"
     ]
    }
   ],
   "source": [
    "preprocessed_df = preprocess_of_test_data(ibis_budget_df)\n",
    "test_X, pred_y, test_y = prediction_of_test_data(preprocessed_df)"
   ]
  },
  {
   "cell_type": "code",
   "execution_count": 17,
   "metadata": {},
   "outputs": [],
   "source": [
    "pred_y=pd.Series(pred_y, index=test_X.index)\n",
    "results = pd.concat([test_X, pred_y, test_y],axis=1)\n",
    "results.columns = ['Review', 'Pred', 'Label']"
   ]
  },
  {
   "cell_type": "code",
   "execution_count": 18,
   "metadata": {},
   "outputs": [
    {
     "data": {
      "text/plain": [
       "(324, 3)"
      ]
     },
     "execution_count": 18,
     "metadata": {},
     "output_type": "execute_result"
    }
   ],
   "source": [
    "results.shape"
   ]
  },
  {
   "cell_type": "code",
   "execution_count": 25,
   "metadata": {},
   "outputs": [
    {
     "data": {
      "text/plain": [
       "793    good value for money a simple room but the pri...\n",
       "851    location be good with many food outlet easy ac...\n",
       "768                   it clean convenient and affordable\n",
       "777    you get wat you pay for for singapore it be a ...\n",
       "178     min walk to bus station then stop to ajunied mrt\n",
       "                             ...                        \n",
       "922       if get nice customer service i definitely okay\n",
       "874       amaze staff and location very comfortable stay\n",
       "912    we have the biggest room in the whole hotel an...\n",
       "784    clean small room den with a window and good sh...\n",
       "92     well the aircon in our room have be drip off w...\n",
       "Name: Review, Length: 324, dtype: object"
      ]
     },
     "execution_count": 25,
     "metadata": {},
     "output_type": "execute_result"
    }
   ],
   "source": [
    "preprocessed_df.Review"
   ]
  },
  {
   "cell_type": "code",
   "execution_count": 26,
   "metadata": {},
   "outputs": [
    {
     "data": {
      "text/plain": [
       "793    0\n",
       "851    1\n",
       "768    1\n",
       "777    1\n",
       "178    1\n",
       "      ..\n",
       "922    1\n",
       "874    1\n",
       "912    1\n",
       "784    1\n",
       "92     0\n",
       "Length: 324, dtype: int64"
      ]
     },
     "execution_count": 26,
     "metadata": {},
     "output_type": "execute_result"
    }
   ],
   "source": [
    "pred_y"
   ]
  },
  {
   "cell_type": "code",
   "execution_count": 12,
   "metadata": {},
   "outputs": [
    {
     "name": "stdout",
     "output_type": "stream",
     "text": [
      "preprocess dataframe = 0.043secs\n"
     ]
    },
    {
     "name": "stderr",
     "output_type": "stream",
     "text": [
      "/home/jack/code/TechLah/RevuSum/interface/testing.py:219: SettingWithCopyWarning: \n",
      "A value is trying to be set on a copy of a slice from a DataFrame.\n",
      "Try using .loc[row_indexer,col_indexer] = value instead\n",
      "\n",
      "See the caveats in the documentation: https://pandas.pydata.org/pandas-docs/stable/user_guide/indexing.html#returning-a-view-versus-a-copy\n",
      "  dataframe[columns_to_replace] = dataframe[columns_to_replace].fillna('nothing')\n"
     ]
    },
    {
     "ename": "ValueError",
     "evalue": "too many values to unpack (expected 2)",
     "output_type": "error",
     "traceback": [
      "\u001b[0;31m---------------------------------------------------------------------------\u001b[0m",
      "\u001b[0;31mValueError\u001b[0m                                Traceback (most recent call last)",
      "Cell \u001b[0;32mIn[12], line 2\u001b[0m\n\u001b[1;32m      1\u001b[0m preprocessed_df \u001b[39m=\u001b[39m preprocess_of_test_data(holiday_df)\n\u001b[0;32m----> 2\u001b[0m pred_y, test_y \u001b[39m=\u001b[39m prediction_of_test_data(preprocessed_df)\n\u001b[1;32m      3\u001b[0m accuracy_hotel\u001b[39m.\u001b[39mappend(accuracy_score(pred_y,test_y))\n",
      "\u001b[0;31mValueError\u001b[0m: too many values to unpack (expected 2)"
     ]
    }
   ],
   "source": [
    "preprocessed_df = preprocess_of_test_data(holiday_df)\n",
    "pred_y, test_y = prediction_of_test_data(preprocessed_df)\n",
    "accuracy_hotel.append(accuracy_score(pred_y,test_y))"
   ]
  },
  {
   "cell_type": "code",
   "execution_count": 111,
   "metadata": {},
   "outputs": [
    {
     "name": "stdout",
     "output_type": "stream",
     "text": [
      "preprocess dataframe = 0.064secs\n",
      "importing model = 0.0secs\n",
      "predicting outcome = 0.002secs\n"
     ]
    }
   ],
   "source": [
    "preprocessed_df = preprocess_of_test_data(albert_df)\n",
    "pred_y, test_y = prediction_of_test_data(preprocessed_df)\n",
    "accuracy_hotel.append(accuracy_score(pred_y,test_y))"
   ]
  },
  {
   "cell_type": "code",
   "execution_count": 112,
   "metadata": {},
   "outputs": [
    {
     "name": "stdout",
     "output_type": "stream",
     "text": [
      "preprocess dataframe = 0.04secs\n",
      "importing model = 0.0secs\n",
      "predicting outcome = 0.001secs\n"
     ]
    }
   ],
   "source": [
    "preprocessed_df = preprocess_of_test_data(ibis_style_df)\n",
    "pred_y, test_y = prediction_of_test_data(preprocessed_df)\n",
    "accuracy_hotel.append(accuracy_score(pred_y,test_y))"
   ]
  },
  {
   "cell_type": "code",
   "execution_count": 113,
   "metadata": {},
   "outputs": [
    {
     "name": "stdout",
     "output_type": "stream",
     "text": [
      "preprocess dataframe = 0.202secs\n",
      "importing model = 0.0secs\n",
      "predicting outcome = 0.007secs\n"
     ]
    }
   ],
   "source": [
    "preprocessed_df = preprocess_of_test_data(farrer_df)\n",
    "pred_y, test_y = prediction_of_test_data(preprocessed_df)\n",
    "accuracy_hotel.append(accuracy_score(pred_y,test_y))"
   ]
  },
  {
   "cell_type": "code",
   "execution_count": 116,
   "metadata": {},
   "outputs": [
    {
     "data": {
      "text/plain": [
       "[0.7993827160493827,\n",
       " 0.8562091503267973,\n",
       " 0.8509803921568627,\n",
       " 0.8269230769230769,\n",
       " 0.9287671232876712]"
      ]
     },
     "execution_count": 116,
     "metadata": {},
     "output_type": "execute_result"
    }
   ],
   "source": [
    "accuracy_hotel"
   ]
  },
  {
   "cell_type": "code",
   "execution_count": 117,
   "metadata": {},
   "outputs": [
    {
     "data": {
      "text/plain": [
       "(727, 4)"
      ]
     },
     "execution_count": 117,
     "metadata": {},
     "output_type": "execute_result"
    }
   ],
   "source": [
    "ibis_budget_df.shape"
   ]
  },
  {
   "cell_type": "code",
   "execution_count": 30,
   "metadata": {},
   "outputs": [
    {
     "data": {
      "text/plain": [
       "Index(['Review', 'Pred', 'Label'], dtype='object')"
      ]
     },
     "execution_count": 30,
     "metadata": {},
     "output_type": "execute_result"
    }
   ],
   "source": [
    "results.columns"
   ]
  },
  {
   "cell_type": "code",
   "execution_count": 42,
   "metadata": {},
   "outputs": [],
   "source": [
    "keywords = ['location', 'service', 'bed']"
   ]
  },
  {
   "cell_type": "code",
   "execution_count": 45,
   "metadata": {},
   "outputs": [],
   "source": [
    "return_dict=dict()\n",
    "for keyword in keywords:\n",
    "    keyword_bool = results['Review'].str.contains(keyword)\n",
    "    results_bool = results[keyword_bool]\n",
    "    pos_reviews_percentage = round(results_bool.Pred.sum()/len(results_bool),2)\n",
    "    return_dict.update({keyword: pos_reviews_percentage})"
   ]
  },
  {
   "cell_type": "code",
   "execution_count": 46,
   "metadata": {},
   "outputs": [
    {
     "data": {
      "text/plain": [
       "{'location': 0.92, 'service': 0.42, 'bed': 0.44}"
      ]
     },
     "execution_count": 46,
     "metadata": {},
     "output_type": "execute_result"
    }
   ],
   "source": [
    "return_dict"
   ]
  },
  {
   "cell_type": "code",
   "execution_count": null,
   "metadata": {},
   "outputs": [],
   "source": [
    "main(df, \"Ibis Budget Singapore Pearl\")"
   ]
  },
  {
   "cell_type": "code",
   "execution_count": 26,
   "metadata": {},
   "outputs": [],
   "source": [
    "pegasus_tokenizer, pegasus_model = load_model()"
   ]
  },
  {
   "cell_type": "code",
   "execution_count": 28,
   "metadata": {},
   "outputs": [],
   "source": [
    "with open('../ml_model/pegasus_tokenizer.pkl', 'wb') as file:\n",
    "    pickle.dump(pegasus_tokenizer, file)"
   ]
  },
  {
   "cell_type": "code",
   "execution_count": 29,
   "metadata": {},
   "outputs": [],
   "source": [
    "with open('../ml_model/pegasus_model.pkl', 'wb') as file:\n",
    "    pickle.dump(pegasus_model, file)"
   ]
  },
  {
   "cell_type": "code",
   "execution_count": 32,
   "metadata": {},
   "outputs": [
    {
     "name": "stderr",
     "output_type": "stream",
     "text": [
      "2023-06-27 12:45:47,188 - \u001b[32mINFO\u001b[0m - inference_interface.py:75 - inference_interface._produce_server - 2998 - set up punctuator\n",
      "2023-06-27 12:45:47,192 - \u001b[32mINFO\u001b[0m - inference_pipeline.py:96 - inference_pipeline.__init__ - 2998 - device type: cuda\n",
      "2023-06-27 12:45:48,674 - \u001b[32mINFO\u001b[0m - inference_interface.py:88 - inference_interface._produce_server - 2998 - start running punctuator\n",
      "2023-06-27 12:45:51,063 - \u001b[32mINFO\u001b[0m - inference_interface.py:91 - inference_interface._produce_server - 2998 - start client\n"
     ]
    },
    {
     "name": "stderr",
     "output_type": "stream",
     "text": [
      "2023-06-27 12:45:52,177 - \u001b[32mINFO\u001b[0m - inference_pipeline.py:311 - inference_pipeline.run - 7365 - server is running\n"
     ]
    }
   ],
   "source": [
    "punctuator_model = generate_punctuation('','')"
   ]
  },
  {
   "cell_type": "code",
   "execution_count": 35,
   "metadata": {},
   "outputs": [],
   "source": [
    "from dbpunctuator.inference import Inference, InferenceArguments\n",
    "from dbpunctuator.utils import DEFAULT_ENGLISH_TAG_PUNCTUATOR_MAP"
   ]
  },
  {
   "cell_type": "code",
   "execution_count": 36,
   "metadata": {},
   "outputs": [
    {
     "name": "stderr",
     "output_type": "stream",
     "text": [
      "2023-06-27 13:02:04,164 - \u001b[32mINFO\u001b[0m - inference_interface.py:75 - inference_interface._produce_server - 2998 - set up punctuator\n",
      "2023-06-27 13:02:04,165 - \u001b[32mINFO\u001b[0m - inference_pipeline.py:96 - inference_pipeline.__init__ - 2998 - device type: cuda\n",
      "2023-06-27 13:02:05,177 - \u001b[32mINFO\u001b[0m - inference_interface.py:88 - inference_interface._produce_server - 2998 - start running punctuator\n",
      "2023-06-27 13:02:07,342 - \u001b[32mINFO\u001b[0m - inference_interface.py:91 - inference_interface._produce_server - 2998 - start client\n"
     ]
    },
    {
     "ename": "TypeError",
     "evalue": "'default' is an invalid keyword argument for dump()",
     "output_type": "error",
     "traceback": [
      "\u001b[0;31m---------------------------------------------------------------------------\u001b[0m",
      "\u001b[0;31mTypeError\u001b[0m                                 Traceback (most recent call last)",
      "Cell \u001b[0;32mIn[36], line 17\u001b[0m\n\u001b[1;32m     15\u001b[0m \u001b[39m# Save the punctuator_model object using the custom pickling function\u001b[39;00m\n\u001b[1;32m     16\u001b[0m \u001b[39mwith\u001b[39;00m \u001b[39mopen\u001b[39m(pickle_file_path, \u001b[39m'\u001b[39m\u001b[39mwb\u001b[39m\u001b[39m'\u001b[39m) \u001b[39mas\u001b[39;00m f:\n\u001b[0;32m---> 17\u001b[0m     pickle\u001b[39m.\u001b[39;49mdump(punctuator_model, f, default\u001b[39m=\u001b[39;49mpickle_punctuator_model)\n",
      "\u001b[0;31mTypeError\u001b[0m: 'default' is an invalid keyword argument for dump()"
     ]
    }
   ],
   "source": [
    "# Define the InferenceArguments\n",
    "args = InferenceArguments(\n",
    "    model_name_or_path=\"Qishuai/distilbert_punctuator_en\",\n",
    "    tokenizer_name=\"Qishuai/distilbert_punctuator_en\",\n",
    "    tag2punctuator=DEFAULT_ENGLISH_TAG_PUNCTUATOR_MAP\n",
    ")\n",
    "# Create the punctuator_model object\n",
    "punctuator_model = Inference(inference_args=args, verbose=False)\n",
    "# Define a custom pickling function for the punctuator_model\n",
    "def pickle_punctuator_model(obj):\n",
    "    # Return a dictionary representation of the object\n",
    "    return obj.__dict__\n",
    "# Specify the path for the pickle file\n",
    "pickle_file_path = '../ml_model/punctuator_model.pkl'\n",
    "# Save the punctuator_model object using the custom pickling function\n",
    "with open(pickle_file_path, 'wb') as f:\n",
    "    pickle.dump(punctuator_model, f, default=pickle_punctuator_model)"
   ]
  },
  {
   "cell_type": "code",
   "execution_count": 1,
   "metadata": {},
   "outputs": [
    {
     "name": "stdout",
     "output_type": "stream",
     "text": [
      "absl-py==1.4.0\n",
      "anyio==3.7.0\n",
      "argon2-cffi==21.3.0\n",
      "argon2-cffi-bindings==21.2.0\n",
      "arrow==1.2.3\n",
      "astroid==2.15.5\n",
      "asttokens==2.2.1\n",
      "astunparse==1.6.3\n",
      "async-lru==2.0.2\n",
      "attrs==23.1.0\n",
      "Babel==2.12.1\n",
      "backcall==0.2.0\n",
      "beautifulsoup4==4.12.2\n",
      "bleach==6.0.0\n",
      "cachetools==5.3.1\n",
      "certifi==2023.5.7\n",
      "cffi==1.15.1\n",
      "charset-normalizer==3.1.0\n",
      "click==7.1.2\n",
      "cloudpickle==2.2.1\n",
      "cmake==3.26.4\n",
      "comm==0.1.3\n",
      "contourpy==1.1.0\n",
      "cycler==0.11.0\n",
      "debugpy==1.6.7\n",
      "decorator==5.1.1\n",
      "defusedxml==0.7.1\n",
      "dill==0.3.6\n",
      "distilbert-punctuator==0.3.0\n",
      "exceptiongroup==1.1.1\n",
      "executing==1.2.0\n",
      "fastjsonschema==2.17.1\n",
      "filelock==3.12.2\n",
      "flatbuffers==23.5.26\n",
      "fonttools==4.40.0\n",
      "fqdn==1.5.1\n",
      "fsspec==2023.6.0\n",
      "future==0.18.3\n",
      "gast==0.4.0\n",
      "gensim==4.3.1\n",
      "google-auth==2.20.0\n",
      "google-auth-oauthlib==1.0.0\n",
      "google-pasta==0.2.0\n",
      "grpcio==1.54.2\n",
      "h5py==3.9.0\n",
      "huggingface-hub==0.15.1\n",
      "hyperopt==0.2.7\n",
      "idna==3.4\n",
      "iniconfig==2.0.0\n",
      "ipdb==0.13.13\n",
      "ipykernel==6.23.2\n",
      "ipython==8.14.0\n",
      "isoduration==20.11.0\n",
      "isort==5.12.0\n",
      "jax==0.4.12\n",
      "jedi==0.18.2\n",
      "jellyfish==0.11.2\n",
      "Jinja2==3.1.2\n",
      "joblib==1.2.0\n",
      "json5==0.9.14\n",
      "jsonpointer==2.4\n",
      "jsonschema==4.17.3\n",
      "jupyter-events==0.6.3\n",
      "jupyter-lsp==2.2.0\n",
      "jupyter_client==8.2.0\n",
      "jupyter_core==5.3.1\n",
      "jupyter_server==2.6.0\n",
      "jupyter_server_terminals==0.4.4\n",
      "jupyterlab==4.0.2\n",
      "jupyterlab-pygments==0.2.2\n",
      "jupyterlab_server==2.23.0\n",
      "keras==2.12.0\n",
      "kiwisolver==1.4.4\n",
      "lazy-object-proxy==1.9.0\n",
      "libclang==16.0.0\n",
      "lit==16.0.6\n",
      "Markdown==3.4.3\n",
      "MarkupSafe==2.1.3\n",
      "matplotlib==3.7.1\n",
      "matplotlib-inline==0.1.6\n",
      "mccabe==0.7.0\n",
      "mistune==3.0.1\n",
      "ml-dtypes==0.2.0\n",
      "mpmath==1.3.0\n",
      "nbclient==0.8.0\n",
      "nbconvert==7.6.0\n",
      "nbformat==5.9.0\n",
      "nest-asyncio==1.5.6\n",
      "networkx==3.1\n",
      "nltk==3.8.1\n",
      "notebook_shim==0.2.3\n",
      "numpy==1.23.5\n",
      "nvidia-cublas-cu11==11.10.3.66\n",
      "nvidia-cuda-cupti-cu11==11.7.101\n",
      "nvidia-cuda-nvrtc-cu11==11.7.99\n",
      "nvidia-cuda-runtime-cu11==11.7.99\n",
      "nvidia-cudnn-cu11==8.5.0.96\n",
      "nvidia-cufft-cu11==10.9.0.58\n",
      "nvidia-curand-cu11==10.2.10.91\n",
      "nvidia-cusolver-cu11==11.4.0.1\n",
      "nvidia-cusparse-cu11==11.7.4.91\n",
      "nvidia-nccl-cu11==2.14.3\n",
      "nvidia-nvtx-cu11==11.7.91\n",
      "oauthlib==3.2.2\n",
      "opt-einsum==3.3.0\n",
      "overrides==7.3.1\n",
      "packaging==23.1\n",
      "pandas==2.0.2\n",
      "pandocfilters==1.5.0\n",
      "parso==0.8.3\n",
      "pegasus==0.1.3\n",
      "pexpect==4.8.0\n",
      "pickleshare==0.7.5\n",
      "Pillow==9.5.0\n",
      "plane==0.2.1\n",
      "platformdirs==3.7.0\n",
      "pluggy==1.0.0\n",
      "prometheus-client==0.17.0\n",
      "prompt-toolkit==3.0.38\n",
      "protobuf==4.23.3\n",
      "psutil==5.9.5\n",
      "ptyprocess==0.7.0\n",
      "pure-eval==0.2.2\n",
      "py4j==0.10.9.7\n",
      "pyasn1==0.5.0\n",
      "pyasn1-modules==0.3.0\n",
      "pycparser==2.21\n",
      "pydantic==1.8.2\n",
      "Pygments==2.15.1\n",
      "pylint==2.17.4\n",
      "pyparsing==3.1.0\n",
      "pyrsistent==0.19.3\n",
      "pytest==7.3.2\n",
      "python-dateutil==2.8.2\n",
      "python-json-logger==2.0.7\n",
      "pytz==2023.3\n",
      "PyYAML==6.0\n",
      "pyzmq==25.1.0\n",
      "regex==2023.6.3\n",
      "requests==2.31.0\n",
      "requests-oauthlib==1.3.1\n",
      "rfc3339-validator==0.1.4\n",
      "rfc3986-validator==0.1.1\n",
      "rsa==4.9\n",
      "safetensors==0.3.1\n",
      "scikit-learn==1.2.2\n",
      "scipy==1.10.1\n",
      "seaborn==0.12.2\n",
      "segtok==1.5.11\n",
      "Send2Trash==1.8.2\n",
      "sentencepiece==0.1.99\n",
      "six==1.16.0\n",
      "smart-open==6.3.0\n",
      "sniffio==1.3.0\n",
      "soupsieve==2.4.1\n",
      "stack-data==0.6.2\n",
      "sympy==1.12\n",
      "tabulate==0.9.0\n",
      "tensorboard==2.12.3\n",
      "tensorboard-data-server==0.7.1\n",
      "tensorflow==2.12.0\n",
      "tensorflow-estimator==2.12.0\n",
      "tensorflow-io-gcs-filesystem==0.32.0\n",
      "termcolor==2.3.0\n",
      "terminado==0.17.1\n",
      "threadpoolctl==3.1.0\n",
      "tinycss2==1.2.1\n",
      "tokenizers==0.13.3\n",
      "tomli==2.0.1\n",
      "tomlkit==0.11.8\n",
      "torch==2.0.1\n",
      "tornado==6.3.2\n",
      "tqdm==4.65.0\n",
      "traitlets==5.9.0\n",
      "transformers==4.30.2\n",
      "triton==2.0.0\n",
      "typer==0.3.2\n",
      "typing_extensions==4.6.3\n",
      "tzdata==2023.3\n",
      "uri-template==1.3.0\n",
      "urllib3==1.26.16\n",
      "wcwidth==0.2.6\n",
      "webcolors==1.13\n",
      "webencodings==0.5.1\n",
      "websocket-client==1.6.0\n",
      "Werkzeug==2.3.6\n",
      "wrapt==1.14.1\n",
      "xgboost==1.7.6\n",
      "yake @ git+https://github.com/LIAAD/yake@374fc1c1c19eb080d5b6115cbb8d4a4324392e54\n"
     ]
    }
   ],
   "source": [
    "!pip freeze"
   ]
  },
  {
   "cell_type": "code",
   "execution_count": 16,
   "metadata": {},
   "outputs": [
    {
     "data": {
      "text/plain": [
       "{'room': 0.37, 'clean': 0.72, 'hotel': 0.53, 'good': 0.75, 'staff': 0.78}"
      ]
     },
     "execution_count": 16,
     "metadata": {},
     "output_type": "execute_result"
    }
   ],
   "source": [
    "from ml_logic.sentiment_analysis import keywordextracter,calculate_percentage\n",
    "\n",
    "keywordlist =keywordextracter(preprocessed_df)\n",
    "return_dict = calculate_percentage(results,keywordlist)\n",
    "return_dict"
   ]
  }
 ],
 "metadata": {
  "kernelspec": {
   "display_name": "RevuSum",
   "language": "python",
   "name": "python3"
  },
  "language_info": {
   "codemirror_mode": {
    "name": "ipython",
    "version": 3
   },
   "file_extension": ".py",
   "mimetype": "text/x-python",
   "name": "python",
   "nbconvert_exporter": "python",
   "pygments_lexer": "ipython3",
   "version": "3.10.6"
  },
  "orig_nbformat": 4
 },
 "nbformat": 4,
 "nbformat_minor": 2
}
