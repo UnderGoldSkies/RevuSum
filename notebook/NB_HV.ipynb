{
 "cells": [
  {
   "cell_type": "code",
   "execution_count": 2,
   "metadata": {},
   "outputs": [],
   "source": [
    "import pandas as pd\n",
    "import numpy as np\n",
    "from sklearn.feature_extraction.text import HashingVectorizer\n",
    "from sklearn.model_selection import cross_validate\n",
    "from sklearn.pipeline import make_pipeline\n",
    "from sklearn.naive_bayes import MultinomialNB\n",
    "from sklearn.model_selection import GridSearchCV\n",
    "from sklearn.model_selection import train_test_split\n",
    "from sklearn.metrics import accuracy_score"
   ]
  },
  {
   "cell_type": "code",
   "execution_count": 3,
   "metadata": {},
   "outputs": [],
   "source": [
    "file_path = '~/code/TechLah/RevuSum/data/processed_kswdf.csv'\n",
    "hotelreviews = pd.read_csv(file_path)\n",
    "df = hotelreviews.copy()"
   ]
  },
  {
   "cell_type": "code",
   "execution_count": 4,
   "metadata": {},
   "outputs": [],
   "source": [
    "X = df['Review']\n",
    "y = df['Label']\n",
    "\n",
    "X_train, X_test, y_train, y_test = train_test_split(X,y, shuffle=True,test_size=0.3)"
   ]
  },
  {
   "cell_type": "code",
   "execution_count": 5,
   "metadata": {},
   "outputs": [
    {
     "name": "stdout",
     "output_type": "stream",
     "text": [
      "Fitting 5 folds for each of 6 candidates, totalling 30 fits\n",
      "Best Score = 0.9504380092524775\n",
      "Best params = {'hashingvectorizer__alternate_sign': False, 'hashingvectorizer__n_features': 10000, 'hashingvectorizer__norm': 'l1', 'multinomialnb__alpha': 1}\n"
     ]
    }
   ],
   "source": [
    "# Pipeline Hashing vectorizer + Naive Bayes\n",
    "pipeline_naive_bayes = make_pipeline(\n",
    "    HashingVectorizer(),\n",
    "    MultinomialNB()\n",
    ")\n",
    "\n",
    "# Define the grid of parameters\n",
    "parameters = {\n",
    "    'hashingvectorizer__n_features': [10000],\n",
    "    'hashingvectorizer__norm': [None,'l1','l2'],\n",
    "    'hashingvectorizer__alternate_sign': [False],\n",
    "    'multinomialnb__alpha': [0.1, 1]\n",
    "}\n",
    "\n",
    "# Perform Grid Search\n",
    "grid_search = GridSearchCV(\n",
    "    pipeline_naive_bayes,\n",
    "    parameters,\n",
    "    scoring = \"recall\",\n",
    "    cv = 5,\n",
    "    n_jobs=-1,\n",
    "    verbose=1\n",
    ")\n",
    "\n",
    "grid_search.fit(df['Review'],df['Label'])\n",
    "\n",
    "# Best score\n",
    "print(f\"Best Score = {grid_search.best_score_}\")\n",
    "\n",
    "# Best params\n",
    "print(f\"Best params = {grid_search.best_params_}\")"
   ]
  },
  {
   "cell_type": "code",
   "execution_count": 6,
   "metadata": {},
   "outputs": [
    {
     "name": "stdout",
     "output_type": "stream",
     "text": [
      "Mean Accuracy Score: 0.93\n"
     ]
    }
   ],
   "source": [
    "# Access the best parameters\n",
    "best_params = grid_search.best_params_\n",
    "\n",
    "# Use the best parameters to create a pipeline\n",
    "pipeline_best = make_pipeline(\n",
    "    HashingVectorizer(alternate_sign=best_params['hashingvectorizer__alternate_sign'],\n",
    "                      n_features=best_params['hashingvectorizer__n_features'],\n",
    "                      norm=best_params['hashingvectorizer__norm']),\n",
    "    MultinomialNB(alpha=best_params['multinomialnb__alpha'])\n",
    ")\n",
    "\n",
    "cv_nb_hash = cross_validate(\n",
    "    pipeline_best,\n",
    "    df['Review'],\n",
    "    df['Label'],\n",
    "    scoring = \"accuracy\",\n",
    "    cv=10\n",
    ")\n",
    "\n",
    "# Print the mean recall score\n",
    "print(f\"Mean Accuracy Score: {round(cv_nb_hash['test_score'].mean(),2)}\")"
   ]
  },
  {
   "cell_type": "code",
   "execution_count": 7,
   "metadata": {},
   "outputs": [
    {
     "name": "stdout",
     "output_type": "stream",
     "text": [
      "Accuracy: 0.9299354000575227\n"
     ]
    }
   ],
   "source": [
    "hash_nb_model = pipeline_best.fit(X_train,y_train)\n",
    "y_pred = hash_nb_model.predict(X_test)\n",
    "accuracy = accuracy_score(y_test, y_pred)\n",
    "print(\"Accuracy:\", accuracy)"
   ]
  }
 ],
 "metadata": {
  "kernelspec": {
   "display_name": "RevuSum",
   "language": "python",
   "name": "python3"
  },
  "language_info": {
   "codemirror_mode": {
    "name": "ipython",
    "version": 3
   },
   "file_extension": ".py",
   "mimetype": "text/x-python",
   "name": "python",
   "nbconvert_exporter": "python",
   "pygments_lexer": "ipython3",
   "version": "3.10.6"
  },
  "orig_nbformat": 4
 },
 "nbformat": 4,
 "nbformat_minor": 2
}
