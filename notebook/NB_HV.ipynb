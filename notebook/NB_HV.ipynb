{
 "cells": [
  {
   "cell_type": "code",
   "execution_count": 1,
   "metadata": {},
   "outputs": [],
   "source": [
    "%load_ext autoreload\n",
    "%autoreload 2\n",
    "%reload_ext autoreload"
   ]
  },
  {
   "cell_type": "code",
   "execution_count": 2,
   "metadata": {},
   "outputs": [],
   "source": [
    "import pandas as pd\n",
    "import numpy as np\n",
    "from sklearn.feature_extraction.text import HashingVectorizer\n",
    "from sklearn.model_selection import cross_validate\n",
    "from sklearn.pipeline import make_pipeline\n",
    "from sklearn.naive_bayes import MultinomialNB\n",
    "from sklearn.model_selection import GridSearchCV\n",
    "from sklearn.model_selection import train_test_split\n",
    "from sklearn.metrics import accuracy_score\n",
    "import pickle"
   ]
  },
  {
   "cell_type": "code",
   "execution_count": 3,
   "metadata": {},
   "outputs": [],
   "source": [
    "# file_path = '~/code/TechLah/RevuSum/data/lemm_df.csv'\n",
    "\n",
    "# Load the train_dataframe.pkl file\n",
    "with open('lemm_train_df.pkl', 'rb') as file:\n",
    "    data = pickle.load(file)\n",
    "\n",
    "# Convert the loaded data to a DataFrame\n",
    "hotelreviews = pd.DataFrame(data)\n",
    "\n",
    "df = hotelreviews.copy()"
   ]
  },
  {
   "cell_type": "code",
   "execution_count": 4,
   "metadata": {},
   "outputs": [
    {
     "data": {
      "text/html": [
       "<div>\n",
       "<style scoped>\n",
       "    .dataframe tbody tr th:only-of-type {\n",
       "        vertical-align: middle;\n",
       "    }\n",
       "\n",
       "    .dataframe tbody tr th {\n",
       "        vertical-align: top;\n",
       "    }\n",
       "\n",
       "    .dataframe thead th {\n",
       "        text-align: right;\n",
       "    }\n",
       "</style>\n",
       "<table border=\"1\" class=\"dataframe\">\n",
       "  <thead>\n",
       "    <tr style=\"text-align: right;\">\n",
       "      <th></th>\n",
       "      <th>Review</th>\n",
       "      <th>Label</th>\n",
       "    </tr>\n",
       "  </thead>\n",
       "  <tbody>\n",
       "    <tr>\n",
       "      <th>610301</th>\n",
       "      <td>can it think of anything negative to say about...</td>\n",
       "      <td>1</td>\n",
       "    </tr>\n",
       "    <tr>\n",
       "      <th>328118</th>\n",
       "      <td>small room the bathroom be open to the room wh...</td>\n",
       "      <td>0</td>\n",
       "    </tr>\n",
       "  </tbody>\n",
       "</table>\n",
       "</div>"
      ],
      "text/plain": [
       "                                                   Review  Label\n",
       "610301  can it think of anything negative to say about...      1\n",
       "328118  small room the bathroom be open to the room wh...      0"
      ]
     },
     "execution_count": 4,
     "metadata": {},
     "output_type": "execute_result"
    }
   ],
   "source": [
    "df.head(2)"
   ]
  },
  {
   "cell_type": "code",
   "execution_count": 5,
   "metadata": {},
   "outputs": [
    {
     "data": {
      "text/plain": [
       "('i be so angry that i make this post available via all possible sit i use when plan my trip so no one will make the mistake of book this place i make my book via book com we stay for night in this hotel from to july upon arrival we be place in a small room on the nd floor of the hotel it turn out that this be not the room we book i have specially reserve the level duplex room so that we would have a big window and high ceiling the room itself be ok if you don t mind the break window that can not be close hello rain and a mini fridge that contain some sort of a bio weapon at least i guess so by the smell of it i intimately ask to change the room and after explain time that i book a duplex btw it cost the same a a simple double but get way more volume due to the high ceiling be offer a room but only the next day so i have to check out the next day before o clock in order to get the room i wan to not the best way to begin your holiday so we have to wait till in order to check in my new room what a wonderful waist of my time the room i get be just a i want to peaceful internal garden view big window we be tire from wait the room so we place our belong and rush to the city in the even it turn out that there be a constant noise in the room i guess it be make by vibrate vent tube or something it be constant and annoy a hell and it do not stop even at be make it hard to fall asleep for me and my wife i have an audio record that i can not attach here but if you want i can send it via e mail the next day the technician come but be not able to determine the cause of the disturb sound so i be offer to change the room once again the hotel be fully book and they have only room leave the one that be smaller but seem newer',\n",
       " str)"
      ]
     },
     "execution_count": 5,
     "metadata": {},
     "output_type": "execute_result"
    }
   ],
   "source": [
    "df['Review'][0],type(df['Review'][0])"
   ]
  },
  {
   "cell_type": "code",
   "execution_count": 6,
   "metadata": {},
   "outputs": [],
   "source": [
    "X = df['Review']\n",
    "y = df['Label']\n",
    "\n",
    "X_train, X_test, y_train, y_test = train_test_split(X,y, shuffle=True,test_size=0.3,random_state=1)"
   ]
  },
  {
   "cell_type": "code",
   "execution_count": 7,
   "metadata": {},
   "outputs": [
    {
     "data": {
      "text/plain": [
       "(434446,)"
      ]
     },
     "execution_count": 7,
     "metadata": {},
     "output_type": "execute_result"
    }
   ],
   "source": [
    "X_train.shape"
   ]
  },
  {
   "cell_type": "code",
   "execution_count": 8,
   "metadata": {},
   "outputs": [
    {
     "data": {
      "text/plain": [
       "('i be so angry that i make this post available via all possible sit i use when plan my trip so no one will make the mistake of book this place i make my book via book com we stay for night in this hotel from to july upon arrival we be place in a small room on the nd floor of the hotel it turn out that this be not the room we book i have specially reserve the level duplex room so that we would have a big window and high ceiling the room itself be ok if you don t mind the break window that can not be close hello rain and a mini fridge that contain some sort of a bio weapon at least i guess so by the smell of it i intimately ask to change the room and after explain time that i book a duplex btw it cost the same a a simple double but get way more volume due to the high ceiling be offer a room but only the next day so i have to check out the next day before o clock in order to get the room i wan to not the best way to begin your holiday so we have to wait till in order to check in my new room what a wonderful waist of my time the room i get be just a i want to peaceful internal garden view big window we be tire from wait the room so we place our belong and rush to the city in the even it turn out that there be a constant noise in the room i guess it be make by vibrate vent tube or something it be constant and annoy a hell and it do not stop even at be make it hard to fall asleep for me and my wife i have an audio record that i can not attach here but if you want i can send it via e mail the next day the technician come but be not able to determine the cause of the disturb sound so i be offer to change the room once again the hotel be fully book and they have only room leave the one that be smaller but seem newer',\n",
       " str)"
      ]
     },
     "execution_count": 8,
     "metadata": {},
     "output_type": "execute_result"
    }
   ],
   "source": [
    "X[0],type(X[0])"
   ]
  },
  {
   "cell_type": "code",
   "execution_count": 9,
   "metadata": {},
   "outputs": [
    {
     "name": "stdout",
     "output_type": "stream",
     "text": [
      "Fitting 5 folds for each of 12 candidates, totalling 60 fits\n",
      "Best Score = 0.9248537231167138\n",
      "Best params = {'hashingvectorizer__ngram_range': (1, 1), 'hashingvectorizer__norm': 'l1', 'multinomialnb__alpha': 0.1}\n"
     ]
    }
   ],
   "source": [
    "# Pipeline Hashing vectorizer + Naive Bayes\n",
    "pipeline_naive_bayes = make_pipeline(\n",
    "    HashingVectorizer(n_features=10000,alternate_sign=False),\n",
    "    MultinomialNB()\n",
    ")\n",
    "\n",
    "# Define the grid of parameters\n",
    "parameters = {\n",
    "    'hashingvectorizer__norm': ['l1','l2'],\n",
    "    'hashingvectorizer__ngram_range': [(1, 1),(1, 2), (1, 3)],\n",
    "    'multinomialnb__alpha': [0.1, 1]\n",
    "}\n",
    "\n",
    "# Perform Grid Search\n",
    "grid_search = GridSearchCV(\n",
    "    pipeline_naive_bayes,\n",
    "    parameters,\n",
    "    scoring = \"accuracy\",\n",
    "    cv = 5,\n",
    "    n_jobs=-1,\n",
    "    verbose=1\n",
    ")\n",
    "\n",
    "grid_search.fit(X_train,y_train)\n",
    "\n",
    "# Best score\n",
    "print(f\"Best Score = {grid_search.best_score_}\")\n",
    "\n",
    "# Best params\n",
    "print(f\"Best params = {grid_search.best_params_}\")"
   ]
  },
  {
   "cell_type": "code",
   "execution_count": 10,
   "metadata": {},
   "outputs": [
    {
     "name": "stdout",
     "output_type": "stream",
     "text": [
      "Mean Accuracy Score: 0.92\n"
     ]
    }
   ],
   "source": [
    "# Access the best parameters\n",
    "best_params = grid_search.best_params_\n",
    "\n",
    "# Use the best parameters to create a pipeline\n",
    "pipeline_best = make_pipeline(\n",
    "    HashingVectorizer(alternate_sign=False,\n",
    "                      n_features=10000,\n",
    "                      ngram_range=best_params['hashingvectorizer__ngram_range'],\n",
    "                      norm=best_params['hashingvectorizer__norm']),\n",
    "    MultinomialNB(alpha=best_params['multinomialnb__alpha'])\n",
    ")\n",
    "\n",
    "cv_nb_hash = cross_validate(\n",
    "    pipeline_best,\n",
    "    X_test,\n",
    "    y_test,\n",
    "    scoring = \"accuracy\",\n",
    "    cv=10\n",
    ")\n",
    "\n",
    "# Print the mean recall score\n",
    "print(f\"Mean Accuracy Score: {round(cv_nb_hash['test_score'].mean(),2)}\")"
   ]
  },
  {
   "cell_type": "code",
   "execution_count": 11,
   "metadata": {},
   "outputs": [
    {
     "name": "stdout",
     "output_type": "stream",
     "text": [
      "Accuracy: 0.9252760591217668\n"
     ]
    }
   ],
   "source": [
    "hash_nb_model = pipeline_best.fit(X_train,y_train)\n",
    "y_pred = hash_nb_model.predict(X_test)\n",
    "accuracy = accuracy_score(y_test, y_pred)\n",
    "print(\"Accuracy:\", accuracy)"
   ]
  },
  {
   "cell_type": "code",
   "execution_count": 13,
   "metadata": {},
   "outputs": [],
   "source": [
    "import pickle\n",
    "\n",
    "# Assuming you have a trained model object named 'model'\n",
    "# Save the model to a file\n",
    "with open('../data/hash_nb_model(92%).pkl', 'wb') as file:\n",
    "    pickle.dump(hash_nb_model, file)"
   ]
  }
 ],
 "metadata": {
  "kernelspec": {
   "display_name": "RevuSum",
   "language": "python",
   "name": "python3"
  },
  "language_info": {
   "codemirror_mode": {
    "name": "ipython",
    "version": 3
   },
   "file_extension": ".py",
   "mimetype": "text/x-python",
   "name": "python",
   "nbconvert_exporter": "python",
   "pygments_lexer": "ipython3",
   "version": "3.10.6"
  },
  "orig_nbformat": 4
 },
 "nbformat": 4,
 "nbformat_minor": 2
}
