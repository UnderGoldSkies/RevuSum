{
 "cells": [
  {
   "cell_type": "code",
   "execution_count": 9,
   "metadata": {},
   "outputs": [
    {
     "name": "stdout",
     "output_type": "stream",
     "text": [
      "The autoreload extension is already loaded. To reload it, use:\n",
      "  %reload_ext autoreload\n"
     ]
    }
   ],
   "source": [
    "%load_ext autoreload\n",
    "%autoreload 2"
   ]
  },
  {
   "cell_type": "code",
   "execution_count": 200,
   "metadata": {},
   "outputs": [],
   "source": [
    "%reload_ext autoreload"
   ]
  },
  {
   "cell_type": "code",
   "execution_count": 1,
   "metadata": {},
   "outputs": [],
   "source": [
    "import pandas as pd\n",
    "import numpy as np\n",
    "import sys\n",
    "sys.path.append('/home/jack/code/TechLah/RevuSum')\n",
    "from interface.testing import combine_and_label, basic_preprocessing_data,filter_reviews,lemm_data,prediction_all_in_one, prediction_of_test_data, preprocess_of_test_data"
   ]
  },
  {
   "cell_type": "code",
   "execution_count": 2,
   "metadata": {},
   "outputs": [],
   "source": [
    "train_file_path = '~/code/TechLah/RevuSum/data/training_df.csv'\n",
    "train_hotelreviews = pd.read_csv(train_file_path)\n",
    "train_df = train_hotelreviews.copy()"
   ]
  },
  {
   "cell_type": "code",
   "execution_count": 13,
   "metadata": {},
   "outputs": [
    {
     "data": {
      "text/plain": [
       "' I am so angry that i made this post available via all possible sites i use when planing my trips so no one will make the mistake of booking this place I made my booking via booking com We stayed for 6 nights in this hotel from 11 to 17 July Upon arrival we were placed in a small room on the 2nd floor of the hotel It turned out that this was not the room we booked I had specially reserved the 2 level duplex room so that we would have a big windows and high ceilings The room itself was ok if you don t mind the broken window that can not be closed hello rain and a mini fridge that contained some sort of a bio weapon at least i guessed so by the smell of it I intimately asked to change the room and after explaining 2 times that i booked a duplex btw it costs the same as a simple double but got way more volume due to the high ceiling was offered a room but only the next day SO i had to check out the next day before 11 o clock in order to get the room i waned to Not the best way to begin your holiday So we had to wait till 13 00 in order to check in my new room what a wonderful waist of my time The room 023 i got was just as i wanted to peaceful internal garden view big window We were tired from waiting the room so we placed our belongings and rushed to the city In the evening it turned out that there was a constant noise in the room i guess it was made by vibrating vent tubes or something it was constant and annoying as hell AND it did not stop even at 2 am making it hard to fall asleep for me and my wife I have an audio recording that i can not attach here but if you want i can send it via e mail The next day the technician came but was not able to determine the cause of the disturbing sound so i was offered to change the room once again the hotel was fully booked and they had only 1 room left the one that was smaller but seems newer '"
      ]
     },
     "execution_count": 13,
     "metadata": {},
     "output_type": "execute_result"
    }
   ],
   "source": [
    "train_df = combine_and_label(train_df)"
   ]
  },
  {
   "cell_type": "code",
   "execution_count": 3,
   "metadata": {},
   "outputs": [
    {
     "ename": "KeyError",
     "evalue": "'Review'",
     "output_type": "error",
     "traceback": [
      "\u001b[0;31m---------------------------------------------------------------------------\u001b[0m",
      "\u001b[0;31mKeyError\u001b[0m                                  Traceback (most recent call last)",
      "File \u001b[0;32m~/.pyenv/versions/3.10.6/envs/RevuSum/lib/python3.10/site-packages/pandas/core/indexes/base.py:3652\u001b[0m, in \u001b[0;36mIndex.get_loc\u001b[0;34m(self, key)\u001b[0m\n\u001b[1;32m   3651\u001b[0m \u001b[39mtry\u001b[39;00m:\n\u001b[0;32m-> 3652\u001b[0m     \u001b[39mreturn\u001b[39;00m \u001b[39mself\u001b[39;49m\u001b[39m.\u001b[39;49m_engine\u001b[39m.\u001b[39;49mget_loc(casted_key)\n\u001b[1;32m   3653\u001b[0m \u001b[39mexcept\u001b[39;00m \u001b[39mKeyError\u001b[39;00m \u001b[39mas\u001b[39;00m err:\n",
      "File \u001b[0;32m~/.pyenv/versions/3.10.6/envs/RevuSum/lib/python3.10/site-packages/pandas/_libs/index.pyx:147\u001b[0m, in \u001b[0;36mpandas._libs.index.IndexEngine.get_loc\u001b[0;34m()\u001b[0m\n",
      "File \u001b[0;32m~/.pyenv/versions/3.10.6/envs/RevuSum/lib/python3.10/site-packages/pandas/_libs/index.pyx:176\u001b[0m, in \u001b[0;36mpandas._libs.index.IndexEngine.get_loc\u001b[0;34m()\u001b[0m\n",
      "File \u001b[0;32mpandas/_libs/hashtable_class_helper.pxi:7080\u001b[0m, in \u001b[0;36mpandas._libs.hashtable.PyObjectHashTable.get_item\u001b[0;34m()\u001b[0m\n",
      "File \u001b[0;32mpandas/_libs/hashtable_class_helper.pxi:7088\u001b[0m, in \u001b[0;36mpandas._libs.hashtable.PyObjectHashTable.get_item\u001b[0;34m()\u001b[0m\n",
      "\u001b[0;31mKeyError\u001b[0m: 'Review'",
      "\nThe above exception was the direct cause of the following exception:\n",
      "\u001b[0;31mKeyError\u001b[0m                                  Traceback (most recent call last)",
      "Cell \u001b[0;32mIn[3], line 1\u001b[0m\n\u001b[0;32m----> 1\u001b[0m pre_processed_train_df \u001b[39m=\u001b[39m basic_preprocessing_data(train_df)\n",
      "File \u001b[0;32m~/code/TechLah/RevuSum/interface/testing.py:105\u001b[0m, in \u001b[0;36mbasic_preprocessing_data\u001b[0;34m(df)\u001b[0m\n\u001b[1;32m     99\u001b[0m \u001b[39mdef\u001b[39;00m \u001b[39mbasic_preprocessing_data\u001b[39m(df):\n\u001b[1;32m    101\u001b[0m \u001b[39m    \u001b[39m\u001b[39m\"\"\"\u001b[39;00m\n\u001b[1;32m    102\u001b[0m \u001b[39m    Applying preprocessing on every sentence in reviews\u001b[39;00m\n\u001b[1;32m    103\u001b[0m \u001b[39m    \"\"\"\u001b[39;00m\n\u001b[0;32m--> 105\u001b[0m     df[\u001b[39m'\u001b[39m\u001b[39mReview\u001b[39m\u001b[39m'\u001b[39m] \u001b[39m=\u001b[39m df[\u001b[39m'\u001b[39;49m\u001b[39mReview\u001b[39;49m\u001b[39m'\u001b[39;49m]\u001b[39m.\u001b[39mapply(preprocessing)\n\u001b[1;32m    107\u001b[0m     \u001b[39mreturn\u001b[39;00m df\n",
      "File \u001b[0;32m~/.pyenv/versions/3.10.6/envs/RevuSum/lib/python3.10/site-packages/pandas/core/frame.py:3761\u001b[0m, in \u001b[0;36mDataFrame.__getitem__\u001b[0;34m(self, key)\u001b[0m\n\u001b[1;32m   3759\u001b[0m \u001b[39mif\u001b[39;00m \u001b[39mself\u001b[39m\u001b[39m.\u001b[39mcolumns\u001b[39m.\u001b[39mnlevels \u001b[39m>\u001b[39m \u001b[39m1\u001b[39m:\n\u001b[1;32m   3760\u001b[0m     \u001b[39mreturn\u001b[39;00m \u001b[39mself\u001b[39m\u001b[39m.\u001b[39m_getitem_multilevel(key)\n\u001b[0;32m-> 3761\u001b[0m indexer \u001b[39m=\u001b[39m \u001b[39mself\u001b[39;49m\u001b[39m.\u001b[39;49mcolumns\u001b[39m.\u001b[39;49mget_loc(key)\n\u001b[1;32m   3762\u001b[0m \u001b[39mif\u001b[39;00m is_integer(indexer):\n\u001b[1;32m   3763\u001b[0m     indexer \u001b[39m=\u001b[39m [indexer]\n",
      "File \u001b[0;32m~/.pyenv/versions/3.10.6/envs/RevuSum/lib/python3.10/site-packages/pandas/core/indexes/base.py:3654\u001b[0m, in \u001b[0;36mIndex.get_loc\u001b[0;34m(self, key)\u001b[0m\n\u001b[1;32m   3652\u001b[0m     \u001b[39mreturn\u001b[39;00m \u001b[39mself\u001b[39m\u001b[39m.\u001b[39m_engine\u001b[39m.\u001b[39mget_loc(casted_key)\n\u001b[1;32m   3653\u001b[0m \u001b[39mexcept\u001b[39;00m \u001b[39mKeyError\u001b[39;00m \u001b[39mas\u001b[39;00m err:\n\u001b[0;32m-> 3654\u001b[0m     \u001b[39mraise\u001b[39;00m \u001b[39mKeyError\u001b[39;00m(key) \u001b[39mfrom\u001b[39;00m \u001b[39merr\u001b[39;00m\n\u001b[1;32m   3655\u001b[0m \u001b[39mexcept\u001b[39;00m \u001b[39mTypeError\u001b[39;00m:\n\u001b[1;32m   3656\u001b[0m     \u001b[39m# If we have a listlike key, _check_indexing_error will raise\u001b[39;00m\n\u001b[1;32m   3657\u001b[0m     \u001b[39m#  InvalidIndexError. Otherwise we fall through and re-raise\u001b[39;00m\n\u001b[1;32m   3658\u001b[0m     \u001b[39m#  the TypeError.\u001b[39;00m\n\u001b[1;32m   3659\u001b[0m     \u001b[39mself\u001b[39m\u001b[39m.\u001b[39m_check_indexing_error(key)\n",
      "\u001b[0;31mKeyError\u001b[0m: 'Review'"
     ]
    }
   ],
   "source": [
    "pre_processed_train_df = basic_preprocessing_data(train_df)"
   ]
  },
  {
   "cell_type": "code",
   "execution_count": 16,
   "metadata": {},
   "outputs": [
    {
     "data": {
      "text/html": [
       "<div>\n",
       "<style scoped>\n",
       "    .dataframe tbody tr th:only-of-type {\n",
       "        vertical-align: middle;\n",
       "    }\n",
       "\n",
       "    .dataframe tbody tr th {\n",
       "        vertical-align: top;\n",
       "    }\n",
       "\n",
       "    .dataframe thead th {\n",
       "        text-align: right;\n",
       "    }\n",
       "</style>\n",
       "<table border=\"1\" class=\"dataframe\">\n",
       "  <thead>\n",
       "    <tr style=\"text-align: right;\">\n",
       "      <th></th>\n",
       "      <th>Review</th>\n",
       "      <th>Label</th>\n",
       "    </tr>\n",
       "  </thead>\n",
       "  <tbody>\n",
       "    <tr>\n",
       "      <th>610301</th>\n",
       "      <td>[can, it, think, of, anything, negative, to, s...</td>\n",
       "      <td>1</td>\n",
       "    </tr>\n",
       "    <tr>\n",
       "      <th>328118</th>\n",
       "      <td>[small, rooms, the, bathroom, is, open, to, th...</td>\n",
       "      <td>0</td>\n",
       "    </tr>\n",
       "    <tr>\n",
       "      <th>370806</th>\n",
       "      <td>[the, shower, holder, came, off, the, wall, it...</td>\n",
       "      <td>0</td>\n",
       "    </tr>\n",
       "    <tr>\n",
       "      <th>398395</th>\n",
       "      <td>[breakfast, was, all, but, gone, so, was, wait...</td>\n",
       "      <td>0</td>\n",
       "    </tr>\n",
       "    <tr>\n",
       "      <th>415999</th>\n",
       "      <td>[all, good]</td>\n",
       "      <td>0</td>\n",
       "    </tr>\n",
       "  </tbody>\n",
       "</table>\n",
       "</div>"
      ],
      "text/plain": [
       "                                                   Review  Label\n",
       "610301  [can, it, think, of, anything, negative, to, s...      1\n",
       "328118  [small, rooms, the, bathroom, is, open, to, th...      0\n",
       "370806  [the, shower, holder, came, off, the, wall, it...      0\n",
       "398395  [breakfast, was, all, but, gone, so, was, wait...      0\n",
       "415999                                        [all, good]      0"
      ]
     },
     "execution_count": 16,
     "metadata": {},
     "output_type": "execute_result"
    }
   ],
   "source": [
    "pre_processed_train_df.head(5)"
   ]
  },
  {
   "cell_type": "code",
   "execution_count": 17,
   "metadata": {},
   "outputs": [
    {
     "data": {
      "text/plain": [
       "list"
      ]
     },
     "execution_count": 17,
     "metadata": {},
     "output_type": "execute_result"
    }
   ],
   "source": [
    "type(pre_processed_train_df.Review[0])"
   ]
  },
  {
   "cell_type": "code",
   "execution_count": 18,
   "metadata": {},
   "outputs": [],
   "source": [
    "filtered_train_df = filter_reviews(pre_processed_train_df)"
   ]
  },
  {
   "cell_type": "code",
   "execution_count": 19,
   "metadata": {},
   "outputs": [
    {
     "data": {
      "text/plain": [
       "list"
      ]
     },
     "execution_count": 19,
     "metadata": {},
     "output_type": "execute_result"
    }
   ],
   "source": [
    "type(filtered_train_df.Review[0])"
   ]
  },
  {
   "cell_type": "code",
   "execution_count": 20,
   "metadata": {},
   "outputs": [
    {
     "name": "stderr",
     "output_type": "stream",
     "text": [
      "/home/jack/code/TechLah/RevuSum/interface/Testing.py:142: SettingWithCopyWarning: \n",
      "A value is trying to be set on a copy of a slice from a DataFrame.\n",
      "Try using .loc[row_indexer,col_indexer] = value instead\n",
      "\n",
      "See the caveats in the documentation: https://pandas.pydata.org/pandas-docs/stable/user_guide/indexing.html#returning-a-view-versus-a-copy\n",
      "  df['Review'] = df['Review'].apply(lemm_reviews)\n",
      "/home/jack/code/TechLah/RevuSum/interface/Testing.py:143: SettingWithCopyWarning: \n",
      "A value is trying to be set on a copy of a slice from a DataFrame.\n",
      "Try using .loc[row_indexer,col_indexer] = value instead\n",
      "\n",
      "See the caveats in the documentation: https://pandas.pydata.org/pandas-docs/stable/user_guide/indexing.html#returning-a-view-versus-a-copy\n",
      "  df['Review'] = df['Review'].apply(lambda x: ' '.join(x))\n"
     ]
    }
   ],
   "source": [
    "lemm_train_df = lemm_data(filtered_train_df)"
   ]
  },
  {
   "cell_type": "code",
   "execution_count": 21,
   "metadata": {},
   "outputs": [
    {
     "data": {
      "text/plain": [
       "str"
      ]
     },
     "execution_count": 21,
     "metadata": {},
     "output_type": "execute_result"
    }
   ],
   "source": [
    "type(lemm_train_df.Review[0]) #list of multiple words as string"
   ]
  },
  {
   "cell_type": "code",
   "execution_count": 22,
   "metadata": {},
   "outputs": [],
   "source": [
    "X = lemm_train_df['Review']\n",
    "y = lemm_train_df['Label']"
   ]
  },
  {
   "cell_type": "code",
   "execution_count": 23,
   "metadata": {},
   "outputs": [
    {
     "data": {
      "text/plain": [
       "('i be so angry that i make this post available via all possible sit i use when plan my trip so no one will make the mistake of book this place i make my book via book com we stay for night in this hotel from to july upon arrival we be place in a small room on the nd floor of the hotel it turn out that this be not the room we book i have specially reserve the level duplex room so that we would have a big window and high ceiling the room itself be ok if you don t mind the break window that can not be close hello rain and a mini fridge that contain some sort of a bio weapon at least i guess so by the smell of it i intimately ask to change the room and after explain time that i book a duplex btw it cost the same a a simple double but get way more volume due to the high ceiling be offer a room but only the next day so i have to check out the next day before o clock in order to get the room i wan to not the best way to begin your holiday so we have to wait till in order to check in my new room what a wonderful waist of my time the room i get be just a i want to peaceful internal garden view big window we be tire from wait the room so we place our belong and rush to the city in the even it turn out that there be a constant noise in the room i guess it be make by vibrate vent tube or something it be constant and annoy a hell and it do not stop even at be make it hard to fall asleep for me and my wife i have an audio record that i can not attach here but if you want i can send it via e mail the next day the technician come but be not able to determine the cause of the disturb sound so i be offer to change the room once again the hotel be fully book and they have only room leave the one that be smaller but seem newer',\n",
       " str)"
      ]
     },
     "execution_count": 23,
     "metadata": {},
     "output_type": "execute_result"
    }
   ],
   "source": [
    "X[0],type(X[0])"
   ]
  },
  {
   "cell_type": "code",
   "execution_count": 24,
   "metadata": {},
   "outputs": [],
   "source": [
    "import pickle\n",
    "with open('lemm_train_df.pkl', 'wb') as file:\n",
    "    pickle.dump(lemm_train_df, file)"
   ]
  },
  {
   "attachments": {},
   "cell_type": "markdown",
   "metadata": {},
   "source": [
    "## Testing TEST DF Pipeline for preprocessing before prediction"
   ]
  },
  {
   "cell_type": "code",
   "execution_count": 4,
   "metadata": {},
   "outputs": [],
   "source": [
    "test_file_path = '~/code/TechLah/RevuSum/data/testing_df.csv'\n",
    "test_hotelreviews = pd.read_csv(test_file_path)\n",
    "test_df = test_hotelreviews.copy()"
   ]
  },
  {
   "cell_type": "code",
   "execution_count": 5,
   "metadata": {},
   "outputs": [
    {
     "data": {
      "text/html": [
       "<div>\n",
       "<style scoped>\n",
       "    .dataframe tbody tr th:only-of-type {\n",
       "        vertical-align: middle;\n",
       "    }\n",
       "\n",
       "    .dataframe tbody tr th {\n",
       "        vertical-align: top;\n",
       "    }\n",
       "\n",
       "    .dataframe thead th {\n",
       "        text-align: right;\n",
       "    }\n",
       "</style>\n",
       "<table border=\"1\" class=\"dataframe\">\n",
       "  <thead>\n",
       "    <tr style=\"text-align: right;\">\n",
       "      <th></th>\n",
       "      <th>Review</th>\n",
       "      <th>Label</th>\n",
       "    </tr>\n",
       "  </thead>\n",
       "  <tbody>\n",
       "    <tr>\n",
       "      <th>14924</th>\n",
       "      <td>Breakfast too expensive</td>\n",
       "      <td>0</td>\n",
       "    </tr>\n",
       "    <tr>\n",
       "      <th>146603</th>\n",
       "      <td>Very nice and clean place in St Germain Frien...</td>\n",
       "      <td>1</td>\n",
       "    </tr>\n",
       "  </tbody>\n",
       "</table>\n",
       "</div>"
      ],
      "text/plain": [
       "                                                   Review  Label\n",
       "14924                             Breakfast too expensive      0\n",
       "146603   Very nice and clean place in St Germain Frien...      1"
      ]
     },
     "execution_count": 5,
     "metadata": {},
     "output_type": "execute_result"
    }
   ],
   "source": [
    "test_df = combine_and_label(test_df)\n",
    "test_df.head(2)"
   ]
  },
  {
   "cell_type": "code",
   "execution_count": 6,
   "metadata": {},
   "outputs": [
    {
     "name": "stderr",
     "output_type": "stream",
     "text": [
      "/home/jack/code/TechLah/RevuSum/interface/testing.py:149: SettingWithCopyWarning: \n",
      "A value is trying to be set on a copy of a slice from a DataFrame.\n",
      "Try using .loc[row_indexer,col_indexer] = value instead\n",
      "\n",
      "See the caveats in the documentation: https://pandas.pydata.org/pandas-docs/stable/user_guide/indexing.html#returning-a-view-versus-a-copy\n",
      "  df['Review'] = df['Review'].apply(lemm_reviews)\n",
      "/home/jack/code/TechLah/RevuSum/interface/testing.py:150: SettingWithCopyWarning: \n",
      "A value is trying to be set on a copy of a slice from a DataFrame.\n",
      "Try using .loc[row_indexer,col_indexer] = value instead\n",
      "\n",
      "See the caveats in the documentation: https://pandas.pydata.org/pandas-docs/stable/user_guide/indexing.html#returning-a-view-versus-a-copy\n",
      "  df['Review'] = df['Review'].apply(lambda x: ' '.join(x))\n"
     ]
    }
   ],
   "source": [
    "#Preprocessing the testing dataframe\n",
    "\n",
    "pre_processed_test_df = basic_preprocessing_data(test_df)\n",
    "filtered_test_df = filter_reviews(pre_processed_test_df)\n",
    "lemm_test_df = lemm_data(filtered_test_df)"
   ]
  },
  {
   "cell_type": "code",
   "execution_count": 109,
   "metadata": {},
   "outputs": [],
   "source": [
    "import pickle\n",
    "with open('lemm_test_df.pkl', 'wb') as file:\n",
    "    pickle.dump(lemm_test_df, file)"
   ]
  },
  {
   "cell_type": "code",
   "execution_count": 3,
   "metadata": {},
   "outputs": [
    {
     "data": {
      "text/plain": [
       "'/home/jack/code/TechLah/RevuSum/notebook'"
      ]
     },
     "execution_count": 3,
     "metadata": {},
     "output_type": "execute_result"
    }
   ],
   "source": [
    "pwd"
   ]
  },
  {
   "cell_type": "code",
   "execution_count": 110,
   "metadata": {},
   "outputs": [],
   "source": [
    "#Import model\n",
    "\n",
    "import pickle\n",
    "\n",
    "# Load the model from the file\n",
    "with open('hash_nb_model(92%).pkl', 'rb') as file:\n",
    "    hash_nb_model = pickle.load(file)"
   ]
  },
  {
   "cell_type": "code",
   "execution_count": 111,
   "metadata": {},
   "outputs": [],
   "source": [
    "#Validation data split\n",
    "\n",
    "test_X = lemm_test_df['Review']\n",
    "test_y = lemm_test_df['Label']"
   ]
  },
  {
   "cell_type": "code",
   "execution_count": 112,
   "metadata": {},
   "outputs": [
    {
     "data": {
      "text/plain": [
       "(142649       excellent friendly and helpful staff comfy bed\n",
       " 98656         bed be comfortable and the breakfast be tasty\n",
       " 136019    the location be fantastic easy access to every...\n",
       " 11865     the room be date and tire dark colour in room ...\n",
       " 89821         great location lovely view lovely shower room\n",
       "                                 ...                        \n",
       " 125995             very friendly staff and a very nice room\n",
       " 7729                    location far from activity bad view\n",
       " 71026     i really enjoy the hotel but if you be need to...\n",
       " 152565    brand new hotel the room be very modern and ve...\n",
       " 95817     there be nothing to like about this place exce...\n",
       " Name: Review, Length: 109027, dtype: object,\n",
       " pandas.core.series.Series)"
      ]
     },
     "execution_count": 112,
     "metadata": {},
     "output_type": "execute_result"
    }
   ],
   "source": [
    "test_X,type(test_X)"
   ]
  },
  {
   "cell_type": "code",
   "execution_count": 113,
   "metadata": {},
   "outputs": [
    {
     "name": "stdout",
     "output_type": "stream",
     "text": [
      "Test Accuracy: 0.9240004769460776\n"
     ]
    }
   ],
   "source": [
    "from sklearn.metrics import accuracy_score\n",
    "\n",
    "#Validation data prediction\n",
    "\n",
    "test_y_pred = hash_nb_model.predict(test_X)\n",
    "test_accuracy = accuracy_score(test_y, test_y_pred)\n",
    "print(\"Test Accuracy:\", test_accuracy)"
   ]
  },
  {
   "cell_type": "code",
   "execution_count": 114,
   "metadata": {},
   "outputs": [
    {
     "data": {
      "text/plain": [
       "142649       excellent friendly and helpful staff comfy bed\n",
       "98656         bed be comfortable and the breakfast be tasty\n",
       "136019    the location be fantastic easy access to every...\n",
       "11865     the room be date and tire dark colour in room ...\n",
       "89821         great location lovely view lovely shower room\n",
       "                                ...                        \n",
       "125995             very friendly staff and a very nice room\n",
       "7729                    location far from activity bad view\n",
       "71026     i really enjoy the hotel but if you be need to...\n",
       "152565    brand new hotel the room be very modern and ve...\n",
       "95817     there be nothing to like about this place exce...\n",
       "Name: Review, Length: 109027, dtype: object"
      ]
     },
     "execution_count": 114,
     "metadata": {},
     "output_type": "execute_result"
    }
   ],
   "source": [
    "test_X"
   ]
  },
  {
   "cell_type": "code",
   "execution_count": 122,
   "metadata": {},
   "outputs": [],
   "source": [
    "test_y_pred1 = pd.Series(test_y_pred)"
   ]
  },
  {
   "cell_type": "code",
   "execution_count": 124,
   "metadata": {},
   "outputs": [
    {
     "data": {
      "text/plain": [
       "(pandas.core.series.Series,\n",
       " pandas.core.series.Series,\n",
       " pandas.core.series.Series)"
      ]
     },
     "execution_count": 124,
     "metadata": {},
     "output_type": "execute_result"
    }
   ],
   "source": [
    "type(test_X),type(test_y_pred1),type(test_y)"
   ]
  },
  {
   "cell_type": "code",
   "execution_count": 160,
   "metadata": {},
   "outputs": [
    {
     "data": {
      "text/plain": [
       "0"
      ]
     },
     "execution_count": 160,
     "metadata": {},
     "output_type": "execute_result"
    }
   ],
   "source": [
    "test_y_pred1.isnull().sum()"
   ]
  },
  {
   "cell_type": "code",
   "execution_count": 161,
   "metadata": {},
   "outputs": [],
   "source": [
    "check = pd.concat([test_X, test_y], axis=1,ignore_index=True)"
   ]
  },
  {
   "cell_type": "code",
   "execution_count": 165,
   "metadata": {},
   "outputs": [],
   "source": [
    "check.to_csv('check.csv', index=False)\n",
    "test_y_pred1.to_csv('test_y_pred.csv', index=False)"
   ]
  },
  {
   "cell_type": "code",
   "execution_count": 170,
   "metadata": {},
   "outputs": [
    {
     "name": "stdout",
     "output_type": "stream",
     "text": [
      "[[0.52807103 0.47192897]\n",
      " [0.62871447 0.37128553]\n",
      " [0.52532597 0.47467403]\n",
      " ...\n",
      " [0.44127507 0.55872493]\n",
      " [0.56461368 0.43538632]\n",
      " [0.42605506 0.57394494]]\n"
     ]
    }
   ],
   "source": [
    "# Make predictions on the entire dataset\n",
    "predicted_labels = hash_nb_model.predict(test_X)\n",
    "predicted_probabilities = hash_nb_model.predict_proba(test_X)\n",
    "\n",
    "# Filter incorrect predictions\n",
    "incorrect_predictions = predicted_labels != test_y\n",
    "\n",
    "# Get predicted probabilities for incorrect predictions\n",
    "incorrect_probabilities = predicted_probabilities[incorrect_predictions]\n",
    "\n",
    "print(incorrect_probabilities)"
   ]
  },
  {
   "cell_type": "code",
   "execution_count": 177,
   "metadata": {},
   "outputs": [],
   "source": [
    "# Create a DataFrame with the incorrect predictions and probabilities\n",
    "incorrect_df = pd.DataFrame(predicted_probabilities[incorrect_predictions],\n",
    "                            columns=['Incorrect_Probability_0', 'Incorrect_Probability_1'])\n",
    "incorrect_df.insert(0, 'Data', test_X[incorrect_predictions].values)\n"
   ]
  },
  {
   "cell_type": "code",
   "execution_count": 178,
   "metadata": {},
   "outputs": [
    {
     "data": {
      "text/html": [
       "<div>\n",
       "<style scoped>\n",
       "    .dataframe tbody tr th:only-of-type {\n",
       "        vertical-align: middle;\n",
       "    }\n",
       "\n",
       "    .dataframe tbody tr th {\n",
       "        vertical-align: top;\n",
       "    }\n",
       "\n",
       "    .dataframe thead th {\n",
       "        text-align: right;\n",
       "    }\n",
       "</style>\n",
       "<table border=\"1\" class=\"dataframe\">\n",
       "  <thead>\n",
       "    <tr style=\"text-align: right;\">\n",
       "      <th></th>\n",
       "      <th>Data</th>\n",
       "      <th>Incorrect_Probability_0</th>\n",
       "      <th>Incorrect_Probability_1</th>\n",
       "    </tr>\n",
       "  </thead>\n",
       "  <tbody>\n",
       "    <tr>\n",
       "      <th>0</th>\n",
       "      <td>it s be a while since i stay in the villa mail...</td>\n",
       "      <td>0.528071</td>\n",
       "      <td>0.471929</td>\n",
       "    </tr>\n",
       "    <tr>\n",
       "      <th>1</th>\n",
       "      <td>the breakfast be not bad</td>\n",
       "      <td>0.628714</td>\n",
       "      <td>0.371286</td>\n",
       "    </tr>\n",
       "    <tr>\n",
       "      <th>2</th>\n",
       "      <td>i have the classic room it be more than ok com...</td>\n",
       "      <td>0.525326</td>\n",
       "      <td>0.474674</td>\n",
       "    </tr>\n",
       "    <tr>\n",
       "      <th>3</th>\n",
       "      <td>internet service be very very bad</td>\n",
       "      <td>0.492691</td>\n",
       "      <td>0.507309</td>\n",
       "    </tr>\n",
       "    <tr>\n",
       "      <th>4</th>\n",
       "      <td>i dont like be overcharge for hotel in milan d...</td>\n",
       "      <td>0.497870</td>\n",
       "      <td>0.502130</td>\n",
       "    </tr>\n",
       "    <tr>\n",
       "      <th>...</th>\n",
       "      <td>...</td>\n",
       "      <td>...</td>\n",
       "      <td>...</td>\n",
       "    </tr>\n",
       "    <tr>\n",
       "      <th>8281</th>\n",
       "      <td>the staff be mostly rude snd the amenity be poor</td>\n",
       "      <td>0.531511</td>\n",
       "      <td>0.468489</td>\n",
       "    </tr>\n",
       "    <tr>\n",
       "      <th>8282</th>\n",
       "      <td>very impersonal decoration facility staff over...</td>\n",
       "      <td>0.428882</td>\n",
       "      <td>0.571118</td>\n",
       "    </tr>\n",
       "    <tr>\n",
       "      <th>8283</th>\n",
       "      <td>coffee for breakfast be not very good</td>\n",
       "      <td>0.441275</td>\n",
       "      <td>0.558725</td>\n",
       "    </tr>\n",
       "    <tr>\n",
       "      <th>8284</th>\n",
       "      <td>spacious room but small bathroom for the money...</td>\n",
       "      <td>0.564614</td>\n",
       "      <td>0.435386</td>\n",
       "    </tr>\n",
       "    <tr>\n",
       "      <th>8285</th>\n",
       "      <td>location far from activity bad view</td>\n",
       "      <td>0.426055</td>\n",
       "      <td>0.573945</td>\n",
       "    </tr>\n",
       "  </tbody>\n",
       "</table>\n",
       "<p>8286 rows × 3 columns</p>\n",
       "</div>"
      ],
      "text/plain": [
       "                                                   Data  \\\n",
       "0     it s be a while since i stay in the villa mail...   \n",
       "1                              the breakfast be not bad   \n",
       "2     i have the classic room it be more than ok com...   \n",
       "3                     internet service be very very bad   \n",
       "4     i dont like be overcharge for hotel in milan d...   \n",
       "...                                                 ...   \n",
       "8281   the staff be mostly rude snd the amenity be poor   \n",
       "8282  very impersonal decoration facility staff over...   \n",
       "8283              coffee for breakfast be not very good   \n",
       "8284  spacious room but small bathroom for the money...   \n",
       "8285                location far from activity bad view   \n",
       "\n",
       "      Incorrect_Probability_0  Incorrect_Probability_1  \n",
       "0                    0.528071                 0.471929  \n",
       "1                    0.628714                 0.371286  \n",
       "2                    0.525326                 0.474674  \n",
       "3                    0.492691                 0.507309  \n",
       "4                    0.497870                 0.502130  \n",
       "...                       ...                      ...  \n",
       "8281                 0.531511                 0.468489  \n",
       "8282                 0.428882                 0.571118  \n",
       "8283                 0.441275                 0.558725  \n",
       "8284                 0.564614                 0.435386  \n",
       "8285                 0.426055                 0.573945  \n",
       "\n",
       "[8286 rows x 3 columns]"
      ]
     },
     "execution_count": 178,
     "metadata": {},
     "output_type": "execute_result"
    }
   ],
   "source": [
    "incorrect_df"
   ]
  },
  {
   "cell_type": "code",
   "execution_count": 179,
   "metadata": {},
   "outputs": [],
   "source": [
    "incorrect_df.to_csv('incorrect_df.csv', index=False)"
   ]
  },
  {
   "cell_type": "code",
   "execution_count": 182,
   "metadata": {},
   "outputs": [
    {
     "name": "stdout",
     "output_type": "stream",
     "text": [
      "Percentage of wrong predictions for negative: 11.42%\n",
      "Percentage of wrong predictions for positive: 0.00%\n"
     ]
    }
   ],
   "source": [
    "# Calculate the percentage of wrong predictions for class 0\n",
    "wrong_predictions_0 = (predicted_labels[(test_y == 0) & (predicted_labels != test_y)]).sum() / (test_y == 0).sum() * 100\n",
    "\n",
    "# Calculate the percentage of wrong predictions for class 1\n",
    "wrong_predictions_1 = (predicted_labels[(test_y == 1) & (predicted_labels != test_y)]).sum() / (test_y == 1).sum() * 100\n",
    "\n",
    "print(\"Percentage of wrong predictions for negative: {:.2f}%\".format(wrong_predictions_0))\n",
    "print(\"Percentage of wrong predictions for positive: {:.2f}%\".format(wrong_predictions_1))"
   ]
  },
  {
   "attachments": {},
   "cell_type": "markdown",
   "metadata": {},
   "source": [
    "## Adjusting threshold"
   ]
  },
  {
   "cell_type": "code",
   "execution_count": null,
   "metadata": {},
   "outputs": [],
   "source": [
    "# Set the threshold value\n",
    "threshold = 0.6\n",
    "\n",
    "# Adjust predictions based on threshold\n",
    "adjusted_predictions = np.where(predicted_probabilities[:, 1] >= threshold, 1, 0)\n",
    "\n",
    "print(adjusted_predictions)"
   ]
  },
  {
   "attachments": {},
   "cell_type": "markdown",
   "metadata": {},
   "source": [
    "## Testing the Prediction all combine function"
   ]
  },
  {
   "cell_type": "code",
   "execution_count": 198,
   "metadata": {},
   "outputs": [
    {
     "name": "stdout",
     "output_type": "stream",
     "text": [
      "reading csv = 0.185secs\n",
      "preprocess dataframe = 18.621secs\n",
      "importing model = 0.0secs\n",
      "predicting takes = 0.814secs\n"
     ]
    }
   ],
   "source": [
    "pred_y, test_y = prediction_all_in_one('~/code/TechLah/RevuSum/data/testing_df.csv')"
   ]
  },
  {
   "cell_type": "code",
   "execution_count": 194,
   "metadata": {},
   "outputs": [
    {
     "data": {
      "text/plain": [
       "array([0, 0, 1, ..., 1, 1, 1])"
      ]
     },
     "execution_count": 194,
     "metadata": {},
     "output_type": "execute_result"
    }
   ],
   "source": [
    "pred_y"
   ]
  },
  {
   "cell_type": "code",
   "execution_count": 193,
   "metadata": {},
   "outputs": [
    {
     "data": {
      "text/plain": [
       "22999     0\n",
       "18863     0\n",
       "108429    1\n",
       "88233     1\n",
       "125032    1\n",
       "         ..\n",
       "101392    1\n",
       "149854    1\n",
       "97769     1\n",
       "35173     0\n",
       "137513    1\n",
       "Name: Label, Length: 109027, dtype: int64"
      ]
     },
     "execution_count": 193,
     "metadata": {},
     "output_type": "execute_result"
    }
   ],
   "source": [
    "test_y"
   ]
  },
  {
   "attachments": {},
   "cell_type": "markdown",
   "metadata": {},
   "source": [
    "## Testing the splitup function\n"
   ]
  },
  {
   "cell_type": "code",
   "execution_count": 203,
   "metadata": {},
   "outputs": [
    {
     "name": "stdout",
     "output_type": "stream",
     "text": [
      "reading csv = 0.198secs\n",
      "preprocess dataframe = 19.623secs\n"
     ]
    }
   ],
   "source": [
    "preprocessed_df = preprocess_of_test_data('~/code/TechLah/RevuSum/data/testing_df.csv')"
   ]
  },
  {
   "cell_type": "code",
   "execution_count": 204,
   "metadata": {},
   "outputs": [
    {
     "name": "stdout",
     "output_type": "stream",
     "text": [
      "importing model = 0.0secs\n",
      "predicting outcome = 0.832secs\n"
     ]
    }
   ],
   "source": [
    "pred_y, test_y = prediction_of_test_data(preprocessed_df)"
   ]
  },
  {
   "cell_type": "code",
   "execution_count": 7,
   "metadata": {},
   "outputs": [
    {
     "data": {
      "text/plain": [
       "[('room', 1.5238986356059753e-08),\n",
       " ('hotel', 3.808797675905236e-08),\n",
       " ('staff', 4.070837615346035e-08),\n",
       " ('location', 8.003753294889305e-08),\n",
       " ('breakfast', 1.2350946810083665e-07)]"
      ]
     },
     "execution_count": 7,
     "metadata": {},
     "output_type": "execute_result"
    }
   ],
   "source": [
    "from ml_logic.sentiment_analysis import keywordextracter,calculate_percentage\n",
    "\n",
    "mega_words =keywordextracter(lemm_test_df)"
   ]
  },
  {
   "cell_type": "code",
   "execution_count": null,
   "metadata": {},
   "outputs": [],
   "source": [
    "\n",
    "\n",
    "calculate_percentage(lemm_test_df,keywordlist)"
   ]
  }
 ],
 "metadata": {
  "kernelspec": {
   "display_name": "RevuSum",
   "language": "python",
   "name": "python3"
  },
  "language_info": {
   "codemirror_mode": {
    "name": "ipython",
    "version": 3
   },
   "file_extension": ".py",
   "mimetype": "text/x-python",
   "name": "python",
   "nbconvert_exporter": "python",
   "pygments_lexer": "ipython3",
   "version": "3.10.6"
  },
  "orig_nbformat": 4
 },
 "nbformat": 4,
 "nbformat_minor": 2
}
