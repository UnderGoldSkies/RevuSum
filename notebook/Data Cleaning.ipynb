{
 "cells": [
  {
   "cell_type": "code",
   "execution_count": 4,
   "metadata": {},
   "outputs": [],
   "source": [
    "import pandas as pd\n",
    "import numpy as np\n",
    "import sys\n",
    "sys.path.append('/home/jack/code/TechLah/RevuSum')\n",
    "from interface.Main import preprocessing_keep_stopwords, preprocessing_remove_stopwords, cleaning, combine_and_label"
   ]
  },
  {
   "cell_type": "code",
   "execution_count": 5,
   "metadata": {},
   "outputs": [],
   "source": [
    "file_path = '~/code/TechLah/RevuSum/data/Hotel_Reviews.csv'\n",
    "hotelreviews = pd.read_csv(file_path)\n",
    "df = hotelreviews.copy()"
   ]
  },
  {
   "cell_type": "code",
   "execution_count": 6,
   "metadata": {},
   "outputs": [
    {
     "data": {
      "text/plain": [
       "((1031476, 2), (1031476, 2))"
      ]
     },
     "execution_count": 6,
     "metadata": {},
     "output_type": "execute_result"
    }
   ],
   "source": [
    "#Keep StopWords\n",
    "clean_negative_kswdf, clean_positive_kswdf = cleaning(df, preprocessing_keep_stopwords)\n",
    "processed_kswdf = combine_and_label(clean_negative_kswdf, clean_positive_kswdf)\n",
    "\n",
    "#Remove StopWords\n",
    "clean_negative_rswdf, clean_positive_rswdf = cleaning(df, preprocessing_remove_stopwords)\n",
    "processed_rswdf = combine_and_label(clean_negative_rswdf, clean_positive_rswdf)\n",
    "\n",
    "processed_kswdf.shape,processed_rswdf.shape"
   ]
  },
  {
   "cell_type": "code",
   "execution_count": 7,
   "metadata": {},
   "outputs": [],
   "source": [
    "ksw_csv_file_path = '~/code/TechLah/RevuSum/data/processed_kswdf.csv'\n",
    "processed_kswdf.to_csv(ksw_csv_file_path, index=False)\n",
    "\n",
    "rsw_csv_file_path = '~/code/TechLah/RevuSum/data/processed_rswdf.csv'\n",
    "processed_rswdf.to_csv(rsw_csv_file_path, index=False)"
   ]
  }
 ],
 "metadata": {
  "kernelspec": {
   "display_name": "RevuSum",
   "language": "python",
   "name": "python3"
  },
  "language_info": {
   "codemirror_mode": {
    "name": "ipython",
    "version": 3
   },
   "file_extension": ".py",
   "mimetype": "text/x-python",
   "name": "python",
   "nbconvert_exporter": "python",
   "pygments_lexer": "ipython3",
   "version": "3.10.6"
  },
  "orig_nbformat": 4
 },
 "nbformat": 4,
 "nbformat_minor": 2
}
