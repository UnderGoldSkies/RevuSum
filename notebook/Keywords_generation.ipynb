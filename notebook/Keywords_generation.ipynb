{
 "cells": [
  {
   "cell_type": "code",
   "execution_count": 37,
   "metadata": {},
   "outputs": [],
   "source": [
    "import pandas as pd\n",
    "import numpy as np\n",
    "import sys\n",
    "import pickle\n",
    "import yake\n",
    "sys.path.append('/home/jack/code/TechLah/RevuSum')\n",
    "from interface.main import combine_and_label, basic_preprocessing_data,filter_reviews,lemm_data,test_preprocessing"
   ]
  },
  {
   "cell_type": "code",
   "execution_count": 38,
   "metadata": {},
   "outputs": [],
   "source": [
    "test_df = pd.read_pickle(\"../data/cleaned_test_data_5.pkl\")"
   ]
  },
  {
   "cell_type": "code",
   "execution_count": 41,
   "metadata": {},
   "outputs": [
    {
     "data": {
      "text/plain": [
       "array(['Holiday Inn Express Singapore Katong, an IHG Hotel',\n",
       "       'Ibis Budget Singapore Pearl', 'ibis Styles Singapore Albert',\n",
       "       'Village Hotel Albert Court by Far East Hospitality',\n",
       "       'lyf Farrer Park Singapore'], dtype=object)"
      ]
     },
     "execution_count": 41,
     "metadata": {},
     "output_type": "execute_result"
    }
   ],
   "source": [
    "test_df.Hotel_Name.unique()"
   ]
  },
  {
   "cell_type": "code",
   "execution_count": 64,
   "metadata": {},
   "outputs": [],
   "source": [
    "filtered_df = test_df[test_df.Hotel_Name == \"lyf Farrer Park Singapore\"]"
   ]
  },
  {
   "cell_type": "code",
   "execution_count": 65,
   "metadata": {},
   "outputs": [
    {
     "data": {
      "text/plain": [
       "Index(['Review_Date', 'Positive_Review', 'Negative_Review', 'Hotel_Name'], dtype='object')"
      ]
     },
     "execution_count": 65,
     "metadata": {},
     "output_type": "execute_result"
    }
   ],
   "source": [
    "filtered_df.columns"
   ]
  },
  {
   "cell_type": "code",
   "execution_count": 66,
   "metadata": {},
   "outputs": [],
   "source": [
    "#Preprocessing the testing dataframe\\\n",
    "\n",
    "filtered_df = combine_and_label(filtered_df)\n",
    "pre_processed_test_df = basic_preprocessing_data(filtered_df)\n",
    "lemm_test_df = lemm_data(pre_processed_test_df)"
   ]
  },
  {
   "cell_type": "code",
   "execution_count": 88,
   "metadata": {},
   "outputs": [],
   "source": [
    "from nltk.corpus import stopwords\n",
    "import yake\n",
    "\n",
    "stopwords_list = stopwords.words('english')\n",
    "# Append new words to the stopwords list\n",
    "custom_words = ['good', 'bad', 'nice', 'small', 'little']\n",
    "stopwords_list.extend(custom_words)\n",
    "\n"
   ]
  },
  {
   "cell_type": "code",
   "execution_count": 89,
   "metadata": {},
   "outputs": [],
   "source": [
    "# Assuming you have a DataFrame named lemm_test_df with a column 'Review'\n",
    "mega_list = lemm_test_df['Review'].tolist()\n",
    "combined_string = ''.join(mega_list)"
   ]
  },
  {
   "cell_type": "code",
   "execution_count": 90,
   "metadata": {},
   "outputs": [
    {
     "data": {
      "text/plain": [
       "[('room', 1.5816434339595078e-05),\n",
       " ('clean', 5.64666435718497e-05),\n",
       " ('location', 8.670851410023029e-05),\n",
       " ('staff', 0.00010072892363369015),\n",
       " ('mrt', 0.00012326952860991473)]"
      ]
     },
     "execution_count": 90,
     "metadata": {},
     "output_type": "execute_result"
    }
   ],
   "source": [
    "kw_extractor = yake.KeywordExtractor(top=5, stopwords=stopwords_list, windowsSize=1,n=1)\n",
    "mega_list = lemm_test_df['Review'].tolist()\n",
    "combined_string = ''.join(mega_list)\n",
    "mega_words = kw_extractor.extract_keywords(combined_string)\n",
    "mega_words"
   ]
  },
  {
   "cell_type": "code",
   "execution_count": null,
   "metadata": {},
   "outputs": [],
   "source": []
  }
 ],
 "metadata": {
  "kernelspec": {
   "display_name": "RevuSum",
   "language": "python",
   "name": "python3"
  },
  "language_info": {
   "codemirror_mode": {
    "name": "ipython",
    "version": 3
   },
   "file_extension": ".py",
   "mimetype": "text/x-python",
   "name": "python",
   "nbconvert_exporter": "python",
   "pygments_lexer": "ipython3",
   "version": "3.10.6"
  },
  "orig_nbformat": 4
 },
 "nbformat": 4,
 "nbformat_minor": 2
}
