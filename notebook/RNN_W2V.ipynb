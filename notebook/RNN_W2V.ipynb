{
 "cells": [
  {
   "cell_type": "code",
   "execution_count": 23,
   "metadata": {},
   "outputs": [],
   "source": [
    "import pandas as pd\n",
    "import numpy as np\n",
    "import gensim.downloader as api\n",
    "import ast\n",
    "from sklearn.model_selection import train_test_split\n",
    "from tensorflow.keras import Sequential, layers\n",
    "from tensorflow.keras.preprocessing.sequence import pad_sequences\n",
    "from tensorflow.keras.callbacks import EarlyStopping"
   ]
  },
  {
   "cell_type": "code",
   "execution_count": 24,
   "metadata": {},
   "outputs": [],
   "source": [
    "file_path = '~/code/TechLah/RevuSum/data/processed_kswdf.csv'\n",
    "hotelreviews = pd.read_csv(file_path)\n",
    "df = hotelreviews.copy()"
   ]
  },
  {
   "cell_type": "code",
   "execution_count": 25,
   "metadata": {},
   "outputs": [
    {
     "data": {
      "text/plain": [
       "Label\n",
       "0    10000\n",
       "1    10000\n",
       "Name: count, dtype: int64"
      ]
     },
     "execution_count": 25,
     "metadata": {},
     "output_type": "execute_result"
    }
   ],
   "source": [
    "df = df.groupby('Label', group_keys=False).apply(lambda x: x.sample(10000))\n",
    "df['Label'].value_counts()"
   ]
  },
  {
   "cell_type": "code",
   "execution_count": 26,
   "metadata": {},
   "outputs": [],
   "source": [
    "X = df['Review']\n",
    "X = [ast.literal_eval(string) for string in X]\n",
    "y = df['Label']\n",
    "\n",
    "X_train, X_test, y_train, y_test = train_test_split(X,y, shuffle=True,test_size=0.3,random_state=1)"
   ]
  },
  {
   "attachments": {},
   "cell_type": "markdown",
   "metadata": {},
   "source": [
    "## Tried using pre-trained model (Word2Vec) instead"
   ]
  },
  {
   "cell_type": "code",
   "execution_count": 27,
   "metadata": {},
   "outputs": [
    {
     "name": "stdout",
     "output_type": "stream",
     "text": [
      "['fasttext-wiki-news-subwords-300', 'conceptnet-numberbatch-17-06-300', 'word2vec-ruscorpora-300', 'word2vec-google-news-300', 'glove-wiki-gigaword-50', 'glove-wiki-gigaword-100', 'glove-wiki-gigaword-200', 'glove-wiki-gigaword-300', 'glove-twitter-25', 'glove-twitter-50', 'glove-twitter-100', 'glove-twitter-200', '__testing_word2vec-matrix-synopsis']\n"
     ]
    }
   ],
   "source": [
    "print(list(api.info()['models'].keys()))"
   ]
  },
  {
   "cell_type": "code",
   "execution_count": 28,
   "metadata": {},
   "outputs": [],
   "source": [
    "word2vec_model = api.load(\"glove-wiki-gigaword-50\")"
   ]
  },
  {
   "cell_type": "code",
   "execution_count": 29,
   "metadata": {},
   "outputs": [],
   "source": [
    "# Function to convert a sentence (list of words) into a matrix representing the words in the embedding space\n",
    "def embed_sentence_with_TF(word2vec, sentence):\n",
    "    embedded_sentence = []\n",
    "    for word in sentence:\n",
    "        if word in word2vec:\n",
    "            embedded_sentence.append(word2vec[word])\n",
    "        \n",
    "    return np.array(embedded_sentence)\n",
    "\n",
    "# Function that converts a list of sentences into a list of matrices\n",
    "def embedding(word2vec, sentences):\n",
    "    embed = []\n",
    "    \n",
    "    for sentence in sentences:\n",
    "        embedded_sentence = embed_sentence_with_TF(word2vec, sentence)\n",
    "        embed.append(embedded_sentence)\n",
    "        \n",
    "    return embed"
   ]
  },
  {
   "cell_type": "code",
   "execution_count": 30,
   "metadata": {},
   "outputs": [],
   "source": [
    "# Embed the training and test sentences\n",
    "X_train_embed = embedding(word2vec_model, X_train)\n",
    "X_test_embed = embedding(word2vec_model, X_test)\n"
   ]
  },
  {
   "cell_type": "code",
   "execution_count": 31,
   "metadata": {},
   "outputs": [],
   "source": [
    "max_train_length = max(len(lst) for lst in X_train_embed)\n",
    "max_test_length = max(len(lst) for lst in X_test_embed)\n",
    "maxlen = max(max_train_length,max_test_length)"
   ]
  },
  {
   "cell_type": "code",
   "execution_count": 32,
   "metadata": {},
   "outputs": [],
   "source": [
    "# Pad the training and test embedded sentences\n",
    "X_train_emb_pad = pad_sequences(X_train_embed, dtype='float16', padding='post', maxlen=maxlen)\n",
    "X_test_emb_pad = pad_sequences(X_test_embed, dtype='float16', padding='post', maxlen=maxlen)"
   ]
  },
  {
   "cell_type": "code",
   "execution_count": 33,
   "metadata": {},
   "outputs": [
    {
     "name": "stderr",
     "output_type": "stream",
     "text": [
      "2023-06-22 14:20:24.725587: I tensorflow/compiler/xla/stream_executor/cuda/cuda_gpu_executor.cc:982] could not open file to read NUMA node: /sys/bus/pci/devices/0000:01:00.0/numa_node\n",
      "Your kernel may have been built without NUMA support.\n",
      "2023-06-22 14:20:24.725917: W tensorflow/core/common_runtime/gpu/gpu_device.cc:1956] Cannot dlopen some GPU libraries. Please make sure the missing libraries mentioned above are installed properly if you would like to use GPU. Follow the guide at https://www.tensorflow.org/install/gpu for how to download and setup the required libraries for your platform.\n",
      "Skipping registering GPU devices...\n"
     ]
    }
   ],
   "source": [
    "def init_model():\n",
    "    model = Sequential()\n",
    "    model.add(layers.Masking())\n",
    "    model.add(layers.LSTM(20, activation='tanh'))\n",
    "    model.add(layers.Dense(15, activation='relu'))\n",
    "    model.add(layers.Dense(1, activation='sigmoid'))\n",
    "\n",
    "    model.compile(loss='binary_crossentropy',\n",
    "                  optimizer='rmsprop',\n",
    "                  metrics=['accuracy'])\n",
    "    \n",
    "    return model"
   ]
  },
  {
   "cell_type": "code",
   "execution_count": 34,
   "metadata": {},
   "outputs": [
    {
     "name": "stdout",
     "output_type": "stream",
     "text": [
      "Epoch 1/10\n",
      "307/307 [==============================] - 31s 93ms/step - loss: 0.4396 - accuracy: 0.7946 - val_loss: 0.2854 - val_accuracy: 0.8886\n",
      "Epoch 2/10\n",
      "307/307 [==============================] - 27s 88ms/step - loss: 0.2710 - accuracy: 0.8917 - val_loss: 0.2447 - val_accuracy: 0.9021\n",
      "Epoch 3/10\n",
      "307/307 [==============================] - 26s 86ms/step - loss: 0.2381 - accuracy: 0.9066 - val_loss: 0.2163 - val_accuracy: 0.9171\n",
      "Epoch 4/10\n",
      "307/307 [==============================] - 27s 89ms/step - loss: 0.2144 - accuracy: 0.9165 - val_loss: 0.3039 - val_accuracy: 0.8690\n",
      "Epoch 5/10\n",
      "307/307 [==============================] - 27s 88ms/step - loss: 0.2011 - accuracy: 0.9208 - val_loss: 0.2050 - val_accuracy: 0.9207\n",
      "Epoch 6/10\n",
      "307/307 [==============================] - 27s 89ms/step - loss: 0.1931 - accuracy: 0.9260 - val_loss: 0.1937 - val_accuracy: 0.9264\n",
      "Epoch 7/10\n",
      "307/307 [==============================] - 27s 87ms/step - loss: 0.1820 - accuracy: 0.9301 - val_loss: 0.1852 - val_accuracy: 0.9302\n",
      "Epoch 8/10\n",
      "307/307 [==============================] - 28s 91ms/step - loss: 0.1757 - accuracy: 0.9330 - val_loss: 0.1905 - val_accuracy: 0.9255\n",
      "Epoch 9/10\n",
      "307/307 [==============================] - 28s 92ms/step - loss: 0.1677 - accuracy: 0.9368 - val_loss: 0.1963 - val_accuracy: 0.9293\n",
      "Epoch 10/10\n",
      "307/307 [==============================] - 28s 90ms/step - loss: 0.1636 - accuracy: 0.9397 - val_loss: 0.2480 - val_accuracy: 0.9114\n"
     ]
    },
    {
     "data": {
      "text/plain": [
       "<keras.callbacks.History at 0x7efcaee21630>"
      ]
     },
     "execution_count": 34,
     "metadata": {},
     "output_type": "execute_result"
    }
   ],
   "source": [
    "es = EarlyStopping(patience=5, restore_best_weights=True)\n",
    "\n",
    "model = init_model()\n",
    "\n",
    "model.fit(X_train_emb_pad, y_train, \n",
    "          batch_size = 32,\n",
    "          epochs=10,\n",
    "          validation_split=0.3,\n",
    "          callbacks=[es]\n",
    "         )"
   ]
  },
  {
   "cell_type": "code",
   "execution_count": 35,
   "metadata": {},
   "outputs": [
    {
     "name": "stdout",
     "output_type": "stream",
     "text": [
      "The accuracy evaluated on the test set is of 90.583%\n"
     ]
    }
   ],
   "source": [
    "res = model.evaluate(X_test_emb_pad, y_test, verbose=0)\n",
    "\n",
    "print(f'The accuracy evaluated on the test set is of {res[1]*100:.3f}%')"
   ]
  }
 ],
 "metadata": {
  "kernelspec": {
   "display_name": "RevuSum",
   "language": "python",
   "name": "python3"
  },
  "language_info": {
   "codemirror_mode": {
    "name": "ipython",
    "version": 3
   },
   "file_extension": ".py",
   "mimetype": "text/x-python",
   "name": "python",
   "nbconvert_exporter": "python",
   "pygments_lexer": "ipython3",
   "version": "3.10.6"
  },
  "orig_nbformat": 4
 },
 "nbformat": 4,
 "nbformat_minor": 2
}
